{
  "nbformat": 4,
  "nbformat_minor": 0,
  "metadata": {
    "colab": {
      "provenance": []
    },
    "kernelspec": {
      "name": "python3",
      "display_name": "Python 3"
    },
    "language_info": {
      "name": "python"
    }
  },
  "cells": [
    {
      "cell_type": "code",
      "execution_count": 80,
      "metadata": {
        "id": "QF_1WCULMXVZ"
      },
      "outputs": [],
      "source": [
        "size = 7\n",
        "lst_1 = []\n",
        "for i in range(size):\n",
        "  lst_temp = []\n",
        "  for i in range(size):\n",
        "    lst_temp.append(0)\n",
        "  lst_1.append(lst_temp)\n"
      ]
    },
    {
      "cell_type": "code",
      "source": [
        "def lst_print(x):\n",
        "  for i in x:\n",
        "    print(i)"
      ],
      "metadata": {
        "id": "MK3q07SiOraQ"
      },
      "execution_count": null,
      "outputs": []
    },
    {
      "cell_type": "code",
      "source": [
        "lst_print(lst_1)"
      ],
      "metadata": {
        "colab": {
          "base_uri": "https://localhost:8080/"
        },
        "id": "_KO0aKo8PZYW",
        "outputId": "b14ee1d6-995e-49bc-a85e-ebdb60ac7748"
      },
      "execution_count": null,
      "outputs": [
        {
          "output_type": "stream",
          "name": "stdout",
          "text": [
            "[0, 0, 0, 0, 0]\n",
            "[0, 0, 0, 0, 0]\n",
            "[0, 0, 0, 0, 0]\n",
            "[0, 0, 0, 0, 0]\n",
            "[0, 0, 0, 0, 0]\n"
          ]
        }
      ]
    },
    {
      "cell_type": "code",
      "source": [
        "for i in range(len(lst_1)):\n",
        "  for j in range(len(lst_1[i])):\n",
        "    if j > i:\n",
        "      lst_1[i][j] = 1\n",
        "lst_print(lst_1)\n"
      ],
      "metadata": {
        "colab": {
          "base_uri": "https://localhost:8080/"
        },
        "id": "6Zn-P_CYPgQ8",
        "outputId": "a5aee8ee-9da7-405b-feb0-cd2807023889"
      },
      "execution_count": null,
      "outputs": [
        {
          "output_type": "stream",
          "name": "stdout",
          "text": [
            "[0, 1, 1, 1, 1]\n",
            "[0, 0, 1, 1, 1]\n",
            "[0, 0, 0, 1, 1]\n",
            "[0, 0, 0, 0, 1]\n",
            "[0, 0, 0, 0, 0]\n"
          ]
        }
      ]
    },
    {
      "cell_type": "code",
      "source": [
        "for i in range(len(lst_1)):\n",
        "  if i < len(lst_1) // 2 + 1:\n",
        "    for j in range(-1, -len(lst_1[i]), -1):\n",
        "      if j >= -i - 1:\n",
        "        lst_1[i][j] = 1\n",
        "  elif i >= len(lst_1) // 2 + 1:\n",
        "    for j in range(len(lst_1[i])):\n",
        "      if j >= i:\n",
        "        lst_1[i][j] = 1\n",
        "\n",
        "lst_print(lst_1)"
      ],
      "metadata": {
        "colab": {
          "base_uri": "https://localhost:8080/"
        },
        "id": "f4KVZM0CVnNm",
        "outputId": "7f99b357-2b17-42e3-ed13-4aaa747efddb"
      },
      "execution_count": 63,
      "outputs": [
        {
          "output_type": "stream",
          "name": "stdout",
          "text": [
            "[0, 0, 0, 0, 0, 0, 1]\n",
            "[0, 0, 0, 0, 0, 1, 1]\n",
            "[0, 0, 0, 0, 1, 1, 1]\n",
            "[0, 0, 0, 1, 1, 1, 1]\n",
            "[0, 0, 0, 0, 1, 1, 1]\n",
            "[0, 0, 0, 0, 0, 1, 1]\n",
            "[0, 0, 0, 0, 0, 0, 1]\n"
          ]
        }
      ]
    },
    {
      "cell_type": "code",
      "source": [
        "for i in range(len(lst_1)):\n",
        "  if i < len(lst_1) // 2 + 1:\n",
        "    for j in range(len(lst_1[i])):\n",
        "      if j >= i and j < len(lst_1[i]) - i:\n",
        "        lst_1[i][j] = 1\n",
        "  elif i >= len(lst_1) // 2 + 1:\n",
        "    for j in range(-1, -len(lst_1[i])-1, -1):\n",
        "      if j <= i - len(lst_1[i]) and j >= -i-1:\n",
        "        lst_1[i][j] = 1\n",
        "\n",
        "lst_print(lst_1)"
      ],
      "metadata": {
        "colab": {
          "base_uri": "https://localhost:8080/"
        },
        "id": "vciG6_hqb-Bk",
        "outputId": "fc58ab7a-2ee1-4158-e59b-8422f56bcef4"
      },
      "execution_count": 81,
      "outputs": [
        {
          "output_type": "stream",
          "name": "stdout",
          "text": [
            "[1, 1, 1, 1, 1, 1, 1]\n",
            "[0, 1, 1, 1, 1, 1, 0]\n",
            "[0, 0, 1, 1, 1, 0, 0]\n",
            "[0, 0, 0, 1, 0, 0, 0]\n",
            "[0, 0, 1, 1, 1, 0, 0]\n",
            "[0, 1, 1, 1, 1, 1, 0]\n",
            "[1, 1, 1, 1, 1, 1, 1]\n"
          ]
        }
      ]
    }
  ]
}