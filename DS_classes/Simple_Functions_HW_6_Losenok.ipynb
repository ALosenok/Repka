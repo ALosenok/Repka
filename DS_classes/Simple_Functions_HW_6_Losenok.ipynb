{
  "nbformat": 4,
  "nbformat_minor": 0,
  "metadata": {
    "colab": {
      "provenance": []
    },
    "kernelspec": {
      "name": "python3",
      "display_name": "Python 3"
    },
    "language_info": {
      "name": "python"
    }
  },
  "cells": [
    {
      "cell_type": "code",
      "execution_count": 122,
      "metadata": {
        "colab": {
          "base_uri": "https://localhost:8080/"
        },
        "id": "4uHMXV4Wgg1W",
        "outputId": "57acda8f-2af4-4984-8d73-f4ebbdd37956"
      },
      "outputs": [
        {
          "output_type": "stream",
          "name": "stdout",
          "text": [
            "Maximum number is 65. Minimum number is 1\n",
            "Maximum number is 65. Minimum number is 1\n"
          ]
        }
      ],
      "source": [
        "#Task 1. Min and Max from a string\n",
        "\n",
        "# 1 Approach\n",
        "\n",
        "def str2mm(x: str) -> tuple:\n",
        "\n",
        "  '''\n",
        "  Simple function that receive a string of separated numbers and returns a\n",
        "  maximum and a minimum number fro it\n",
        "\n",
        "  :param x: a string consisting of numbers separated by spaces\n",
        "  :return: a tuple with a maximum and a minimum integer values from the string\n",
        "  '''\n",
        "\n",
        "  lst = x.split(\" \")\n",
        "  x_min = int(lst[0])\n",
        "  x_max = int(lst[0])\n",
        "\n",
        "  for i in range(len(lst)):\n",
        "    lst[i] = int(lst[i])\n",
        "    if lst[i] > x_max:\n",
        "      x_max = lst[i]\n",
        "    elif lst[i] < x_min:\n",
        "      x_min = lst[i]\n",
        "    else:\n",
        "      continue\n",
        "\n",
        "  return (x_max, x_min)\n",
        "\n",
        "x1 = \"1 25 8 64 65 2\"\n",
        "\n",
        "print(f\"Maximum number is {str2mm(x1)[0]}. Minimum number is {str2mm(x1)[1]}\")\n",
        "\n",
        "# 2 Approach\n",
        "\n",
        "def str2mm_2(x: str) -> tuple:\n",
        "\n",
        "  lst = x.split(\" \")\n",
        "  for i in range(len(lst)):\n",
        "    lst[i] = int(lst[i])\n",
        "\n",
        "  return (max(lst), min(lst))\n",
        "\n",
        "print(f\"Maximum number is {str2mm_2(x1)[0]}. Minimum number is {str2mm_2(x1)[1]}\")\n"
      ]
    },
    {
      "cell_type": "code",
      "source": [
        "#Task 2. PIN codes\n",
        "\n",
        "def pin(x: str) -> bool:\n",
        "\n",
        "  \"\"\"\n",
        "  The function receive a sequence of symbols and define if the sequence this\n",
        "  complies PIN code requirements\n",
        "\n",
        "  :param x: a string consisting a sequence of symbols\n",
        "  :return : a boolean value defining if the requirements are fulfilled (True) or\n",
        "  not (False)\n",
        "  \"\"\"\n",
        "\n",
        "  if len(x) in [4, 6]:\n",
        "    for i in x:\n",
        "      try:\n",
        "         i = int(i)\n",
        "      except:\n",
        "        rsp = False\n",
        "        break\n",
        "      else:\n",
        "        rsp = True\n",
        "  else:\n",
        "    rsp = False\n",
        "\n",
        "  return rsp\n",
        "\n",
        "x1 = \"45h656\"\n",
        "print(pin(x1))"
      ],
      "metadata": {
        "colab": {
          "base_uri": "https://localhost:8080/"
        },
        "id": "HBh11rDDhwmF",
        "outputId": "e1cf52a9-cc95-4795-ab90-20f5eea02730"
      },
      "execution_count": 119,
      "outputs": [
        {
          "output_type": "stream",
          "name": "stdout",
          "text": [
            "False\n"
          ]
        }
      ]
    },
    {
      "cell_type": "code",
      "source": [
        "from math import sqrt\n",
        "# Task 3. Square\n",
        "\n",
        "def st(x: list) -> list:\n",
        "  \"\"\"\n",
        "  A function that receive a list of integers and returns a list of those of\n",
        "  which are a square result of another integer\n",
        "\n",
        "  :param x: a list of integers\n",
        "  :result: a list of integers which are result of square\n",
        "  \"\"\"\n",
        "\n",
        "  lst = list(filter(lambda y: int(sqrt(y)) ** 2 == y, filter(lambda z: z >= 0, x)))\n",
        "  return lst\n",
        "\n",
        "y = [9, -4, 7, 144, 0]\n",
        "\n",
        "print(st(y))"
      ],
      "metadata": {
        "colab": {
          "base_uri": "https://localhost:8080/"
        },
        "id": "M2gTVkVXx5P4",
        "outputId": "c8b001a8-4ce0-4a46-b9a8-b6e02c950c2b"
      },
      "execution_count": 88,
      "outputs": [
        {
          "output_type": "stream",
          "name": "stdout",
          "text": [
            "[9, 144, 0]\n"
          ]
        }
      ]
    },
    {
      "cell_type": "code",
      "source": [
        "# Task 4. Unique in order\n",
        "\n",
        "def unique_in_oder(x: str) -> list:\n",
        "\n",
        "  \"\"\"\n",
        "  A function that receives a string of elements and returns a list where\n",
        "  equal elements are ever placed together but the order of elements remains\n",
        "\n",
        "  :param x: a string of elements\n",
        "  :returns: a list of elements\n",
        "  \"\"\"\n",
        "\n",
        "  lst = []\n",
        "\n",
        "  for i in x:\n",
        "    if len(lst) == 0:\n",
        "      lst.append(i)\n",
        "    elif lst[-1] != i:\n",
        "      lst.append(i)\n",
        "\n",
        "  return lst\n",
        "\n",
        "x1 = \"aabc11fag\"\n",
        "print(unique_in_oder(x1))"
      ],
      "metadata": {
        "colab": {
          "base_uri": "https://localhost:8080/"
        },
        "id": "MuiKdQwADhyC",
        "outputId": "d8b23e37-f9c4-4eae-cbd4-fc89b21d2760"
      },
      "execution_count": 100,
      "outputs": [
        {
          "output_type": "stream",
          "name": "stdout",
          "text": [
            "['a', 'b', 'c', '1', 'f', 'a', 'g']\n"
          ]
        }
      ]
    },
    {
      "cell_type": "code",
      "source": [
        "# Task 5. Min word\n",
        "\n",
        "def min_word(x: str) -> int:\n",
        "\n",
        "  \"\"\"\n",
        "  A function receive a string of words and return the length of the shortest one\n",
        "\n",
        "  :param x: a string of words\n",
        "  :return: an integer meaning the length of the shortest word\n",
        "  \"\"\"\n",
        "\n",
        "  l_min = 0\n",
        "\n",
        "  for i in x.split(\" \"):\n",
        "    if l_min == 0:\n",
        "      l_min = len(i)\n",
        "    elif len(i) <= l_min:\n",
        "      l_min = len(i)\n",
        "\n",
        "  return l_min\n",
        "\n",
        "x1 = \"Right Off the Bat\"\n",
        "print(min_word(x1))"
      ],
      "metadata": {
        "colab": {
          "base_uri": "https://localhost:8080/"
        },
        "id": "BlqRyy4KPB3d",
        "outputId": "bc96a4c5-5cbb-4e11-a425-77dcf3d029c4"
      },
      "execution_count": 113,
      "outputs": [
        {
          "output_type": "stream",
          "name": "stdout",
          "text": [
            "3\n"
          ]
        }
      ]
    },
    {
      "cell_type": "code",
      "source": [
        "from functools import reduce\n",
        "# Task 6. Digital root\n",
        "\n",
        "def fnc(x: int) -> int:\n",
        "\n",
        "  \"\"\"\n",
        "  A function that receives a number and returns its digital root, summing up all\n",
        "  the digits until single digit number\n",
        "  :param x: an integer\n",
        "  :returns: a digital root as an integer\n",
        "  \"\"\"\n",
        "\n",
        "  if len(str(x)) == 1:\n",
        "    return print(x)\n",
        "  else:\n",
        "    lst = []\n",
        "    for i in range(len(str(x))):\n",
        "        lst.append(x % 10)\n",
        "        x = x // 10\n",
        "    x = reduce(lambda x, y: x + y, lst)\n",
        "    #print(x)\n",
        "    fnc(x)\n",
        "\n",
        "\n",
        "\n",
        "x1 = 999999999999\n",
        "fnc(x1)\n",
        "\n",
        "# Можно лисделать проверку в конце функции по типу\n",
        "# if len(x) > 1: fnc(x) else: return x?\n",
        "#  Как сделать с принтом?"
      ],
      "metadata": {
        "colab": {
          "base_uri": "https://localhost:8080/"
        },
        "id": "b3Y87_wIbrJ2",
        "outputId": "4d869581-c929-4a2d-b107-57a7cc3aec0e"
      },
      "execution_count": 36,
      "outputs": [
        {
          "output_type": "stream",
          "name": "stdout",
          "text": [
            "9\n"
          ]
        }
      ]
    },
    {
      "cell_type": "code",
      "source": [
        "# Task 7. Mid symbol\n",
        "\n",
        "def mid_smbl(x: str) -> str:\n",
        "\n",
        "  \"\"\"\n",
        "  A fucntion that receives a word and returns the middle symbol if the word has\n",
        "  odd number of letters and two middle symbols if it has even number of letters\n",
        "\n",
        "  :param x: a stringconsisting a word\n",
        "  :return: a strin consisting one or two letters\n",
        "  \"\"\"\n",
        "\n",
        "  tmp = len(x)\n",
        "\n",
        "  if tmp % 2 == 0:\n",
        "    ans = x[ tmp // 2 - 1 : tmp // 2 + 1]\n",
        "  else:\n",
        "    ans = x[ tmp // 2 : tmp // 2 + 1]\n",
        "\n",
        "  return ans\n",
        "\n",
        "x1 = \"abcdef\"\n",
        "print(mid_smbl(x1))\n"
      ],
      "metadata": {
        "colab": {
          "base_uri": "https://localhost:8080/"
        },
        "id": "_NY7FYajvf0t",
        "outputId": "b54d5c8b-db77-4053-ac6b-9fcd340e5201"
      },
      "execution_count": 138,
      "outputs": [
        {
          "output_type": "stream",
          "name": "stdout",
          "text": [
            "cd\n"
          ]
        }
      ]
    },
    {
      "cell_type": "code",
      "source": [
        "import math as m\n",
        "# Task 8. Prime numbers\n",
        "\n",
        "def is_prime(x: int) -> bool:\n",
        "\n",
        "  \"\"\"\n",
        "  A function that receive a number and returns True if it is a prime number and\n",
        "  False otherwise\n",
        "\n",
        "  :param x: an integer natural number\n",
        "  :return: a boolean\n",
        "  \"\"\"\n",
        "\n",
        "  if x in [0, 1]:\n",
        "    ans = False\n",
        "  else:\n",
        "    for i in range(2, m.floor(m.sqrt(x)) + 1):\n",
        "      if x % i == 0:\n",
        "        ans = False\n",
        "        break\n",
        "      else:\n",
        "        ans = True\n",
        "\n",
        "  return ans\n",
        "\n",
        "x1 = 62\n",
        "print(is_prime(x1))"
      ],
      "metadata": {
        "colab": {
          "base_uri": "https://localhost:8080/"
        },
        "id": "YMD0dINYx5Ad",
        "outputId": "4e120fc5-26d5-443a-cc3d-b64f5cb0357a"
      },
      "execution_count": 148,
      "outputs": [
        {
          "output_type": "stream",
          "name": "stdout",
          "text": [
            "False\n"
          ]
        }
      ]
    },
    {
      "cell_type": "code",
      "source": [
        "from functools import reduce\n",
        "# Task 9. Even or Odd sum\n",
        "\n",
        "def even_sum(x: list) -> bool:\n",
        "\n",
        "  \"\"\"\n",
        "  A function that receives a list of natural numbers and defines if the sum of\n",
        "  the number is even or odd\n",
        "\n",
        "  :param x: a list of natural numbers\n",
        "  :returns: a bool that is True for even and False for odd sum\n",
        "  \"\"\"\n",
        "\n",
        "  if reduce(lambda x, y: x + y, x) % 2 == 0:\n",
        "    ans = True\n",
        "  else:\n",
        "    ans = False\n",
        "\n",
        "  return ans\n",
        "\n",
        "x1 = [1, 2, 5, 3]\n",
        "print(even_sum(x1))"
      ],
      "metadata": {
        "colab": {
          "base_uri": "https://localhost:8080/"
        },
        "id": "GufGGhgt2iFl",
        "outputId": "d478a08f-872e-4a87-c58f-b207348d81a9"
      },
      "execution_count": 141,
      "outputs": [
        {
          "output_type": "stream",
          "name": "stdout",
          "text": [
            "False\n"
          ]
        }
      ]
    },
    {
      "cell_type": "code",
      "source": [
        "from functools import reduce\n",
        "# Task 10. Sand watch sum\n",
        "\n",
        "def sun_watch(x: list) -> list:\n",
        "\n",
        "  \"\"\"\n",
        "  A function that receives a matrix and replaces all the elements which are placed\n",
        "  in \"sun watch\" space with 1\n",
        "  :param x: a quare matrix of lists with numbers\n",
        "  :return: a square matrix with some numbers replaced with 1\n",
        "  \"\"\"\n",
        "\n",
        "  for i in range(len(x)):\n",
        "    for j in range(len(x[i])):\n",
        "      if j in range(abs(i - len(x) + 1), i + 1) or j in range(i, abs(i - len(x))):\n",
        "        lst_1[i][j] = 1\n",
        "\n",
        "  return x\n",
        "\n",
        "\n",
        "def sun_watch_sum(x: list) -> int:\n",
        "\n",
        "  \"\"\"\n",
        "  A function that recives a matrix, replaces all the elements which are placed\n",
        "  in \"sun watch\" space with 1, and returns a sum of those elements\n",
        "  :param x: a quare matrix of lists with numbers\n",
        "  :return: a sum of all 1 within sun watch space\n",
        "  \"\"\"\n",
        "\n",
        "  res = 0\n",
        "  for i in sun_watch(x):\n",
        "    res += reduce(lambda x, y: x + y, filter(lambda x: x == 1, i))\n",
        "\n",
        "  return res\n",
        "\n",
        "\n",
        "size = 5\n",
        "lst_1 = []\n",
        "for i in range(size):\n",
        "  lst_temp = []\n",
        "  for i in range(size):\n",
        "    lst_temp.append(0)\n",
        "  lst_1.append(lst_temp)\n",
        "\n",
        "print(sun_watch_sum(lst_1))\n"
      ],
      "metadata": {
        "colab": {
          "base_uri": "https://localhost:8080/"
        },
        "id": "df0NStMUBA-b",
        "outputId": "74ad996b-aeb3-4012-a787-329f35e87274"
      },
      "execution_count": 65,
      "outputs": [
        {
          "output_type": "stream",
          "name": "stdout",
          "text": [
            "17\n"
          ]
        }
      ]
    }
  ]
}