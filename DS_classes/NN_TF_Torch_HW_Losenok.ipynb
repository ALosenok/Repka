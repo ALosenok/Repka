{
  "cells": [
    {
      "cell_type": "code",
      "execution_count": null,
      "metadata": {
        "colab": {
          "base_uri": "https://localhost:8080/"
        },
        "id": "rGiCx2qQeQ_q",
        "outputId": "2512126b-73e1-4430-bb4a-002fc5220784"
      },
      "outputs": [
        {
          "name": "stdout",
          "output_type": "stream",
          "text": [
            "Defaulting to user installation because normal site-packages is not writeable\n",
            "Requirement already satisfied: torchmetrics in c:\\users\\алёна\\appdata\\roaming\\python\\python311\\site-packages (1.4.1)\n",
            "Requirement already satisfied: numpy>1.20.0 in c:\\users\\алёна\\appdata\\roaming\\python\\python311\\site-packages (from torchmetrics) (1.26.2)\n",
            "Requirement already satisfied: packaging>17.1 in c:\\users\\алёна\\appdata\\roaming\\python\\python311\\site-packages (from torchmetrics) (23.1)\n",
            "Requirement already satisfied: torch>=1.10.0 in c:\\users\\алёна\\appdata\\roaming\\python\\python311\\site-packages (from torchmetrics) (2.3.1)\n",
            "Requirement already satisfied: lightning-utilities>=0.8.0 in c:\\users\\алёна\\appdata\\roaming\\python\\python311\\site-packages (from torchmetrics) (0.11.7)\n",
            "Requirement already satisfied: setuptools in c:\\programdata\\anaconda3\\lib\\site-packages (from lightning-utilities>=0.8.0->torchmetrics) (68.2.2)\n",
            "Requirement already satisfied: typing-extensions in c:\\programdata\\anaconda3\\lib\\site-packages (from lightning-utilities>=0.8.0->torchmetrics) (4.9.0)\n",
            "Requirement already satisfied: filelock in c:\\programdata\\anaconda3\\lib\\site-packages (from torch>=1.10.0->torchmetrics) (3.13.1)\n",
            "Requirement already satisfied: sympy in c:\\programdata\\anaconda3\\lib\\site-packages (from torch>=1.10.0->torchmetrics) (1.12)\n",
            "Requirement already satisfied: networkx in c:\\programdata\\anaconda3\\lib\\site-packages (from torch>=1.10.0->torchmetrics) (3.1)\n",
            "Requirement already satisfied: jinja2 in c:\\users\\алёна\\appdata\\roaming\\python\\python311\\site-packages (from torch>=1.10.0->torchmetrics) (3.1.2)\n",
            "Requirement already satisfied: fsspec in c:\\programdata\\anaconda3\\lib\\site-packages (from torch>=1.10.0->torchmetrics) (2023.10.0)\n",
            "Requirement already satisfied: mkl<=2021.4.0,>=2021.1.1 in c:\\users\\алёна\\appdata\\roaming\\python\\python311\\site-packages (from torch>=1.10.0->torchmetrics) (2021.4.0)\n",
            "Requirement already satisfied: intel-openmp==2021.* in c:\\users\\алёна\\appdata\\roaming\\python\\python311\\site-packages (from mkl<=2021.4.0,>=2021.1.1->torch>=1.10.0->torchmetrics) (2021.4.0)\n",
            "Requirement already satisfied: tbb==2021.* in c:\\users\\алёна\\appdata\\roaming\\python\\python311\\site-packages (from mkl<=2021.4.0,>=2021.1.1->torch>=1.10.0->torchmetrics) (2021.13.0)\n",
            "Requirement already satisfied: MarkupSafe>=2.0 in c:\\users\\алёна\\appdata\\roaming\\python\\python311\\site-packages (from jinja2->torch>=1.10.0->torchmetrics) (2.1.3)\n",
            "Requirement already satisfied: mpmath>=0.19 in c:\\programdata\\anaconda3\\lib\\site-packages (from sympy->torch>=1.10.0->torchmetrics) (1.3.0)\n"
          ]
        }
      ],
      "source": [
        "! pip install torchmetrics"
      ]
    },
    {
      "cell_type": "code",
      "execution_count": null,
      "metadata": {
        "id": "BYWOjczNHWwq"
      },
      "outputs": [],
      "source": [
        "import numpy as np\n",
        "import pandas as pd\n",
        "from sklearn.model_selection import train_test_split\n",
        "import keras\n",
        "import torch\n",
        "import torch.nn as nn\n",
        "from torch.utils.data import TensorDataset, DataLoader\n",
        "import matplotlib.pyplot as plt\n",
        "import tensorflow as tf\n",
        "import seaborn as sns\n",
        "from sklearn.metrics import accuracy_score, precision_score, recall_score, f1_score\n",
        "from sklearn.metrics import confusion_matrix\n",
        "from torchmetrics import F1Score"
      ]
    },
    {
      "cell_type": "code",
      "execution_count": null,
      "metadata": {
        "id": "PZCIvCkpI7tn"
      },
      "outputs": [],
      "source": [
        "from tensorflow.keras.datasets import mnist, fashion_mnist"
      ]
    },
    {
      "cell_type": "code",
      "execution_count": null,
      "metadata": {
        "id": "47_A7FQ6Jqun"
      },
      "outputs": [],
      "source": [
        "(x_train, y_train), (x_test, y_test) = mnist.load_data()"
      ]
    },
    {
      "cell_type": "code",
      "execution_count": null,
      "metadata": {
        "id": "euZZteOlMWHh"
      },
      "outputs": [],
      "source": [
        "x_train_upd = []\n",
        "\n",
        "for elem in x_train:\n",
        "    x_train_upd.append(elem.flatten())\n",
        "\n",
        "x_train_upd = np.array(x_train_upd)"
      ]
    },
    {
      "cell_type": "code",
      "execution_count": null,
      "metadata": {
        "id": "H3Z_etJLPAmh"
      },
      "outputs": [],
      "source": [
        "x_test_upd = []\n",
        "\n",
        "for elem in x_test:\n",
        "    x_test_upd.append(elem.flatten())\n",
        "\n",
        "x_test_upd = np.array(x_test_upd)"
      ]
    },
    {
      "cell_type": "markdown",
      "metadata": {
        "id": "8_H2Sl7dLQb5"
      },
      "source": [
        "# without convolution (tensorflow)"
      ]
    },
    {
      "cell_type": "code",
      "execution_count": null,
      "metadata": {
        "id": "EsuT6Q7KK7Ao"
      },
      "outputs": [],
      "source": [
        "tf_model = keras.Sequential(\n",
        "    [\n",
        "        keras.layers.Dense(64, activation = 'relu', input_shape = (784,)),\n",
        "        keras.layers.Dense(64, activation = 'relu'),\n",
        "        keras.layers.Dense(10, activation = 'softmax')\n",
        "    ]\n",
        ")\n",
        "\n",
        "tf_model.compile( optimizer = keras.optimizers.Adam(), loss = keras.losses.SparseCategoricalCrossentropy(from_logits=True), metrics = ['Accuracy'])\n"
      ]
    },
    {
      "cell_type": "code",
      "execution_count": null,
      "metadata": {
        "colab": {
          "base_uri": "https://localhost:8080/"
        },
        "id": "ldj5ezcIO4tu",
        "outputId": "bf7dd7d0-5a88-4a9f-95b8-e2bca14c3409"
      },
      "outputs": [
        {
          "name": "stdout",
          "output_type": "stream",
          "text": [
            "Epoch 1/15\n",
            "1688/1688 - 2s - 1ms/step - Accuracy: 0.9689 - loss: 0.1141 - val_Accuracy: 0.9648 - val_loss: 0.1566\n",
            "Epoch 2/15\n",
            "1688/1688 - 2s - 1ms/step - Accuracy: 0.9692 - loss: 0.1096 - val_Accuracy: 0.9643 - val_loss: 0.1660\n",
            "Epoch 3/15\n",
            "1688/1688 - 2s - 1ms/step - Accuracy: 0.9701 - loss: 0.1109 - val_Accuracy: 0.9663 - val_loss: 0.1725\n",
            "Epoch 4/15\n",
            "1688/1688 - 2s - 1ms/step - Accuracy: 0.9707 - loss: 0.1040 - val_Accuracy: 0.9688 - val_loss: 0.1414\n",
            "Epoch 5/15\n",
            "1688/1688 - 2s - 1ms/step - Accuracy: 0.9727 - loss: 0.1011 - val_Accuracy: 0.9658 - val_loss: 0.1552\n",
            "Epoch 6/15\n",
            "1688/1688 - 2s - 1ms/step - Accuracy: 0.9732 - loss: 0.0992 - val_Accuracy: 0.9655 - val_loss: 0.1580\n",
            "Epoch 7/15\n",
            "1688/1688 - 2s - 1ms/step - Accuracy: 0.9734 - loss: 0.0971 - val_Accuracy: 0.9688 - val_loss: 0.1596\n",
            "Epoch 8/15\n",
            "1688/1688 - 2s - 1ms/step - Accuracy: 0.9741 - loss: 0.0986 - val_Accuracy: 0.9630 - val_loss: 0.1721\n",
            "Epoch 9/15\n",
            "1688/1688 - 2s - 1ms/step - Accuracy: 0.9743 - loss: 0.0929 - val_Accuracy: 0.9662 - val_loss: 0.1519\n",
            "Epoch 10/15\n",
            "1688/1688 - 2s - 1ms/step - Accuracy: 0.9756 - loss: 0.0910 - val_Accuracy: 0.9682 - val_loss: 0.1657\n",
            "Epoch 11/15\n",
            "1688/1688 - 2s - 1ms/step - Accuracy: 0.9755 - loss: 0.0912 - val_Accuracy: 0.9672 - val_loss: 0.1789\n",
            "Epoch 12/15\n",
            "1688/1688 - 2s - 1ms/step - Accuracy: 0.9761 - loss: 0.0875 - val_Accuracy: 0.9672 - val_loss: 0.1528\n",
            "Epoch 13/15\n",
            "1688/1688 - 2s - 1ms/step - Accuracy: 0.9777 - loss: 0.0839 - val_Accuracy: 0.9653 - val_loss: 0.1641\n",
            "Epoch 14/15\n",
            "1688/1688 - 2s - 1ms/step - Accuracy: 0.9770 - loss: 0.0819 - val_Accuracy: 0.9672 - val_loss: 0.1679\n",
            "Epoch 15/15\n",
            "1688/1688 - 2s - 1ms/step - Accuracy: 0.9784 - loss: 0.0788 - val_Accuracy: 0.9655 - val_loss: 0.1844\n",
            "\u001b[1m313/313\u001b[0m \u001b[32m━━━━━━━━━━━━━━━━━━━━\u001b[0m\u001b[37m\u001b[0m \u001b[1m0s\u001b[0m 776us/step - Accuracy: 0.9528 - loss: 0.2696\n"
          ]
        }
      ],
      "source": [
        "history = tf_model.fit(x_train_upd, y_train, epochs = 15, validation_split = 0.1, verbose = 2)\n",
        "test_loss, test_accuracy = tf_model.evaluate(x_test_upd, y_test)"
      ]
    },
    {
      "cell_type": "code",
      "execution_count": null,
      "metadata": {
        "id": "jLZjlZwPthNn",
        "outputId": "f8411b4c-20d0-40a8-a310-3bcfc9732272"
      },
      "outputs": [
        {
          "data": {
            "image/png": "[encoded data removed]",
            "text/plain": [
              "<Figure size 1000x1000 with 1 Axes>"
            ]
          },
          "metadata": {},
          "output_type": "display_data"
        }
      ],
      "source": [
        "plt.figure(figsize = (10, 10))\n",
        "plt.plot(history.history['loss'], label = 'train_loss', c = 'r')\n",
        "plt.plot(history.history['val_loss'], label = 'val_loss', c = 'b')\n",
        "plt.legend()\n",
        "plt.xlabel('Epoch')\n",
        "plt.ylabel('Loss')\n",
        "plt.title('Loss per Epoch')\n",
        "plt.show()"
      ]
    },
    {
      "cell_type": "markdown",
      "metadata": {
        "id": "tzXmgwmnthNo"
      },
      "source": [
        "### without convolution (tensorflow) for GridSearchCV"
      ]
    },
    {
      "cell_type": "code",
      "execution_count": null,
      "metadata": {
        "id": "41I1WQJSthNp",
        "outputId": "24d95795-68d2-4eae-b57c-7fb6fda095c8"
      },
      "outputs": [
        {
          "name": "stdout",
          "output_type": "stream",
          "text": [
            "Defaulting to user installation because normal site-packages is not writeable\n",
            "Requirement already satisfied: scikeras in c:\\users\\алёна\\appdata\\roaming\\python\\python311\\site-packages (0.13.0)\n",
            "Requirement already satisfied: keras>=3.2.0 in c:\\users\\алёна\\appdata\\roaming\\python\\python311\\site-packages (from scikeras) (3.5.0)\n",
            "Requirement already satisfied: scikit-learn>=1.4.2 in c:\\users\\алёна\\appdata\\roaming\\python\\python311\\site-packages (from scikeras) (1.5.1)\n",
            "Requirement already satisfied: absl-py in c:\\users\\алёна\\appdata\\roaming\\python\\python311\\site-packages (from keras>=3.2.0->scikeras) (2.1.0)\n",
            "Requirement already satisfied: numpy in c:\\users\\алёна\\appdata\\roaming\\python\\python311\\site-packages (from keras>=3.2.0->scikeras) (1.26.2)\n",
            "Requirement already satisfied: rich in c:\\programdata\\anaconda3\\lib\\site-packages (from keras>=3.2.0->scikeras) (13.3.5)\n",
            "Requirement already satisfied: namex in c:\\users\\алёна\\appdata\\roaming\\python\\python311\\site-packages (from keras>=3.2.0->scikeras) (0.0.8)\n",
            "Requirement already satisfied: h5py in c:\\users\\алёна\\appdata\\roaming\\python\\python311\\site-packages (from keras>=3.2.0->scikeras) (3.11.0)\n",
            "Requirement already satisfied: optree in c:\\users\\алёна\\appdata\\roaming\\python\\python311\\site-packages (from keras>=3.2.0->scikeras) (0.11.0)\n",
            "Requirement already satisfied: ml-dtypes in c:\\users\\алёна\\appdata\\roaming\\python\\python311\\site-packages (from keras>=3.2.0->scikeras) (0.3.2)\n",
            "Requirement already satisfied: packaging in c:\\users\\алёна\\appdata\\roaming\\python\\python311\\site-packages (from keras>=3.2.0->scikeras) (23.1)\n",
            "Requirement already satisfied: scipy>=1.6.0 in c:\\programdata\\anaconda3\\lib\\site-packages (from scikit-learn>=1.4.2->scikeras) (1.11.4)\n",
            "Requirement already satisfied: joblib>=1.2.0 in c:\\programdata\\anaconda3\\lib\\site-packages (from scikit-learn>=1.4.2->scikeras) (1.2.0)\n",
            "Requirement already satisfied: threadpoolctl>=3.1.0 in c:\\users\\алёна\\appdata\\roaming\\python\\python311\\site-packages (from scikit-learn>=1.4.2->scikeras) (3.5.0)\n",
            "Requirement already satisfied: typing-extensions>=4.0.0 in c:\\programdata\\anaconda3\\lib\\site-packages (from optree->keras>=3.2.0->scikeras) (4.9.0)\n",
            "Requirement already satisfied: markdown-it-py<3.0.0,>=2.2.0 in c:\\programdata\\anaconda3\\lib\\site-packages (from rich->keras>=3.2.0->scikeras) (2.2.0)\n",
            "Requirement already satisfied: pygments<3.0.0,>=2.13.0 in c:\\users\\алёна\\appdata\\roaming\\python\\python311\\site-packages (from rich->keras>=3.2.0->scikeras) (2.16.1)\n",
            "Requirement already satisfied: mdurl~=0.1 in c:\\programdata\\anaconda3\\lib\\site-packages (from markdown-it-py<3.0.0,>=2.2.0->rich->keras>=3.2.0->scikeras) (0.1.0)\n"
          ]
        }
      ],
      "source": [
        "!pip install scikeras"
      ]
    },
    {
      "cell_type": "code",
      "execution_count": null,
      "metadata": {
        "id": "fqeOoffgthNq"
      },
      "outputs": [],
      "source": [
        "from sklearn.model_selection import GridSearchCV\n",
        "from scikeras.wrappers import KerasClassifier"
      ]
    },
    {
      "cell_type": "code",
      "execution_count": null,
      "metadata": {
        "id": "Bft5ApcathNr"
      },
      "outputs": [],
      "source": [
        "def create_model(optimizer='adam', learning_rate=0.01):\n",
        "    model = Sequential()\n",
        "    model.add(Dense(64, activation='relu', input_shape=(784,)))\n",
        "    model.add(Dense(64, activation='relu'))\n",
        "    model.add(Dense(10, activation='softmax'))\n",
        "\n",
        "    model.compile(loss='categorical_crossentropy',\n",
        "                  optimizer=optimizer,\n",
        "                  metrics=['accuracy'])\n",
        "    return model\n",
        "\n",
        "\n",
        "model = KerasClassifier(build_fn=create_model, verbose=0)\n"
      ]
    },
    {
      "cell_type": "code",
      "execution_count": null,
      "metadata": {
        "id": "sQf0V6o3thNs",
        "outputId": "c592aa54-6ddd-4a0c-e76b-316998e49816"
      },
      "outputs": [
        {
          "ename": "ValueError",
          "evalue": "Invalid parameter learning_rate for estimator KerasClassifier.\nThis issue can likely be resolved by setting this parameter in the KerasClassifier constructor:\n`KerasClassifier(learning_rate=0.01)`\nCheck the list of available parameters with `estimator.get_params().keys()`",
          "output_type": "error",
          "traceback": [
            "\u001b[1;31m---------------------------------------------------------------------------\u001b[0m",
            "\u001b[1;31mValueError\u001b[0m                                Traceback (most recent call last)",
            "Cell \u001b[1;32mIn[42], line 11\u001b[0m\n\u001b[0;32m      1\u001b[0m param_grid \u001b[38;5;241m=\u001b[39m {\n\u001b[0;32m      2\u001b[0m     \u001b[38;5;124m'\u001b[39m\u001b[38;5;124mbatch_size\u001b[39m\u001b[38;5;124m'\u001b[39m: [\u001b[38;5;241m10\u001b[39m, \u001b[38;5;241m20\u001b[39m, \u001b[38;5;241m40\u001b[39m],\n\u001b[0;32m      3\u001b[0m     \u001b[38;5;124m'\u001b[39m\u001b[38;5;124mepochs\u001b[39m\u001b[38;5;124m'\u001b[39m: [\u001b[38;5;241m10\u001b[39m, \u001b[38;5;241m50\u001b[39m],\n\u001b[0;32m      4\u001b[0m     \u001b[38;5;124m'\u001b[39m\u001b[38;5;124moptimizer\u001b[39m\u001b[38;5;124m'\u001b[39m: [\u001b[38;5;124m'\u001b[39m\u001b[38;5;124madam\u001b[39m\u001b[38;5;124m'\u001b[39m, \u001b[38;5;124m'\u001b[39m\u001b[38;5;124mrmsprop\u001b[39m\u001b[38;5;124m'\u001b[39m],\n\u001b[0;32m      5\u001b[0m     \u001b[38;5;124m'\u001b[39m\u001b[38;5;124mlearning_rate\u001b[39m\u001b[38;5;124m'\u001b[39m: [\u001b[38;5;241m0.01\u001b[39m, \u001b[38;5;241m0.001\u001b[39m, \u001b[38;5;241m0.0001\u001b[39m],\n\u001b[0;32m      6\u001b[0m }\n\u001b[0;32m      8\u001b[0m grid \u001b[38;5;241m=\u001b[39m GridSearchCV(estimator\u001b[38;5;241m=\u001b[39mmodel, param_grid\u001b[38;5;241m=\u001b[39mparam_grid, n_jobs\u001b[38;5;241m=\u001b[39m\u001b[38;5;241m-\u001b[39m\u001b[38;5;241m1\u001b[39m, cv\u001b[38;5;241m=\u001b[39m\u001b[38;5;241m3\u001b[39m)\n\u001b[1;32m---> 11\u001b[0m grid_result \u001b[38;5;241m=\u001b[39m \u001b[43mgrid\u001b[49m\u001b[38;5;241;43m.\u001b[39;49m\u001b[43mfit\u001b[49m\u001b[43m(\u001b[49m\u001b[43mx_train_upd\u001b[49m\u001b[43m,\u001b[49m\u001b[43m \u001b[49m\u001b[43my_train\u001b[49m\u001b[43m)\u001b[49m\n\u001b[0;32m     13\u001b[0m \u001b[38;5;28mprint\u001b[39m(\u001b[38;5;124m\"\u001b[39m\u001b[38;5;124mЛучшие параметры: \u001b[39m\u001b[38;5;132;01m%f\u001b[39;00m\u001b[38;5;124m с обучением (\u001b[39m\u001b[38;5;124m%\u001b[39m\u001b[38;5;124m)\u001b[39m\u001b[38;5;124m\"\u001b[39m \u001b[38;5;241m%\u001b[39m (grid_result\u001b[38;5;241m.\u001b[39mbest_score_))\n\u001b[0;32m     14\u001b[0m \u001b[38;5;28mprint\u001b[39m(\u001b[38;5;124m\"\u001b[39m\u001b[38;5;124mЛучшие параметры: \u001b[39m\u001b[38;5;124m\"\u001b[39m, grid_result\u001b[38;5;241m.\u001b[39mbest_params_)\n",
            "File \u001b[1;32m~\\AppData\\Roaming\\Python\\Python311\\site-packages\\sklearn\\base.py:1473\u001b[0m, in \u001b[0;36m_fit_context.<locals>.decorator.<locals>.wrapper\u001b[1;34m(estimator, *args, **kwargs)\u001b[0m\n\u001b[0;32m   1466\u001b[0m     estimator\u001b[38;5;241m.\u001b[39m_validate_params()\n\u001b[0;32m   1468\u001b[0m \u001b[38;5;28;01mwith\u001b[39;00m config_context(\n\u001b[0;32m   1469\u001b[0m     skip_parameter_validation\u001b[38;5;241m=\u001b[39m(\n\u001b[0;32m   1470\u001b[0m         prefer_skip_nested_validation \u001b[38;5;129;01mor\u001b[39;00m global_skip_validation\n\u001b[0;32m   1471\u001b[0m     )\n\u001b[0;32m   1472\u001b[0m ):\n\u001b[1;32m-> 1473\u001b[0m     \u001b[38;5;28;01mreturn\u001b[39;00m \u001b[43mfit_method\u001b[49m\u001b[43m(\u001b[49m\u001b[43mestimator\u001b[49m\u001b[43m,\u001b[49m\u001b[43m \u001b[49m\u001b[38;5;241;43m*\u001b[39;49m\u001b[43margs\u001b[49m\u001b[43m,\u001b[49m\u001b[43m \u001b[49m\u001b[38;5;241;43m*\u001b[39;49m\u001b[38;5;241;43m*\u001b[39;49m\u001b[43mkwargs\u001b[49m\u001b[43m)\u001b[49m\n",
            "File \u001b[1;32m~\\AppData\\Roaming\\Python\\Python311\\site-packages\\sklearn\\model_selection\\_search.py:1018\u001b[0m, in \u001b[0;36mBaseSearchCV.fit\u001b[1;34m(self, X, y, **params)\u001b[0m\n\u001b[0;32m   1012\u001b[0m     results \u001b[38;5;241m=\u001b[39m \u001b[38;5;28mself\u001b[39m\u001b[38;5;241m.\u001b[39m_format_results(\n\u001b[0;32m   1013\u001b[0m         all_candidate_params, n_splits, all_out, all_more_results\n\u001b[0;32m   1014\u001b[0m     )\n\u001b[0;32m   1016\u001b[0m     \u001b[38;5;28;01mreturn\u001b[39;00m results\n\u001b[1;32m-> 1018\u001b[0m \u001b[38;5;28;43mself\u001b[39;49m\u001b[38;5;241;43m.\u001b[39;49m\u001b[43m_run_search\u001b[49m\u001b[43m(\u001b[49m\u001b[43mevaluate_candidates\u001b[49m\u001b[43m)\u001b[49m\n\u001b[0;32m   1020\u001b[0m \u001b[38;5;66;03m# multimetric is determined here because in the case of a callable\u001b[39;00m\n\u001b[0;32m   1021\u001b[0m \u001b[38;5;66;03m# self.scoring the return type is only known after calling\u001b[39;00m\n\u001b[0;32m   1022\u001b[0m first_test_score \u001b[38;5;241m=\u001b[39m all_out[\u001b[38;5;241m0\u001b[39m][\u001b[38;5;124m\"\u001b[39m\u001b[38;5;124mtest_scores\u001b[39m\u001b[38;5;124m\"\u001b[39m]\n",
            "File \u001b[1;32m~\\AppData\\Roaming\\Python\\Python311\\site-packages\\sklearn\\model_selection\\_search.py:1572\u001b[0m, in \u001b[0;36mGridSearchCV._run_search\u001b[1;34m(self, evaluate_candidates)\u001b[0m\n\u001b[0;32m   1570\u001b[0m \u001b[38;5;28;01mdef\u001b[39;00m \u001b[38;5;21m_run_search\u001b[39m(\u001b[38;5;28mself\u001b[39m, evaluate_candidates):\n\u001b[0;32m   1571\u001b[0m \u001b[38;5;250m    \u001b[39m\u001b[38;5;124;03m\"\"\"Search all candidates in param_grid\"\"\"\u001b[39;00m\n\u001b[1;32m-> 1572\u001b[0m     \u001b[43mevaluate_candidates\u001b[49m\u001b[43m(\u001b[49m\u001b[43mParameterGrid\u001b[49m\u001b[43m(\u001b[49m\u001b[38;5;28;43mself\u001b[39;49m\u001b[38;5;241;43m.\u001b[39;49m\u001b[43mparam_grid\u001b[49m\u001b[43m)\u001b[49m\u001b[43m)\u001b[49m\n",
            "File \u001b[1;32m~\\AppData\\Roaming\\Python\\Python311\\site-packages\\sklearn\\model_selection\\_search.py:964\u001b[0m, in \u001b[0;36mBaseSearchCV.fit.<locals>.evaluate_candidates\u001b[1;34m(candidate_params, cv, more_results)\u001b[0m\n\u001b[0;32m    956\u001b[0m \u001b[38;5;28;01mif\u001b[39;00m \u001b[38;5;28mself\u001b[39m\u001b[38;5;241m.\u001b[39mverbose \u001b[38;5;241m>\u001b[39m \u001b[38;5;241m0\u001b[39m:\n\u001b[0;32m    957\u001b[0m     \u001b[38;5;28mprint\u001b[39m(\n\u001b[0;32m    958\u001b[0m         \u001b[38;5;124m\"\u001b[39m\u001b[38;5;124mFitting \u001b[39m\u001b[38;5;132;01m{0}\u001b[39;00m\u001b[38;5;124m folds for each of \u001b[39m\u001b[38;5;132;01m{1}\u001b[39;00m\u001b[38;5;124m candidates,\u001b[39m\u001b[38;5;124m\"\u001b[39m\n\u001b[0;32m    959\u001b[0m         \u001b[38;5;124m\"\u001b[39m\u001b[38;5;124m totalling \u001b[39m\u001b[38;5;132;01m{2}\u001b[39;00m\u001b[38;5;124m fits\u001b[39m\u001b[38;5;124m\"\u001b[39m\u001b[38;5;241m.\u001b[39mformat(\n\u001b[0;32m    960\u001b[0m             n_splits, n_candidates, n_candidates \u001b[38;5;241m*\u001b[39m n_splits\n\u001b[0;32m    961\u001b[0m         )\n\u001b[0;32m    962\u001b[0m     )\n\u001b[1;32m--> 964\u001b[0m out \u001b[38;5;241m=\u001b[39m \u001b[43mparallel\u001b[49m\u001b[43m(\u001b[49m\n\u001b[0;32m    965\u001b[0m \u001b[43m    \u001b[49m\u001b[43mdelayed\u001b[49m\u001b[43m(\u001b[49m\u001b[43m_fit_and_score\u001b[49m\u001b[43m)\u001b[49m\u001b[43m(\u001b[49m\n\u001b[0;32m    966\u001b[0m \u001b[43m        \u001b[49m\u001b[43mclone\u001b[49m\u001b[43m(\u001b[49m\u001b[43mbase_estimator\u001b[49m\u001b[43m)\u001b[49m\u001b[43m,\u001b[49m\n\u001b[0;32m    967\u001b[0m \u001b[43m        \u001b[49m\u001b[43mX\u001b[49m\u001b[43m,\u001b[49m\n\u001b[0;32m    968\u001b[0m \u001b[43m        \u001b[49m\u001b[43my\u001b[49m\u001b[43m,\u001b[49m\n\u001b[0;32m    969\u001b[0m \u001b[43m        \u001b[49m\u001b[43mtrain\u001b[49m\u001b[38;5;241;43m=\u001b[39;49m\u001b[43mtrain\u001b[49m\u001b[43m,\u001b[49m\n\u001b[0;32m    970\u001b[0m \u001b[43m        \u001b[49m\u001b[43mtest\u001b[49m\u001b[38;5;241;43m=\u001b[39;49m\u001b[43mtest\u001b[49m\u001b[43m,\u001b[49m\n\u001b[0;32m    971\u001b[0m \u001b[43m        \u001b[49m\u001b[43mparameters\u001b[49m\u001b[38;5;241;43m=\u001b[39;49m\u001b[43mparameters\u001b[49m\u001b[43m,\u001b[49m\n\u001b[0;32m    972\u001b[0m \u001b[43m        \u001b[49m\u001b[43msplit_progress\u001b[49m\u001b[38;5;241;43m=\u001b[39;49m\u001b[43m(\u001b[49m\u001b[43msplit_idx\u001b[49m\u001b[43m,\u001b[49m\u001b[43m \u001b[49m\u001b[43mn_splits\u001b[49m\u001b[43m)\u001b[49m\u001b[43m,\u001b[49m\n\u001b[0;32m    973\u001b[0m \u001b[43m        \u001b[49m\u001b[43mcandidate_progress\u001b[49m\u001b[38;5;241;43m=\u001b[39;49m\u001b[43m(\u001b[49m\u001b[43mcand_idx\u001b[49m\u001b[43m,\u001b[49m\u001b[43m \u001b[49m\u001b[43mn_candidates\u001b[49m\u001b[43m)\u001b[49m\u001b[43m,\u001b[49m\n\u001b[0;32m    974\u001b[0m \u001b[43m        \u001b[49m\u001b[38;5;241;43m*\u001b[39;49m\u001b[38;5;241;43m*\u001b[39;49m\u001b[43mfit_and_score_kwargs\u001b[49m\u001b[43m,\u001b[49m\n\u001b[0;32m    975\u001b[0m \u001b[43m    \u001b[49m\u001b[43m)\u001b[49m\n\u001b[0;32m    976\u001b[0m \u001b[43m    \u001b[49m\u001b[38;5;28;43;01mfor\u001b[39;49;00m\u001b[43m \u001b[49m\u001b[43m(\u001b[49m\u001b[43mcand_idx\u001b[49m\u001b[43m,\u001b[49m\u001b[43m \u001b[49m\u001b[43mparameters\u001b[49m\u001b[43m)\u001b[49m\u001b[43m,\u001b[49m\u001b[43m \u001b[49m\u001b[43m(\u001b[49m\u001b[43msplit_idx\u001b[49m\u001b[43m,\u001b[49m\u001b[43m \u001b[49m\u001b[43m(\u001b[49m\u001b[43mtrain\u001b[49m\u001b[43m,\u001b[49m\u001b[43m \u001b[49m\u001b[43mtest\u001b[49m\u001b[43m)\u001b[49m\u001b[43m)\u001b[49m\u001b[43m \u001b[49m\u001b[38;5;129;43;01min\u001b[39;49;00m\u001b[43m \u001b[49m\u001b[43mproduct\u001b[49m\u001b[43m(\u001b[49m\n\u001b[0;32m    977\u001b[0m \u001b[43m        \u001b[49m\u001b[38;5;28;43menumerate\u001b[39;49m\u001b[43m(\u001b[49m\u001b[43mcandidate_params\u001b[49m\u001b[43m)\u001b[49m\u001b[43m,\u001b[49m\n\u001b[0;32m    978\u001b[0m \u001b[43m        \u001b[49m\u001b[38;5;28;43menumerate\u001b[39;49m\u001b[43m(\u001b[49m\u001b[43mcv\u001b[49m\u001b[38;5;241;43m.\u001b[39;49m\u001b[43msplit\u001b[49m\u001b[43m(\u001b[49m\u001b[43mX\u001b[49m\u001b[43m,\u001b[49m\u001b[43m \u001b[49m\u001b[43my\u001b[49m\u001b[43m,\u001b[49m\u001b[43m \u001b[49m\u001b[38;5;241;43m*\u001b[39;49m\u001b[38;5;241;43m*\u001b[39;49m\u001b[43mrouted_params\u001b[49m\u001b[38;5;241;43m.\u001b[39;49m\u001b[43msplitter\u001b[49m\u001b[38;5;241;43m.\u001b[39;49m\u001b[43msplit\u001b[49m\u001b[43m)\u001b[49m\u001b[43m)\u001b[49m\u001b[43m,\u001b[49m\n\u001b[0;32m    979\u001b[0m \u001b[43m    \u001b[49m\u001b[43m)\u001b[49m\n\u001b[0;32m    980\u001b[0m \u001b[43m\u001b[49m\u001b[43m)\u001b[49m\n\u001b[0;32m    982\u001b[0m \u001b[38;5;28;01mif\u001b[39;00m \u001b[38;5;28mlen\u001b[39m(out) \u001b[38;5;241m<\u001b[39m \u001b[38;5;241m1\u001b[39m:\n\u001b[0;32m    983\u001b[0m     \u001b[38;5;28;01mraise\u001b[39;00m \u001b[38;5;167;01mValueError\u001b[39;00m(\n\u001b[0;32m    984\u001b[0m         \u001b[38;5;124m\"\u001b[39m\u001b[38;5;124mNo fits were performed. \u001b[39m\u001b[38;5;124m\"\u001b[39m\n\u001b[0;32m    985\u001b[0m         \u001b[38;5;124m\"\u001b[39m\u001b[38;5;124mWas the CV iterator empty? \u001b[39m\u001b[38;5;124m\"\u001b[39m\n\u001b[0;32m    986\u001b[0m         \u001b[38;5;124m\"\u001b[39m\u001b[38;5;124mWere there no candidates?\u001b[39m\u001b[38;5;124m\"\u001b[39m\n\u001b[0;32m    987\u001b[0m     )\n",
            "File \u001b[1;32m~\\AppData\\Roaming\\Python\\Python311\\site-packages\\sklearn\\utils\\parallel.py:74\u001b[0m, in \u001b[0;36mParallel.__call__\u001b[1;34m(self, iterable)\u001b[0m\n\u001b[0;32m     69\u001b[0m config \u001b[38;5;241m=\u001b[39m get_config()\n\u001b[0;32m     70\u001b[0m iterable_with_config \u001b[38;5;241m=\u001b[39m (\n\u001b[0;32m     71\u001b[0m     (_with_config(delayed_func, config), args, kwargs)\n\u001b[0;32m     72\u001b[0m     \u001b[38;5;28;01mfor\u001b[39;00m delayed_func, args, kwargs \u001b[38;5;129;01min\u001b[39;00m iterable\n\u001b[0;32m     73\u001b[0m )\n\u001b[1;32m---> 74\u001b[0m \u001b[38;5;28;01mreturn\u001b[39;00m \u001b[38;5;28;43msuper\u001b[39;49m\u001b[43m(\u001b[49m\u001b[43m)\u001b[49m\u001b[38;5;241;43m.\u001b[39;49m\u001b[38;5;21;43m__call__\u001b[39;49m\u001b[43m(\u001b[49m\u001b[43miterable_with_config\u001b[49m\u001b[43m)\u001b[49m\n",
            "File \u001b[1;32mC:\\ProgramData\\anaconda3\\Lib\\site-packages\\joblib\\parallel.py:1098\u001b[0m, in \u001b[0;36mParallel.__call__\u001b[1;34m(self, iterable)\u001b[0m\n\u001b[0;32m   1095\u001b[0m     \u001b[38;5;28mself\u001b[39m\u001b[38;5;241m.\u001b[39m_iterating \u001b[38;5;241m=\u001b[39m \u001b[38;5;28;01mFalse\u001b[39;00m\n\u001b[0;32m   1097\u001b[0m \u001b[38;5;28;01mwith\u001b[39;00m \u001b[38;5;28mself\u001b[39m\u001b[38;5;241m.\u001b[39m_backend\u001b[38;5;241m.\u001b[39mretrieval_context():\n\u001b[1;32m-> 1098\u001b[0m     \u001b[38;5;28;43mself\u001b[39;49m\u001b[38;5;241;43m.\u001b[39;49m\u001b[43mretrieve\u001b[49m\u001b[43m(\u001b[49m\u001b[43m)\u001b[49m\n\u001b[0;32m   1099\u001b[0m \u001b[38;5;66;03m# Make sure that we get a last message telling us we are done\u001b[39;00m\n\u001b[0;32m   1100\u001b[0m elapsed_time \u001b[38;5;241m=\u001b[39m time\u001b[38;5;241m.\u001b[39mtime() \u001b[38;5;241m-\u001b[39m \u001b[38;5;28mself\u001b[39m\u001b[38;5;241m.\u001b[39m_start_time\n",
            "File \u001b[1;32mC:\\ProgramData\\anaconda3\\Lib\\site-packages\\joblib\\parallel.py:975\u001b[0m, in \u001b[0;36mParallel.retrieve\u001b[1;34m(self)\u001b[0m\n\u001b[0;32m    973\u001b[0m \u001b[38;5;28;01mtry\u001b[39;00m:\n\u001b[0;32m    974\u001b[0m     \u001b[38;5;28;01mif\u001b[39;00m \u001b[38;5;28mgetattr\u001b[39m(\u001b[38;5;28mself\u001b[39m\u001b[38;5;241m.\u001b[39m_backend, \u001b[38;5;124m'\u001b[39m\u001b[38;5;124msupports_timeout\u001b[39m\u001b[38;5;124m'\u001b[39m, \u001b[38;5;28;01mFalse\u001b[39;00m):\n\u001b[1;32m--> 975\u001b[0m         \u001b[38;5;28mself\u001b[39m\u001b[38;5;241m.\u001b[39m_output\u001b[38;5;241m.\u001b[39mextend(\u001b[43mjob\u001b[49m\u001b[38;5;241;43m.\u001b[39;49m\u001b[43mget\u001b[49m\u001b[43m(\u001b[49m\u001b[43mtimeout\u001b[49m\u001b[38;5;241;43m=\u001b[39;49m\u001b[38;5;28;43mself\u001b[39;49m\u001b[38;5;241;43m.\u001b[39;49m\u001b[43mtimeout\u001b[49m\u001b[43m)\u001b[49m)\n\u001b[0;32m    976\u001b[0m     \u001b[38;5;28;01melse\u001b[39;00m:\n\u001b[0;32m    977\u001b[0m         \u001b[38;5;28mself\u001b[39m\u001b[38;5;241m.\u001b[39m_output\u001b[38;5;241m.\u001b[39mextend(job\u001b[38;5;241m.\u001b[39mget())\n",
            "File \u001b[1;32mC:\\ProgramData\\anaconda3\\Lib\\site-packages\\joblib\\_parallel_backends.py:567\u001b[0m, in \u001b[0;36mLokyBackend.wrap_future_result\u001b[1;34m(future, timeout)\u001b[0m\n\u001b[0;32m    564\u001b[0m \u001b[38;5;250m\u001b[39m\u001b[38;5;124;03m\"\"\"Wrapper for Future.result to implement the same behaviour as\u001b[39;00m\n\u001b[0;32m    565\u001b[0m \u001b[38;5;124;03mAsyncResults.get from multiprocessing.\"\"\"\u001b[39;00m\n\u001b[0;32m    566\u001b[0m \u001b[38;5;28;01mtry\u001b[39;00m:\n\u001b[1;32m--> 567\u001b[0m     \u001b[38;5;28;01mreturn\u001b[39;00m \u001b[43mfuture\u001b[49m\u001b[38;5;241;43m.\u001b[39;49m\u001b[43mresult\u001b[49m\u001b[43m(\u001b[49m\u001b[43mtimeout\u001b[49m\u001b[38;5;241;43m=\u001b[39;49m\u001b[43mtimeout\u001b[49m\u001b[43m)\u001b[49m\n\u001b[0;32m    568\u001b[0m \u001b[38;5;28;01mexcept\u001b[39;00m CfTimeoutError \u001b[38;5;28;01mas\u001b[39;00m e:\n\u001b[0;32m    569\u001b[0m     \u001b[38;5;28;01mraise\u001b[39;00m \u001b[38;5;167;01mTimeoutError\u001b[39;00m \u001b[38;5;28;01mfrom\u001b[39;00m \u001b[38;5;21;01me\u001b[39;00m\n",
            "File \u001b[1;32mC:\\ProgramData\\anaconda3\\Lib\\concurrent\\futures\\_base.py:456\u001b[0m, in \u001b[0;36mFuture.result\u001b[1;34m(self, timeout)\u001b[0m\n\u001b[0;32m    454\u001b[0m     \u001b[38;5;28;01mraise\u001b[39;00m CancelledError()\n\u001b[0;32m    455\u001b[0m \u001b[38;5;28;01melif\u001b[39;00m \u001b[38;5;28mself\u001b[39m\u001b[38;5;241m.\u001b[39m_state \u001b[38;5;241m==\u001b[39m FINISHED:\n\u001b[1;32m--> 456\u001b[0m     \u001b[38;5;28;01mreturn\u001b[39;00m \u001b[38;5;28;43mself\u001b[39;49m\u001b[38;5;241;43m.\u001b[39;49m\u001b[43m__get_result\u001b[49m\u001b[43m(\u001b[49m\u001b[43m)\u001b[49m\n\u001b[0;32m    457\u001b[0m \u001b[38;5;28;01melse\u001b[39;00m:\n\u001b[0;32m    458\u001b[0m     \u001b[38;5;28;01mraise\u001b[39;00m \u001b[38;5;167;01mTimeoutError\u001b[39;00m()\n",
            "File \u001b[1;32mC:\\ProgramData\\anaconda3\\Lib\\concurrent\\futures\\_base.py:401\u001b[0m, in \u001b[0;36mFuture.__get_result\u001b[1;34m(self)\u001b[0m\n\u001b[0;32m    399\u001b[0m \u001b[38;5;28;01mif\u001b[39;00m \u001b[38;5;28mself\u001b[39m\u001b[38;5;241m.\u001b[39m_exception:\n\u001b[0;32m    400\u001b[0m     \u001b[38;5;28;01mtry\u001b[39;00m:\n\u001b[1;32m--> 401\u001b[0m         \u001b[38;5;28;01mraise\u001b[39;00m \u001b[38;5;28mself\u001b[39m\u001b[38;5;241m.\u001b[39m_exception\n\u001b[0;32m    402\u001b[0m     \u001b[38;5;28;01mfinally\u001b[39;00m:\n\u001b[0;32m    403\u001b[0m         \u001b[38;5;66;03m# Break a reference cycle with the exception in self._exception\u001b[39;00m\n\u001b[0;32m    404\u001b[0m         \u001b[38;5;28mself\u001b[39m \u001b[38;5;241m=\u001b[39m \u001b[38;5;28;01mNone\u001b[39;00m\n",
            "\u001b[1;31mValueError\u001b[0m: Invalid parameter learning_rate for estimator KerasClassifier.\nThis issue can likely be resolved by setting this parameter in the KerasClassifier constructor:\n`KerasClassifier(learning_rate=0.01)`\nCheck the list of available parameters with `estimator.get_params().keys()`"
          ]
        }
      ],
      "source": [
        "param_grid = {\n",
        "    'batch_size': [10, 20, 40],\n",
        "    'epochs': [10, 50],\n",
        "    'optimizer': ['adam', 'rmsprop'],\n",
        "    'learning_rate': [0.01, 0.001, 0.0001],\n",
        "}\n",
        "\n",
        "grid = GridSearchCV(estimator=model, param_grid=param_grid, n_jobs=-1, cv=3)\n",
        "\n",
        "\n",
        "grid_result = grid.fit(x_train_upd, y_train)\n",
        "\n",
        "print(\"Лучшие параметры: %f с обучением (%)\" % (grid_result.best_score_))\n",
        "print(\"Лучшие параметры: \", grid_result.best_params_)"
      ]
    },
    {
      "cell_type": "code",
      "execution_count": null,
      "metadata": {
        "id": "mO1LoaKnthNt"
      },
      "outputs": [],
      "source": []
    },
    {
      "cell_type": "code",
      "execution_count": null,
      "metadata": {
        "colab": {
          "base_uri": "https://localhost:8080/",
          "height": 872
        },
        "id": "McS4riXeP_vI",
        "outputId": "b060bd4b-a361-40b9-8a79-7f5d9e31f6e6"
      },
      "outputs": [
        {
          "data": {
            "image/png": "[encoded data removed]",
            "text/plain": [
              "<Figure size 1000x1000 with 1 Axes>"
            ]
          },
          "metadata": {},
          "output_type": "display_data"
        }
      ],
      "source": [
        "plt.figure(figsize = (10, 10))\n",
        "plt.plot(history.history['loss'], label = 'train_loss', c = 'r')\n",
        "plt.plot(history.history['val_loss'], label = 'val_loss', c = 'b')\n",
        "plt.legend()\n",
        "plt.xlabel('Epoch')\n",
        "plt.ylabel('Loss')\n",
        "plt.title('Loss per Epoch')\n",
        "plt.show()"
      ]
    },
    {
      "cell_type": "code",
      "execution_count": null,
      "metadata": {
        "colab": {
          "base_uri": "https://localhost:8080/"
        },
        "id": "tw9YHE2OQcZI",
        "outputId": "217ff343-0faf-4aae-ddc0-1ced55afb2a3"
      },
      "outputs": [
        {
          "name": "stdout",
          "output_type": "stream",
          "text": [
            "\u001b[1m313/313\u001b[0m \u001b[32m━━━━━━━━━━━━━━━━━━━━\u001b[0m\u001b[37m\u001b[0m \u001b[1m0s\u001b[0m 958us/step\n",
            "accuracy: 0.9627\n",
            "f1: 0.9627202296224002\n",
            "recall: 0.9627\n",
            "precision: 0.9631218250297736\n"
          ]
        }
      ],
      "source": [
        "y_pred = tf_model.predict(x_test_upd)\n",
        "\n",
        "y_pred = y_pred.argmax(axis=1)\n",
        "\n",
        "\n",
        "acc = accuracy_score(y_test, y_pred)\n",
        "\n",
        "precision = precision_score(y_test, y_pred, average=\"weighted\",zero_division=1)\n",
        "\n",
        "recall = recall_score(y_test, y_pred,average=\"weighted\")\n",
        "\n",
        "f1 = f1_score(y_test, y_pred, average=\"weighted\")\n",
        "\n",
        "print(f\"accuracy: {acc}\")\n",
        "\n",
        "print(f\"f1: {f1}\")\n",
        "\n",
        "print(f\"recall: {recall}\")\n",
        "\n",
        "print(f\"precision: {precision}\")"
      ]
    },
    {
      "cell_type": "code",
      "execution_count": null,
      "metadata": {
        "colab": {
          "base_uri": "https://localhost:8080/",
          "height": 466
        },
        "id": "ggb86WGtRHFv",
        "outputId": "c51b78f3-94e5-4c52-d9ea-22be928c8202"
      },
      "outputs": [
        {
          "data": {
            "text/plain": [
              "Text(50.722222222222214, 0.5, 'Truth')"
            ]
          },
          "execution_count": 14,
          "metadata": {},
          "output_type": "execute_result"
        },
        {
          "data": {
            "image/png": "[encoded data removed]",
            "text/plain": [
              "<Figure size 640x480 with 2 Axes>"
            ]
          },
          "metadata": {},
          "output_type": "display_data"
        }
      ],
      "source": [
        "cm = confusion_matrix(y_test, y_pred)\n",
        "\n",
        "\n",
        "sns.heatmap(cm, annot=True, fmt='d', cmap='Blues')\n",
        "\n",
        "plt.xlabel('Predicted')\n",
        "\n",
        "plt.ylabel('Truth')"
      ]
    },
    {
      "cell_type": "markdown",
      "metadata": {
        "id": "l7jD6ja3RqKJ"
      },
      "source": [
        "# using convolution (tensorflow)"
      ]
    },
    {
      "cell_type": "code",
      "execution_count": null,
      "metadata": {
        "id": "KfSHgQtEthNu"
      },
      "outputs": [],
      "source": [
        "(x_train, y_train), (x_test, y_test) = mnist.load_data()\n",
        "\n",
        "x_train_upd = []\n",
        "\n",
        "for elem in x_train:\n",
        "    x_train_upd.append(elem.flatten())\n",
        "\n",
        "x_train_upd = np.array(x_train_upd)\n",
        "\n",
        "x_test_upd = []\n",
        "\n",
        "for elem in x_test:\n",
        "    x_test_upd.append(elem.flatten())\n",
        "\n",
        "x_test_upd = np.array(x_test_upd)"
      ]
    },
    {
      "cell_type": "code",
      "execution_count": null,
      "metadata": {
        "id": "tPkxMhLTUHjo"
      },
      "outputs": [],
      "source": [
        "# Normalization to improve learning speed\n",
        "x_train_upd_2 = x_train / 255\n",
        "x_test_upd_2 = x_test / 255\n",
        "\n",
        "# Adds 3rd layer. Because the pictures are grayscaled and the convolution works with 3d\n",
        "x_train_upd_2 = np.expand_dims(x_train_upd_2, axis = 3)\n",
        "x_test_upd_2 = np.expand_dims(x_test_upd_2, axis = 3)\n",
        "\n",
        "# Convolution network returns prbabilities, that why we need to replace each category with binary categorical vector\n",
        "y_train_cat = keras.utils.to_categorical(y_train, 10)\n",
        "y_test_cat = keras.utils.to_categorical(y_test, 10)"
      ]
    },
    {
      "cell_type": "code",
      "execution_count": null,
      "metadata": {
        "id": "slKev_QCRwDw"
      },
      "outputs": [],
      "source": [
        "tf_model_2 = keras.Sequential(\n",
        "    [\n",
        "        keras.layers.Conv2D(64, (3,3), activation = 'relu', input_shape = (28, 28, 1)),\n",
        "        keras.layers.MaxPooling2D((2,2)),\n",
        "        keras.layers.Conv2D(64, (3,3), activation = 'relu'),\n",
        "        keras.layers.MaxPooling2D((2,2)),\n",
        "        keras.layers.Flatten(),\n",
        "        keras.layers.Dense(64, activation = 'relu'),\n",
        "        keras.layers.Dropout(0.1),\n",
        "        # keras.layers.Dense(50, activation = 'relu'),\n",
        "        # keras.layers.BatchNormalization(),\n",
        "        keras.layers.Dense(10, activation = 'softmax')\n",
        "    ]\n",
        ")\n",
        "\n",
        "tf_model_2.compile( optimizer = keras.optimizers.Adam(learning_rate = 0.001), loss = tf.keras.losses.SparseCategoricalCrossentropy(), metrics = ['Accuracy'])"
      ]
    },
    {
      "cell_type": "code",
      "execution_count": null,
      "metadata": {
        "colab": {
          "base_uri": "https://localhost:8080/"
        },
        "id": "EnPazgbjTVQo",
        "outputId": "143f16dc-dc38-46d2-9066-68f0e275aa77"
      },
      "outputs": [
        {
          "name": "stdout",
          "output_type": "stream",
          "text": [
            "Epoch 1/3\n",
            "1688/1688 - 29s - 17ms/step - Accuracy: 0.9494 - loss: 0.1643 - val_Accuracy: 0.9817 - val_loss: 0.0583\n",
            "Epoch 2/3\n",
            "1688/1688 - 27s - 16ms/step - Accuracy: 0.9827 - loss: 0.0540 - val_Accuracy: 0.9888 - val_loss: 0.0396\n",
            "Epoch 3/3\n",
            "1688/1688 - 26s - 16ms/step - Accuracy: 0.9877 - loss: 0.0385 - val_Accuracy: 0.9887 - val_loss: 0.0393\n",
            "\u001b[1m313/313\u001b[0m \u001b[32m━━━━━━━━━━━━━━━━━━━━\u001b[0m\u001b[37m\u001b[0m \u001b[1m2s\u001b[0m 7ms/step - Accuracy: 0.9891 - loss: 0.0371\n"
          ]
        }
      ],
      "source": [
        "history = tf_model_2.fit(x_train_upd_2, y_train, epochs = 3, validation_split = 0.1, verbose = 2)\n",
        "test_loss, test_accuracy = tf_model_2.evaluate(x_test_upd_2, y_test)"
      ]
    },
    {
      "cell_type": "code",
      "execution_count": null,
      "metadata": {
        "id": "-56eTufXthNv",
        "outputId": "efc750f5-8533-42ff-9849-f8d27b9db1b4"
      },
      "outputs": [
        {
          "data": {
            "image/png": "[encoded data removed]",
            "text/plain": [
              "<Figure size 1000x1000 with 1 Axes>"
            ]
          },
          "metadata": {},
          "output_type": "display_data"
        }
      ],
      "source": [
        "plt.figure(figsize = (10, 10))\n",
        "plt.plot(history.history['loss'], label = 'train_loss', c = 'r')\n",
        "plt.plot(history.history['val_loss'], label = 'val_loss', c = 'b')\n",
        "plt.legend()\n",
        "plt.xlabel('Epoch')\n",
        "plt.ylabel('Loss')\n",
        "plt.title('Loss per Epoch')\n",
        "plt.show()"
      ]
    },
    {
      "cell_type": "code",
      "execution_count": null,
      "metadata": {
        "id": "vMA8kkzethNw",
        "outputId": "963e8354-4349-46dc-e06c-08ef9eaf9458"
      },
      "outputs": [
        {
          "name": "stdout",
          "output_type": "stream",
          "text": [
            "\u001b[1m313/313\u001b[0m \u001b[32m━━━━━━━━━━━━━━━━━━━━\u001b[0m\u001b[37m\u001b[0m \u001b[1m2s\u001b[0m 7ms/step\n",
            "accuracy: 0.9913\n",
            "f1: 0.9912981022729986\n",
            "recall: 0.9913\n",
            "precision: 0.9913426527963282\n"
          ]
        }
      ],
      "source": [
        "y_pred = tf_model_2.predict(x_test_upd_2)\n",
        "y_pred = y_pred.argmax(axis = 1)\n",
        "\n",
        "acc = accuracy_score(y_test, y_pred)\n",
        "\n",
        "precision = precision_score(y_test, y_pred, average=\"weighted\",zero_division=1)\n",
        "\n",
        "recall = recall_score(y_test, y_pred,average=\"weighted\")\n",
        "\n",
        "f1 = f1_score(y_test, y_pred, average=\"weighted\")\n",
        "\n",
        "print(f\"accuracy: {acc}\")\n",
        "\n",
        "print(f\"f1: {f1}\")\n",
        "\n",
        "print(f\"recall: {recall}\")\n",
        "\n",
        "print(f\"precision: {precision}\")"
      ]
    },
    {
      "cell_type": "code",
      "execution_count": null,
      "metadata": {
        "colab": {
          "base_uri": "https://localhost:8080/"
        },
        "id": "v2BS9XrZNt09",
        "outputId": "65debd5f-8a65-4c09-c847-6fa2e1e96c21"
      },
      "outputs": [
        {
          "name": "stdout",
          "output_type": "stream",
          "text": [
            "\u001b[1m313/313\u001b[0m \u001b[32m━━━━━━━━━━━━━━━━━━━━\u001b[0m\u001b[37m\u001b[0m \u001b[1m1s\u001b[0m 4ms/step\n",
            "accuracy: 0.9878\n",
            "f1: 0.9877996096303426\n",
            "recall: 0.9878\n",
            "precision: 0.9878541140565067\n"
          ]
        }
      ],
      "source": [
        "# y_pred = tf_model_2.predict(x_test_upd_2)\n",
        "# y_pred = y_pred.argmax(axis = 1)\n",
        "\n",
        "# acc = accuracy_score(y_test, y_pred)\n",
        "\n",
        "# precision = precision_score(y_test, y_pred, average=\"weighted\",zero_division=1)\n",
        "\n",
        "# recall = recall_score(y_test, y_pred,average=\"weighted\")\n",
        "\n",
        "# f1 = f1_score(y_test, y_pred, average=\"weighted\")\n",
        "\n",
        "# print(f\"accuracy: {acc}\")\n",
        "\n",
        "# print(f\"f1: {f1}\")\n",
        "\n",
        "# print(f\"recall: {recall}\")\n",
        "\n",
        "# print(f\"precision: {precision}\")"
      ]
    },
    {
      "cell_type": "markdown",
      "metadata": {
        "id": "Jv_Yol7GbKLR"
      },
      "source": [
        "3. Torch linear"
      ]
    },
    {
      "cell_type": "code",
      "execution_count": null,
      "metadata": {
        "id": "T8lfeRS0bNnB"
      },
      "outputs": [],
      "source": [
        "x_train_upd_tensor = torch.tensor(x_train_upd, dtype = torch.float32)\n",
        "x_test_upd_tensor = torch.tensor(x_test_upd, dtype = torch.float32)\n",
        "y_train_tensor = torch.tensor(y_train_cat, dtype = torch.float32)\n",
        "y_test_tensor = torch.tensor(y_test_cat, dtype = torch.float32)\n",
        "\n",
        "train_data = TensorDataset(x_train_upd_tensor, y_train_tensor)\n",
        "test_data = TensorDataset(x_test_upd_tensor, y_test_tensor)\n",
        "train_loader = DataLoader(train_data, batch_size = 64, shuffle = True)\n",
        "test_loader = DataLoader(test_data, batch_size = 64, shuffle = False)"
      ]
    },
    {
      "cell_type": "code",
      "execution_count": null,
      "metadata": {
        "id": "rFz2t4sPthN0",
        "outputId": "563a75dc-e23f-4a90-b516-a123e8c4af2b"
      },
      "outputs": [
        {
          "data": {
            "text/plain": [
              "tensor([[0., 0., 0.,  ..., 1., 0., 0.],\n",
              "        [0., 0., 1.,  ..., 0., 0., 0.],\n",
              "        [0., 1., 0.,  ..., 0., 0., 0.],\n",
              "        ...,\n",
              "        [0., 0., 0.,  ..., 0., 0., 0.],\n",
              "        [0., 0., 0.,  ..., 0., 0., 0.],\n",
              "        [0., 0., 0.,  ..., 0., 0., 0.]])"
            ]
          },
          "execution_count": 33,
          "metadata": {},
          "output_type": "execute_result"
        }
      ],
      "source": [
        "y_test_tensor"
      ]
    },
    {
      "cell_type": "code",
      "execution_count": null,
      "metadata": {
        "id": "1Qs-q09YZ-h7"
      },
      "outputs": [],
      "source": [
        "class NeuralNet(nn.Module):\n",
        "    def __init__(self, input_size = 784, hidden_size = 32, output_size = 10):\n",
        "        super(NeuralNet, self).__init__()\n",
        "        self.layer_1 = nn.Linear(input_size, hidden_size)\n",
        "        self.relu = nn.ReLU()\n",
        "        self.layer_2 = nn.Linear(hidden_size, hidden_size)\n",
        "        self.softmax = nn.Softmax(dim = 1)\n",
        "        self.layer_out = nn.Linear(hidden_size, output_size)\n",
        "\n",
        "\n",
        "\n",
        "    def forward(self, x):\n",
        "        out = self.layer_1(x)\n",
        "        out = self.relu(out)\n",
        "        out = self.layer_2(out)\n",
        "        out = self.relu(out)\n",
        "        out = self.layer_out(out)\n",
        "        out = self.softmax(out)\n",
        "\n",
        "\n",
        "        return out\n"
      ]
    },
    {
      "cell_type": "code",
      "execution_count": null,
      "metadata": {
        "id": "_v-NfjJ6dX0q"
      },
      "outputs": [],
      "source": [
        "from torchmetrics import Accuracy\n",
        "from torchmetrics import F1Score"
      ]
    },
    {
      "cell_type": "code",
      "execution_count": null,
      "metadata": {
        "id": "aD13BcFCc07a"
      },
      "outputs": [],
      "source": [
        "epochs = 30\n",
        "learning_rate = 0.001\n",
        "torch_model = NeuralNet()\n",
        "\n",
        "# Loss function and Optimizer\n",
        "loss_fn = nn.CrossEntropyLoss()\n",
        "optimizer = torch.optim.Adam(torch_model.parameters(), lr = learning_rate)\n",
        "accuracy = Accuracy(task = 'multiclass', num_classes=10)\n",
        "f1 = F1Score(task = 'multiclass', num_classes=10)\n",
        "\n",
        "loss_batch = []\n",
        "loss_epoch = []\n",
        "loss_batch_val = []\n",
        "loss_epoch_val = []\n",
        "accuracy_batch = []\n",
        "accuracy_total = []\n",
        "f1_batch = []\n",
        "f1_total = []"
      ]
    },
    {
      "cell_type": "code",
      "execution_count": null,
      "metadata": {
        "colab": {
          "base_uri": "https://localhost:8080/"
        },
        "id": "JJLdRxQvejD9",
        "outputId": "8646d9f4-5dd7-4957-bff5-15d0745f2982"
      },
      "outputs": [
        {
          "name": "stdout",
          "output_type": "stream",
          "text": [
            "Epoch 0/15, Loss: 1.6799\n",
            "Epoch 1/15, Loss: 1.7112\n",
            "Epoch 2/15, Loss: 1.6799\n",
            "Epoch 3/15, Loss: 1.7737\n",
            "Epoch 4/15, Loss: 1.6487\n",
            "Epoch 5/15, Loss: 1.7112\n",
            "Epoch 6/15, Loss: 1.5862\n",
            "Epoch 7/15, Loss: 1.7737\n",
            "Epoch 8/15, Loss: 1.6174\n",
            "Epoch 9/15, Loss: 1.8987\n",
            "Epoch 10/15, Loss: 1.6799\n",
            "Epoch 11/15, Loss: 1.7111\n",
            "Epoch 12/15, Loss: 1.7104\n",
            "Epoch 13/15, Loss: 1.7112\n",
            "Epoch 14/15, Loss: 1.6484\n",
            "accuracy: 91.46%\n",
            "f1: 0.91\n"
          ]
        }
      ],
      "source": [
        "for epoch in range(epochs):\n",
        "    for batch, (input, output) in enumerate(train_loader):\n",
        "        torch_model.train()\n",
        "        optimizer.zero_grad()\n",
        "\n",
        "        y_pred = torch_model(input)\n",
        "        loss = loss_fn(y_pred, output)\n",
        "        loss.backward()\n",
        "        loss_batch.append(loss.detach().numpy().item())\n",
        "\n",
        "        optimizer.step()\n",
        "\n",
        "    loss_epoch.append(np.mean(loss_batch))\n",
        "\n",
        "    # if epoch % 50 == 0:\n",
        "    print(f'Epoch {epoch}/{epochs}, Loss: {loss.item():.4f}')\n",
        "\n",
        "# Eval model\n",
        "    for iteration, (input, output) in enumerate(test_loader):\n",
        "      torch_model.eval()\n",
        "      with torch.no_grad():\n",
        "          y_pred = torch_model(input)\n",
        "\n",
        "          loss = loss_fn(y_pred, output)\n",
        "\n",
        "          loss_batch_val.append(loss.detach().numpy().item())\n",
        "          batch_accuracy = accuracy(y_pred, output)\n",
        "          accuracy_batch.append(batch_accuracy.detach().numpy().item())\n",
        "          batch_f1 = f1(y_pred, output)\n",
        "          f1_batch.append(batch_f1.detach().numpy().item())\n",
        "\n",
        "    loss_epoch_val.append(np.mean(loss_batch_val))\n",
        "    accuracy_total.append(np.mean(accuracy_batch))\n",
        "    f1_total.append(np.mean(f1_batch))\n",
        "\n",
        "\n",
        "model_accuracy = accuracy_total[-1]\n",
        "model_f1 = f1_total[-1]\n",
        "print(f'accuracy: {model_accuracy:.2%}')\n",
        "print(f'f1: {model_f1:.2f}')"
      ]
    },
    {
      "cell_type": "code",
      "execution_count": null,
      "metadata": {
        "id": "ZgVqQfXmthN3"
      },
      "outputs": [],
      "source": [
        "import torch\n",
        "import torch.nn as nn\n",
        "import torchvision\n",
        "import torchvision.transforms as transforms\n",
        "import torch.optim as optim"
      ]
    },
    {
      "cell_type": "markdown",
      "metadata": {
        "id": "eqMhER6OthN3"
      },
      "source": [
        "# without convolution (pytorch)"
      ]
    },
    {
      "cell_type": "code",
      "execution_count": null,
      "metadata": {
        "id": "Gt5RO1hethN4"
      },
      "outputs": [],
      "source": [
        "from tensorflow.keras.datasets import mnist, fashion_mnist\n",
        "(x_train, y_train), (x_test, y_test) = mnist.load_data()\n",
        "y_train = torch.LongTensor(y_train)\n",
        "y_test = torch.LongTensor(y_test)\n",
        "\n",
        "x_train_upd_2 = x_train / 255\n",
        "x_test_upd_2 = x_test / 255\n",
        "\n",
        "# Adds 3rd layer. Because the pictures are grayscaled and the convolution works with 3d\n",
        "x_train_upd_2 = np.expand_dims(x_train_upd_2, axis = 3)\n",
        "x_test_upd_2 = np.expand_dims(x_test_upd_2, axis = 3)\n",
        "\n",
        "\n",
        "X_train = torch.tensor(x_train_upd_2, dtype=torch.float32).view(-1, 28 * 28)\n",
        "X_test = torch.tensor(x_test_upd_2, dtype=torch.float32).view(-1, 28 * 28)"
      ]
    },
    {
      "cell_type": "code",
      "execution_count": null,
      "metadata": {
        "id": "NYsYK4Q3thN4",
        "outputId": "2e02f86c-a4b8-4f5f-c815-f632ce89840a"
      },
      "outputs": [
        {
          "name": "stdout",
          "output_type": "stream",
          "text": [
            "epoch:     1 loss: 1.6167 accuracy: 0.8597\n",
            "epoch:     2 loss: 1.5299 accuracy: 0.9352\n",
            "epoch:     3 loss: 1.5155 accuracy: 0.9487\n",
            "epoch:     4 loss: 1.5065 accuracy: 0.9574\n",
            "epoch:     5 loss: 1.5000 accuracy: 0.9636\n",
            "epoch:     6 loss: 1.4957 accuracy: 0.9678\n",
            "epoch:     7 loss: 1.4922 accuracy: 0.9710\n",
            "epoch:     8 loss: 1.4887 accuracy: 0.9745\n",
            "epoch:     9 loss: 1.4867 accuracy: 0.9762\n",
            "epoch:    10 loss: 1.4848 accuracy: 0.9783\n",
            "epoch:    11 loss: 1.4836 accuracy: 0.9793\n",
            "epoch:    12 loss: 1.4821 accuracy: 0.9807\n",
            "epoch:    13 loss: 1.4804 accuracy: 0.9822\n",
            "epoch:    14 loss: 1.4799 accuracy: 0.9827\n",
            "epoch:    15 loss: 1.4788 accuracy: 0.9837\n"
          ]
        }
      ],
      "source": [
        "class NeuralNet(nn.Module):\n",
        "    def __init__(self, input_size, hidden_size, num_classes):\n",
        "        super(NeuralNet, self).__init__()\n",
        "        self.fc1 = nn.Linear(input_size, hidden_size)\n",
        "        # self.fc2 = nn.Linear(hidden_size, hidden_size)\n",
        "        self.fc3 = nn.Linear(hidden_size, num_classes)\n",
        "\n",
        "    def forward(self, x):\n",
        "        out = torch.relu(self.fc1(x))\n",
        "        # out = torch.relu(self.fc2(out))\n",
        "        out = torch.softmax(self.fc3(out), dim=1)\n",
        "        return out\n",
        "\n",
        "model = NeuralNet(input_size=28 * 28, hidden_size=64, num_classes=10)\n",
        "\n",
        "loss = nn.CrossEntropyLoss()\n",
        "optimizer = optim.SGD(model.parameters(), lr=0.1, momentum=0.8)\n",
        "\n",
        "def fit(model, X, Y, batch_size=32, train=True):\n",
        "    model.train(train)\n",
        "    sumL, sumA, numB = 0, 0, math.ceil(len(X) / batch_size)\n",
        "    list_predict = []\n",
        "    for i in range(0, numB * batch_size, batch_size):\n",
        "        xb = X[i:i + batch_size]\n",
        "        yb = Y[i:i + batch_size]\n",
        "\n",
        "        y = model(xb)\n",
        "        L = loss(y, yb)\n",
        "\n",
        "        if train:\n",
        "            optimizer.zero_grad()\n",
        "            L.backward()\n",
        "            optimizer.step()\n",
        "\n",
        "        sumL += L.item()\n",
        "        _, predicted = torch.max(y, 1)\n",
        "        sumA += (predicted == yb).float().mean()\n",
        "\n",
        "        list_predict.extend(predicted.detach().numpy())\n",
        "\n",
        "    return sumL / numB, sumA / numB, list_predict\n",
        "\n",
        "# print(\"before: loss: %.4f accuracy: %.4f\" % fit(model, X_train, y_train, train=False))\n",
        "\n",
        "epochs = 15\n",
        "for epoch in range(epochs):\n",
        "    L, A, predicted = fit(model, X_train, y_train)\n",
        "\n",
        "    if epoch % 1 == 0 or epoch == epochs - 1:\n",
        "        print(f'epoch: {epoch+1:5d} loss: {L:.4f} accuracy: {A:.4f}')"
      ]
    },
    {
      "cell_type": "code",
      "execution_count": null,
      "metadata": {
        "id": "6_BA6_L4thN5",
        "outputId": "bb386db9-cbbe-4b76-9629-dfab3ae49d10"
      },
      "outputs": [
        {
          "name": "stdout",
          "output_type": "stream",
          "text": [
            "epoch:    15 loss: 1.4901 accuracy: 0.97214454 \n"
          ]
        }
      ],
      "source": [
        "L, A, predicted = fit(model, X_test, y_test, train=False)\n",
        "print(f'epoch: {epoch+1:5d} loss: {L:.4f} accuracy: {A:.8f} ')"
      ]
    },
    {
      "cell_type": "code",
      "execution_count": null,
      "metadata": {
        "id": "Ojrk8wJUthOD",
        "outputId": "628d86e4-cc5d-4b98-84fd-7555df9a79cf"
      },
      "outputs": [
        {
          "data": {
            "text/plain": [
              "0.972100019454956"
            ]
          },
          "execution_count": 280,
          "metadata": {},
          "output_type": "execute_result"
        }
      ],
      "source": [
        "f1 = F1Score(task=\"multiclass\", num_classes=10)\n",
        "f1_ = f1(torch.LongTensor(predicted), y_test)\n",
        "f1_.item()"
      ]
    },
    {
      "cell_type": "markdown",
      "metadata": {
        "id": "FDcvnW6wthOE"
      },
      "source": [
        "# using convolution (pytorch)"
      ]
    },
    {
      "cell_type": "code",
      "execution_count": null,
      "metadata": {
        "id": "iv3Nnlm3thOE"
      },
      "outputs": [],
      "source": [
        "from tensorflow.keras.datasets import mnist, fashion_mnist\n",
        "(x_train, y_train), (x_test, y_test) = mnist.load_data()\n",
        "y_train = torch.LongTensor(y_train)\n",
        "y_test = torch.LongTensor(y_test)\n",
        "\n",
        "\n",
        "x_train_upd_2 = x_train / 255.0\n",
        "x_test_upd_2 = x_test / 255.0\n",
        "\n",
        "\n",
        "X_train = torch.tensor(x_train_upd_2, dtype=torch.float32).unsqueeze(1)\n",
        "X_test = torch.tensor(x_test_upd_2, dtype=torch.float32).unsqueeze(1)\n"
      ]
    },
    {
      "cell_type": "code",
      "execution_count": null,
      "metadata": {
        "id": "zIVb7BCZthOE"
      },
      "outputs": [],
      "source": [
        "import math"
      ]
    },
    {
      "cell_type": "code",
      "execution_count": null,
      "metadata": {
        "id": "h3cviVRnthOF"
      },
      "outputs": [],
      "source": [
        "import torch.nn.functional as F\n",
        "import torch.optim as optim"
      ]
    },
    {
      "cell_type": "code",
      "execution_count": null,
      "metadata": {
        "id": "EMyFg0HJthOF",
        "outputId": "cb1a4ae5-6c1f-4cac-ad40-df29bd995358"
      },
      "outputs": [
        {
          "name": "stdout",
          "output_type": "stream",
          "text": [
            "epoch:     1 loss: 1.7959 accuracy: 0.6671\n",
            "epoch:     2 loss: 1.7071 accuracy: 0.7536\n",
            "epoch:     3 loss: 1.6222 accuracy: 0.8394\n",
            "epoch:     4 loss: 1.6032 accuracy: 0.8584\n",
            "epoch:     5 loss: 1.5899 accuracy: 0.8720\n",
            "epoch:     6 loss: 1.5140 accuracy: 0.9495\n",
            "epoch:     7 loss: 1.4881 accuracy: 0.9744\n",
            "epoch:     8 loss: 1.4835 accuracy: 0.9790\n",
            "epoch:     9 loss: 1.4805 accuracy: 0.9817\n",
            "epoch:    10 loss: 1.4784 accuracy: 0.9837\n",
            "epoch:    11 loss: 1.4768 accuracy: 0.9852\n",
            "epoch:    12 loss: 1.4755 accuracy: 0.9866\n",
            "epoch:    13 loss: 1.4744 accuracy: 0.9876\n",
            "epoch:    14 loss: 1.4736 accuracy: 0.9883\n",
            "epoch:    15 loss: 1.4727 accuracy: 0.9892\n"
          ]
        }
      ],
      "source": [
        "class NeuralNet(nn.Module):\n",
        "    def __init__(self, num_classes, hidden_size):\n",
        "        super(NeuralNet, self).__init__()\n",
        "        self.conv1 = nn.Conv2d(in_channels=1, out_channels=16, kernel_size=3, stride=1, padding=1)\n",
        "        self.pool = nn.MaxPool2d(kernel_size=2, stride=2)\n",
        "        self.fc1 = nn.Linear(16 * 14 * 14, hidden_size)\n",
        "        self.fc2 = nn.Linear(hidden_size, num_classes)\n",
        "\n",
        "    def forward(self, x):\n",
        "        out = F.relu(self.conv1(x))\n",
        "        out = self.pool(out)\n",
        "        out = torch.flatten(out, start_dim=1)\n",
        "        out = torch.relu(self.fc1(out))\n",
        "        out = torch.softmax(self.fc2(out), dim=1)\n",
        "        return out\n",
        "\n",
        "model = NeuralNet(num_classes=10, hidden_size=20)\n",
        "\n",
        "loss = nn.CrossEntropyLoss()\n",
        "optimizer = optim.SGD(model.parameters(), lr=0.05, momentum=0.8)\n",
        "\n",
        "def fit(model, X, Y, batch_size=32, train=True):\n",
        "    model.train(train)\n",
        "    sumL, sumA, numB = 0, 0, math.ceil(len(X) / batch_size)\n",
        "    list_predict = []\n",
        "    for i in range(0, numB * batch_size, batch_size):\n",
        "        xb = X[i:i + batch_size]\n",
        "        yb = Y[i:i + batch_size]\n",
        "\n",
        "        y = model(xb)\n",
        "        L = loss(y, yb)\n",
        "\n",
        "        if train:\n",
        "            optimizer.zero_grad()\n",
        "            L.backward()\n",
        "            optimizer.step()\n",
        "\n",
        "        sumL += L.item()\n",
        "        _, predicted = torch.max(y, 1)\n",
        "        sumA += (predicted == yb).float().mean()\n",
        "\n",
        "        list_predict.extend(predicted.detach().numpy())\n",
        "\n",
        "    return sumL / numB, sumA / numB, list_predict\n",
        "\n",
        "# print(\"before: loss: %.4f accuracy: %.4f\" % fit(model, X_train, y_train, train=False))\n",
        "\n",
        "epochs = 15\n",
        "for epoch in range(epochs):\n",
        "    L, A, predicted = fit(model, X_train, y_train)\n",
        "\n",
        "    if epoch % 1 == 0 or epoch == epochs - 1:\n",
        "        print(f'epoch: {epoch+1:5d} loss: {L:.4f} accuracy: {A:.4f}')"
      ]
    },
    {
      "cell_type": "code",
      "execution_count": null,
      "metadata": {
        "id": "-LmwOxrnthOG",
        "outputId": "93795884-5868-4d63-b319-ded41c858990"
      },
      "outputs": [
        {
          "name": "stdout",
          "output_type": "stream",
          "text": [
            "epoch:    15 loss: 1.4779 accuracy: 0.98362619 \n"
          ]
        }
      ],
      "source": [
        "L, A, predicted = fit(model, X_test, y_test, train=False)\n",
        "print(f'epoch: {epoch+1:5d} loss: {L:.4f} accuracy: {A:.8f} ')"
      ]
    },
    {
      "cell_type": "code",
      "execution_count": null,
      "metadata": {
        "id": "hlZ1Sif0thOG",
        "outputId": "5ea44650-fe51-4645-86dc-212124e85456"
      },
      "outputs": [
        {
          "data": {
            "text/plain": [
              "0.9836000204086304"
            ]
          },
          "execution_count": 262,
          "metadata": {},
          "output_type": "execute_result"
        }
      ],
      "source": [
        "f1 = F1Score(task=\"multiclass\", num_classes=10)\n",
        "f1_ = f1(torch.LongTensor(predicted), y_test)\n",
        "f1_.item()"
      ]
    },
    {
      "cell_type": "code",
      "execution_count": null,
      "metadata": {
        "id": "K_ujMOi0thOH",
        "outputId": "2c16050b-ad2a-41c4-99cb-45a785efd0af"
      },
      "outputs": [
        {
          "name": "stdout",
          "output_type": "stream",
          "text": [
            "Defaulting to user installation because normal site-packages is not writeable\n",
            "Requirement already satisfied: torchmetrics in c:\\users\\алёна\\appdata\\roaming\\python\\python311\\site-packages (1.4.1)\n",
            "Requirement already satisfied: numpy>1.20.0 in c:\\users\\алёна\\appdata\\roaming\\python\\python311\\site-packages (from torchmetrics) (1.26.2)\n",
            "Requirement already satisfied: packaging>17.1 in c:\\users\\алёна\\appdata\\roaming\\python\\python311\\site-packages (from torchmetrics) (23.1)\n",
            "Requirement already satisfied: torch>=1.10.0 in c:\\users\\алёна\\appdata\\roaming\\python\\python311\\site-packages (from torchmetrics) (2.3.1)\n",
            "Requirement already satisfied: lightning-utilities>=0.8.0 in c:\\users\\алёна\\appdata\\roaming\\python\\python311\\site-packages (from torchmetrics) (0.11.7)\n",
            "Requirement already satisfied: setuptools in c:\\programdata\\anaconda3\\lib\\site-packages (from lightning-utilities>=0.8.0->torchmetrics) (68.2.2)\n",
            "Requirement already satisfied: typing-extensions in c:\\programdata\\anaconda3\\lib\\site-packages (from lightning-utilities>=0.8.0->torchmetrics) (4.9.0)\n",
            "Requirement already satisfied: filelock in c:\\programdata\\anaconda3\\lib\\site-packages (from torch>=1.10.0->torchmetrics) (3.13.1)\n",
            "Requirement already satisfied: sympy in c:\\programdata\\anaconda3\\lib\\site-packages (from torch>=1.10.0->torchmetrics) (1.12)\n",
            "Requirement already satisfied: networkx in c:\\programdata\\anaconda3\\lib\\site-packages (from torch>=1.10.0->torchmetrics) (3.1)\n",
            "Requirement already satisfied: jinja2 in c:\\users\\алёна\\appdata\\roaming\\python\\python311\\site-packages (from torch>=1.10.0->torchmetrics) (3.1.2)\n",
            "Requirement already satisfied: fsspec in c:\\programdata\\anaconda3\\lib\\site-packages (from torch>=1.10.0->torchmetrics) (2023.10.0)\n",
            "Requirement already satisfied: mkl<=2021.4.0,>=2021.1.1 in c:\\users\\алёна\\appdata\\roaming\\python\\python311\\site-packages (from torch>=1.10.0->torchmetrics) (2021.4.0)\n",
            "Requirement already satisfied: intel-openmp==2021.* in c:\\users\\алёна\\appdata\\roaming\\python\\python311\\site-packages (from mkl<=2021.4.0,>=2021.1.1->torch>=1.10.0->torchmetrics) (2021.4.0)\n",
            "Requirement already satisfied: tbb==2021.* in c:\\users\\алёна\\appdata\\roaming\\python\\python311\\site-packages (from mkl<=2021.4.0,>=2021.1.1->torch>=1.10.0->torchmetrics) (2021.13.0)\n",
            "Requirement already satisfied: MarkupSafe>=2.0 in c:\\users\\алёна\\appdata\\roaming\\python\\python311\\site-packages (from jinja2->torch>=1.10.0->torchmetrics) (2.1.3)\n",
            "Requirement already satisfied: mpmath>=0.19 in c:\\programdata\\anaconda3\\lib\\site-packages (from sympy->torch>=1.10.0->torchmetrics) (1.3.0)\n"
          ]
        }
      ],
      "source": [
        "!pip install torchmetrics"
      ]
    },
    {
      "cell_type": "code",
      "execution_count": null,
      "metadata": {
        "id": "dm0ajMM0thOI"
      },
      "outputs": [],
      "source": [
        "from torchmetrics import F1Score"
      ]
    },
    {
      "cell_type": "code",
      "execution_count": null,
      "metadata": {
        "id": "RhBgPD-WthOI",
        "outputId": "355128e5-fbb3-446b-decd-eaad69efe7cf"
      },
      "outputs": [
        {
          "data": {
            "text/plain": [
              "0.9825000166893005"
            ]
          },
          "execution_count": 99,
          "metadata": {},
          "output_type": "execute_result"
        }
      ],
      "source": [
        "f1 = F1Score(task=\"multiclass\", num_classes=10)\n",
        "f1_ = f1(torch.LongTensor(predicted), y_test)\n",
        "f1_.item()"
      ]
    },
    {
      "cell_type": "code",
      "execution_count": null,
      "metadata": {
        "id": "vXH9scnlthON"
      },
      "outputs": [],
      "source": [
        "(x_train, y_train), (x_test, y_test) = fashion_mnist.load_data()"
      ]
    },
    {
      "cell_type": "code",
      "execution_count": null,
      "metadata": {
        "id": "Pg6GNM-0thON"
      },
      "outputs": [],
      "source": [
        "(x_train2, y_train2), (x_test2, y_test2) = ((x_train, y_train)[:]), ((x_test, y_test)[:])"
      ]
    },
    {
      "cell_type": "code",
      "execution_count": null,
      "metadata": {
        "id": "mxXpGGFbthON"
      },
      "outputs": [],
      "source": [
        "x_train_upd2 = []\n",
        "\n",
        "for elem in x_train2:\n",
        "    x_train_upd2.append(elem.flatten())\n",
        "\n",
        "x_train_upd2 = np.array(x_train_upd2)\n",
        "\n",
        "x_test_upd2 = []\n",
        "\n",
        "for elem in x_test2:\n",
        "    x_test_upd2.append(elem.flatten())\n",
        "\n",
        "x_test_upd2 = np.array(x_test_upd2)"
      ]
    },
    {
      "cell_type": "markdown",
      "metadata": {
        "id": "aAPqc9XGthOO"
      },
      "source": [
        "# without convolution (tensorflow)"
      ]
    },
    {
      "cell_type": "code",
      "execution_count": null,
      "metadata": {
        "id": "AFTSx7AmthOO"
      },
      "outputs": [],
      "source": [
        "tf_model2 = keras.Sequential(\n",
        "    [\n",
        "        keras.layers.Dense(128, activation = 'relu', input_shape = (784,)),\n",
        "        keras.layers.Dropout(0.1),\n",
        "        keras.layers.Dense(64, activation = 'relu'),\n",
        "        keras.layers.Dense(10, activation = 'softmax')\n",
        "    ]\n",
        ")\n",
        "\n",
        "tf_model2.compile( optimizer = keras.optimizers.Adam(learning_rate = 0.001), loss = keras.losses.SparseCategoricalCrossentropy(from_logits=True), metrics = ['Accuracy'])\n"
      ]
    },
    {
      "cell_type": "code",
      "execution_count": null,
      "metadata": {
        "id": "bbj8kvxithOP",
        "outputId": "d4a91ff7-ca82-44eb-9cf6-5b2ac8092f6f"
      },
      "outputs": [
        {
          "name": "stdout",
          "output_type": "stream",
          "text": [
            "Epoch 1/15\n",
            "1688/1688 - 3s - 2ms/step - Accuracy: 0.7839 - loss: 0.6015 - val_Accuracy: 0.8248 - val_loss: 0.5114\n",
            "Epoch 2/15\n",
            "1688/1688 - 3s - 2ms/step - Accuracy: 0.7961 - loss: 0.5594 - val_Accuracy: 0.8187 - val_loss: 0.5053\n",
            "Epoch 3/15\n",
            "1688/1688 - 3s - 2ms/step - Accuracy: 0.8037 - loss: 0.5446 - val_Accuracy: 0.8222 - val_loss: 0.5090\n",
            "Epoch 4/15\n",
            "1688/1688 - 3s - 2ms/step - Accuracy: 0.8156 - loss: 0.5078 - val_Accuracy: 0.8407 - val_loss: 0.4402\n",
            "Epoch 5/15\n",
            "1688/1688 - 3s - 2ms/step - Accuracy: 0.8202 - loss: 0.4924 - val_Accuracy: 0.8347 - val_loss: 0.4429\n",
            "Epoch 6/15\n",
            "1688/1688 - 3s - 2ms/step - Accuracy: 0.8209 - loss: 0.4860 - val_Accuracy: 0.8438 - val_loss: 0.4378\n",
            "Epoch 7/15\n",
            "1688/1688 - 3s - 2ms/step - Accuracy: 0.8256 - loss: 0.4806 - val_Accuracy: 0.8303 - val_loss: 0.4710\n",
            "Epoch 8/15\n",
            "1688/1688 - 3s - 2ms/step - Accuracy: 0.8294 - loss: 0.4663 - val_Accuracy: 0.8488 - val_loss: 0.4199\n",
            "Epoch 9/15\n",
            "1688/1688 - 3s - 2ms/step - Accuracy: 0.8324 - loss: 0.4619 - val_Accuracy: 0.8475 - val_loss: 0.4309\n",
            "Epoch 10/15\n",
            "1688/1688 - 3s - 2ms/step - Accuracy: 0.8332 - loss: 0.4604 - val_Accuracy: 0.8405 - val_loss: 0.4337\n",
            "Epoch 11/15\n",
            "1688/1688 - 3s - 2ms/step - Accuracy: 0.8335 - loss: 0.4559 - val_Accuracy: 0.8475 - val_loss: 0.4451\n",
            "Epoch 12/15\n",
            "1688/1688 - 3s - 2ms/step - Accuracy: 0.8351 - loss: 0.4523 - val_Accuracy: 0.8452 - val_loss: 0.4259\n",
            "Epoch 13/15\n",
            "1688/1688 - 3s - 2ms/step - Accuracy: 0.8373 - loss: 0.4461 - val_Accuracy: 0.8397 - val_loss: 0.4476\n",
            "Epoch 14/15\n",
            "1688/1688 - 3s - 2ms/step - Accuracy: 0.8369 - loss: 0.4494 - val_Accuracy: 0.8492 - val_loss: 0.4272\n",
            "Epoch 15/15\n",
            "1688/1688 - 3s - 2ms/step - Accuracy: 0.8441 - loss: 0.4371 - val_Accuracy: 0.8560 - val_loss: 0.4078\n",
            "\u001b[1m313/313\u001b[0m \u001b[32m━━━━━━━━━━━━━━━━━━━━\u001b[0m\u001b[37m\u001b[0m \u001b[1m0s\u001b[0m 1ms/step - Accuracy: 0.8561 - loss: 0.4185\n"
          ]
        }
      ],
      "source": [
        "history = tf_model2.fit(x_train_upd2, y_train2, epochs = 15, validation_split = 0.1, verbose = 2)\n",
        "test_loss, test_accuracy = tf_model2.evaluate(x_test_upd2, y_test2)"
      ]
    },
    {
      "cell_type": "code",
      "execution_count": null,
      "metadata": {
        "id": "BYGe5Gl3thOP",
        "outputId": "df4b64f1-9049-459d-a695-e66e98956365"
      },
      "outputs": [
        {
          "name": "stdout",
          "output_type": "stream",
          "text": [
            "\u001b[1m313/313\u001b[0m \u001b[32m━━━━━━━━━━━━━━━━━━━━\u001b[0m\u001b[37m\u001b[0m \u001b[1m0s\u001b[0m 1ms/step\n",
            "accuracy: 0.8538\n",
            "f1: 0.8535706212242335\n",
            "recall: 0.0999\n",
            "precision: 0.8557442944750301\n"
          ]
        }
      ],
      "source": [
        "y_pred2 = tf_model2.predict(x_test_upd2)\n",
        "\n",
        "y_pred2 = y_pred2.argmax(axis=1)\n",
        "\n",
        "\n",
        "acc = accuracy_score(y_test2, y_pred2)\n",
        "\n",
        "precision = precision_score(y_test2, y_pred2, average=\"weighted\",zero_division=1)\n",
        "\n",
        "recall = recall_score(y_test2, y_pred,average=\"weighted\")\n",
        "\n",
        "f1 = f1_score(y_test2, y_pred2, average=\"weighted\")\n",
        "\n",
        "print(f\"accuracy: {acc}\")\n",
        "\n",
        "print(f\"f1: {f1}\")\n",
        "\n",
        "print(f\"recall: {recall}\")\n",
        "\n",
        "print(f\"precision: {precision}\")"
      ]
    },
    {
      "cell_type": "code",
      "execution_count": null,
      "metadata": {
        "id": "-vsZ_SkBthOR",
        "outputId": "96245aea-28c1-491c-a5ed-4bc1d7a0b300"
      },
      "outputs": [
        {
          "data": {
            "image/png": "[encoded data removed]",
            "text/plain": [
              "<Figure size 1000x1000 with 1 Axes>"
            ]
          },
          "metadata": {},
          "output_type": "display_data"
        }
      ],
      "source": [
        "plt.figure(figsize = (10, 10))\n",
        "plt.plot(history.history['loss'], label = 'train_loss', c = 'r')\n",
        "plt.plot(history.history['val_loss'], label = 'val_loss', c = 'b')\n",
        "plt.legend()\n",
        "plt.xlabel('Epoch')\n",
        "plt.ylabel('Loss')\n",
        "plt.title('Loss per Epoch')\n",
        "plt.show()"
      ]
    },
    {
      "cell_type": "markdown",
      "metadata": {
        "id": "x-Bc08aqthOR"
      },
      "source": [
        "# using convolution (tensorflow)"
      ]
    },
    {
      "cell_type": "code",
      "execution_count": null,
      "metadata": {
        "id": "wETkdNw9thOR"
      },
      "outputs": [],
      "source": [
        "(x_train2, y_train2), (x_test2, y_test2) = ((x_train, y_train)[:]), ((x_test, y_test)[:])\n",
        "\n",
        "# Normalization to improve learning speed\n",
        "x_train_upd_2 = x_train2 / 255\n",
        "x_test_upd_2 = x_test2 / 255\n",
        "\n",
        "# Adds 3rd layer. Because the pictures are grayscaled and the convolution works with 3d\n",
        "x_train_upd_2 = np.expand_dims(x_train_upd_2, axis = 3)\n",
        "x_test_upd_2 = np.expand_dims(x_test_upd_2, axis = 3)\n",
        "\n",
        "# Convolution network returns prbabilities, that why we need to replace each category with binary categorical vector\n",
        "y_train_cat = keras.utils.to_categorical(y_train2, 10)\n",
        "y_test_cat = keras.utils.to_categorical(y_test2, 10)"
      ]
    },
    {
      "cell_type": "code",
      "execution_count": null,
      "metadata": {
        "id": "kdWhJTPdthOS",
        "outputId": "99255813-8838-48af-fa9a-3af83d0337d7"
      },
      "outputs": [
        {
          "name": "stderr",
          "output_type": "stream",
          "text": [
            "C:\\Users\\Алёна\\AppData\\Roaming\\Python\\Python311\\site-packages\\keras\\src\\layers\\convolutional\\base_conv.py:107: UserWarning: Do not pass an `input_shape`/`input_dim` argument to a layer. When using Sequential models, prefer using an `Input(shape)` object as the first layer in the model instead.\n",
            "  super().__init__(activity_regularizer=activity_regularizer, **kwargs)\n"
          ]
        }
      ],
      "source": [
        "tf_model_2 = keras.Sequential(\n",
        "    [\n",
        "        keras.layers.Conv2D(128, (3,3), activation = 'relu', input_shape = (28, 28, 1)),\n",
        "        keras.layers.MaxPooling2D((2,2)),\n",
        "        keras.layers.Conv2D(64, (3,3), activation = 'relu'),\n",
        "        keras.layers.MaxPooling2D((2,2)),\n",
        "        keras.layers.Flatten(),\n",
        "        # keras.layers.BatchNormalization(),\n",
        "        keras.layers.Dense(64, activation = 'relu'),\n",
        "        keras.layers.Dropout(0.1),\n",
        "        # keras.layers.Dense(64, activation = 'relu'),\n",
        "        # keras.layers.Dense(50, activation = 'relu'),\n",
        "        keras.layers.Dense(10, activation = 'softmax')\n",
        "    ]\n",
        ")\n",
        "\n",
        "tf_model_2.compile( optimizer = keras.optimizers.Adam(learning_rate = 0.001), loss = tf.keras.losses.SparseCategoricalCrossentropy(), metrics = ['Accuracy'])"
      ]
    },
    {
      "cell_type": "code",
      "execution_count": null,
      "metadata": {
        "id": "nW0aFQWlthOS",
        "outputId": "28f50ac2-bfee-4e5e-fcbb-b6153bfbd803"
      },
      "outputs": [
        {
          "name": "stdout",
          "output_type": "stream",
          "text": [
            "Epoch 1/3\n",
            "1688/1688 - 33s - 20ms/step - Accuracy: 0.8506 - loss: 0.4163 - val_Accuracy: 0.8913 - val_loss: 0.2928\n",
            "Epoch 2/3\n",
            "1688/1688 - 28s - 17ms/step - Accuracy: 0.8999 - loss: 0.2756 - val_Accuracy: 0.9025 - val_loss: 0.2696\n",
            "Epoch 3/3\n",
            "1688/1688 - 25s - 15ms/step - Accuracy: 0.9138 - loss: 0.2310 - val_Accuracy: 0.9017 - val_loss: 0.2631\n",
            "\u001b[1m313/313\u001b[0m \u001b[32m━━━━━━━━━━━━━━━━━━━━\u001b[0m\u001b[37m\u001b[0m \u001b[1m1s\u001b[0m 3ms/step - Accuracy: 0.9034 - loss: 0.2730\n"
          ]
        }
      ],
      "source": [
        "history = tf_model_2.fit(x_train_upd_2, y_train2, epochs = 3, validation_split = 0.1, verbose = 2)\n",
        "test_loss, test_accuracy = tf_model_2.evaluate(x_test_upd_2, y_test2)"
      ]
    },
    {
      "cell_type": "code",
      "execution_count": null,
      "metadata": {
        "id": "EWnNkK-gthOT",
        "outputId": "d42134bb-6b35-4139-8226-80afbe07d9f8"
      },
      "outputs": [
        {
          "name": "stdout",
          "output_type": "stream",
          "text": [
            "Epoch 1/3\n",
            "1688/1688 - 55s - 33ms/step - Accuracy: 0.9272 - loss: 0.1957 - val_Accuracy: 0.9067 - val_loss: 0.2636\n",
            "Epoch 2/3\n",
            "1688/1688 - 45s - 27ms/step - Accuracy: 0.9382 - loss: 0.1675 - val_Accuracy: 0.8972 - val_loss: 0.2932\n",
            "Epoch 3/3\n",
            "1688/1688 - 46s - 27ms/step - Accuracy: 0.9451 - loss: 0.1458 - val_Accuracy: 0.9088 - val_loss: 0.2664\n",
            "\u001b[1m313/313\u001b[0m \u001b[32m━━━━━━━━━━━━━━━━━━━━\u001b[0m\u001b[37m\u001b[0m \u001b[1m2s\u001b[0m 6ms/step - Accuracy: 0.9065 - loss: 0.2791\n"
          ]
        }
      ],
      "source": [
        "history = tf_model_2.fit(x_train_upd_2, y_train2, epochs = 3, validation_split = 0.1, verbose = 2)\n",
        "test_loss, test_accuracy = tf_model_2.evaluate(x_test_upd_2, y_test2)"
      ]
    },
    {
      "cell_type": "code",
      "execution_count": null,
      "metadata": {
        "id": "b-H_bdrxthOT",
        "outputId": "2a9953ff-bde5-47df-e83b-722c51724c05"
      },
      "outputs": [
        {
          "name": "stdout",
          "output_type": "stream",
          "text": [
            "\u001b[1m313/313\u001b[0m \u001b[32m━━━━━━━━━━━━━━━━━━━━\u001b[0m\u001b[37m\u001b[0m \u001b[1m3s\u001b[0m 9ms/step\n",
            "accuracy: 0.908\n",
            "f1: 0.9088304615630459\n",
            "recall: 0.0999\n",
            "precision: 0.9122699385196414\n"
          ]
        }
      ],
      "source": [
        "y_pred2 = tf_model_2.predict(x_test_upd_2)\n",
        "\n",
        "y_pred2 = y_pred2.argmax(axis=1)\n",
        "\n",
        "\n",
        "acc = accuracy_score(y_test2, y_pred2)\n",
        "\n",
        "precision = precision_score(y_test2, y_pred2, average=\"weighted\",zero_division=1)\n",
        "\n",
        "recall = recall_score(y_test2, y_pred,average=\"weighted\")\n",
        "\n",
        "f1 = f1_score(y_test2, y_pred2, average=\"weighted\")\n",
        "\n",
        "print(f\"accuracy: {acc}\")\n",
        "\n",
        "print(f\"f1: {f1}\")\n",
        "\n",
        "print(f\"recall: {recall}\")\n",
        "\n",
        "print(f\"precision: {precision}\")"
      ]
    },
    {
      "cell_type": "code",
      "execution_count": null,
      "metadata": {
        "id": "X96V4dfkthOU",
        "outputId": "aec96df5-9206-4ccd-b399-94ea3ab8b773"
      },
      "outputs": [
        {
          "name": "stdout",
          "output_type": "stream",
          "text": [
            "\u001b[1m313/313\u001b[0m \u001b[32m━━━━━━━━━━━━━━━━━━━━\u001b[0m\u001b[37m\u001b[0m \u001b[1m3s\u001b[0m 9ms/step\n",
            "accuracy: 0.9028\n",
            "f1: 0.9028460973329405\n",
            "recall: 0.0999\n",
            "precision: 0.9046143792674222\n"
          ]
        }
      ],
      "source": [
        "y_pred2 = tf_model_2.predict(x_test_upd_2)\n",
        "\n",
        "y_pred2 = y_pred2.argmax(axis=1)\n",
        "\n",
        "\n",
        "acc = accuracy_score(y_test2, y_pred2)\n",
        "\n",
        "precision = precision_score(y_test2, y_pred2, average=\"weighted\",zero_division=1)\n",
        "\n",
        "recall = recall_score(y_test2, y_pred,average=\"weighted\")\n",
        "\n",
        "f1 = f1_score(y_test2, y_pred2, average=\"weighted\")\n",
        "\n",
        "print(f\"accuracy: {acc}\")\n",
        "\n",
        "print(f\"f1: {f1}\")\n",
        "\n",
        "print(f\"recall: {recall}\")\n",
        "\n",
        "print(f\"precision: {precision}\")"
      ]
    },
    {
      "cell_type": "code",
      "execution_count": null,
      "metadata": {
        "id": "scgpafArthOU"
      },
      "outputs": [],
      "source": [
        "import seaborn as sns\n",
        "from sklearn.metrics import accuracy_score, precision_score, recall_score, f1_score\n",
        "from sklearn.metrics import confusion_matrix"
      ]
    },
    {
      "cell_type": "code",
      "execution_count": null,
      "metadata": {
        "id": "qPUYVE0UthOU",
        "outputId": "3f23119d-36cd-40e0-92f4-508bae4db9a3"
      },
      "outputs": [
        {
          "data": {
            "text/plain": [
              "Text(50.722222222222214, 0.5, 'Truth')"
            ]
          },
          "execution_count": 158,
          "metadata": {},
          "output_type": "execute_result"
        },
        {
          "data": {
            "image/png": "[encoded data removed]",
            "text/plain": [
              "<Figure size 640x480 with 2 Axes>"
            ]
          },
          "metadata": {},
          "output_type": "display_data"
        }
      ],
      "source": [
        "cm = confusion_matrix(y_test2, y_pred2)\n",
        "\n",
        "\n",
        "sns.heatmap(cm, annot=True, fmt='d', cmap='Blues')\n",
        "\n",
        "plt.xlabel('Predicted')\n",
        "\n",
        "plt.ylabel('Truth')"
      ]
    },
    {
      "cell_type": "markdown",
      "metadata": {
        "id": "HunKrvt1thOV"
      },
      "source": [
        "# without convolution (pytorch)"
      ]
    },
    {
      "cell_type": "code",
      "execution_count": null,
      "metadata": {
        "id": "Y1wouOC1thOV"
      },
      "outputs": [],
      "source": [
        "import torch\n",
        "import torch.nn as nn\n",
        "import torchvision\n",
        "import torchvision.transforms as transforms\n",
        "import torch.optim as optim"
      ]
    },
    {
      "cell_type": "code",
      "execution_count": null,
      "metadata": {
        "id": "FoKMSoHpthOV"
      },
      "outputs": [],
      "source": [
        "from tensorflow.keras.datasets import mnist, fashion_mnist\n",
        "(x_train2, y_train2), (x_test2, y_test2) = ((x_train, y_train)[:]), ((x_test, y_test)[:])\n",
        "\n",
        "y_train = torch.LongTensor(y_train2)\n",
        "y_test = torch.LongTensor(y_test2)\n",
        "\n",
        "x_train_upd_2 = x_train2 / 255\n",
        "x_test_upd_2 = x_test2 / 255\n",
        "\n",
        "# Adds 3rd layer. Because the pictures are grayscaled and the convolution works with 3d\n",
        "x_train_upd_2 = np.expand_dims(x_train_upd_2, axis = 3)\n",
        "x_test_upd_2 = np.expand_dims(x_test_upd_2, axis = 3)\n",
        "\n",
        "\n",
        "X_train = torch.tensor(x_train_upd_2, dtype=torch.float32).view(-1, 28 * 28)\n",
        "X_test = torch.tensor(x_test_upd_2, dtype=torch.float32).view(-1, 28 * 28)"
      ]
    },
    {
      "cell_type": "code",
      "execution_count": null,
      "metadata": {
        "id": "LjO-I8ynthOW",
        "outputId": "fb49d6f7-233c-4b50-ba31-69df503b0e34"
      },
      "outputs": [
        {
          "name": "stdout",
          "output_type": "stream",
          "text": [
            "epoch:     1 loss: 1.7691 accuracy: 0.6976\n",
            "epoch:     2 loss: 1.6502 accuracy: 0.8137\n",
            "epoch:     3 loss: 1.6331 accuracy: 0.8288\n",
            "epoch:     4 loss: 1.6257 accuracy: 0.8355\n",
            "epoch:     5 loss: 1.6212 accuracy: 0.8401\n",
            "epoch:     6 loss: 1.6183 accuracy: 0.8428\n",
            "epoch:     7 loss: 1.6145 accuracy: 0.8468\n",
            "epoch:     8 loss: 1.6133 accuracy: 0.8475\n",
            "epoch:     9 loss: 1.6122 accuracy: 0.8487\n",
            "epoch:    10 loss: 1.6104 accuracy: 0.8505\n",
            "epoch:    11 loss: 1.6096 accuracy: 0.8515\n",
            "epoch:    12 loss: 1.6068 accuracy: 0.8545\n",
            "epoch:    13 loss: 1.6087 accuracy: 0.8520\n",
            "epoch:    14 loss: 1.6042 accuracy: 0.8568\n",
            "epoch:    15 loss: 1.6034 accuracy: 0.8575\n"
          ]
        }
      ],
      "source": [
        "class NeuralNet(nn.Module):\n",
        "    def __init__(self, input_size, hidden_size, num_classes):\n",
        "        super(NeuralNet, self).__init__()\n",
        "        self.fc1 = nn.Linear(input_size, hidden_size)\n",
        "        # self.fc2 = nn.Linear(hidden_size, hidden_size)\n",
        "        self.fc3 = nn.Linear(hidden_size, num_classes)\n",
        "\n",
        "    def forward(self, x):\n",
        "        out = torch.relu(self.fc1(x))\n",
        "        # out = torch.relu(self.fc2(out))\n",
        "        out = torch.softmax(self.fc3(out), dim=1)\n",
        "        return out\n",
        "\n",
        "model = NeuralNet(input_size=28 * 28, hidden_size=20, num_classes=10)\n",
        "\n",
        "loss = nn.CrossEntropyLoss()\n",
        "optimizer = optim.SGD(model.parameters(), lr=0.1, momentum=0.8)\n",
        "\n",
        "def fit(model, X, Y, batch_size=32, train=True):\n",
        "    model.train(train)\n",
        "    sumL, sumA, numB = 0, 0, math.ceil(len(X) / batch_size)\n",
        "    list_predict = []\n",
        "    for i in range(0, numB * batch_size, batch_size):\n",
        "        xb = X[i:i + batch_size]\n",
        "        yb = Y[i:i + batch_size]\n",
        "\n",
        "        y = model(xb)\n",
        "        L = loss(y, yb)\n",
        "\n",
        "        if train:\n",
        "            optimizer.zero_grad()\n",
        "            L.backward()\n",
        "            optimizer.step()\n",
        "\n",
        "        sumL += L.item()\n",
        "        _, predicted = torch.max(y, 1)\n",
        "        sumA += (predicted == yb).float().mean()\n",
        "\n",
        "        list_predict.extend(predicted.detach().numpy())\n",
        "\n",
        "    return sumL / numB, sumA / numB, list_predict\n",
        "\n",
        "# print(\"before: loss: %.4f accuracy: %.4f\" % fit(model, X_train, y_train, train=False))\n",
        "\n",
        "epochs = 15\n",
        "for epoch in range(epochs):\n",
        "    L, A, predicted = fit(model, X_train, y_train)\n",
        "\n",
        "    if epoch % 1 == 0 or epoch == epochs - 1:\n",
        "        print(f'epoch: {epoch+1:5d} loss: {L:.4f} accuracy: {A:.4f}')"
      ]
    },
    {
      "cell_type": "code",
      "execution_count": null,
      "metadata": {
        "id": "zkqUuQqcthOW",
        "outputId": "6f6af43d-808f-4369-a012-d2fab90c867a"
      },
      "outputs": [
        {
          "name": "stdout",
          "output_type": "stream",
          "text": [
            "epoch:    15 loss: 1.6268 accuracy: 0.83366615 \n"
          ]
        }
      ],
      "source": [
        "L, A, predicted = fit(model, X_test, y_test, train=False)\n",
        "print(f'epoch: {epoch+1:5d} loss: {L:.4f} accuracy: {A:.8f} ')"
      ]
    },
    {
      "cell_type": "code",
      "execution_count": null,
      "metadata": {
        "id": "5L4n4Vz9thOW",
        "outputId": "f2d419f4-2176-4c65-edb6-63443079eda7"
      },
      "outputs": [
        {
          "data": {
            "text/plain": [
              "0.8337000012397766"
            ]
          },
          "execution_count": 224,
          "metadata": {},
          "output_type": "execute_result"
        }
      ],
      "source": [
        "f1 = F1Score(task=\"multiclass\", num_classes=10)\n",
        "f1_ = f1(torch.LongTensor(predicted), y_test)\n",
        "f1_.item()"
      ]
    },
    {
      "cell_type": "markdown",
      "metadata": {
        "id": "SOVLavA8thOW"
      },
      "source": [
        "# using convolution (pytorch)"
      ]
    },
    {
      "cell_type": "code",
      "execution_count": null,
      "metadata": {
        "id": "7hHRuk0SthOX"
      },
      "outputs": [],
      "source": [
        "from tensorflow.keras.datasets import mnist, fashion_mnist\n",
        "(x_train2, y_train2), (x_test2, y_test2) = ((x_train, y_train)[:]), ((x_test, y_test)[:])\n",
        "y_train = torch.LongTensor(y_train2)\n",
        "y_test = torch.LongTensor(y_test2)\n",
        "\n",
        "\n",
        "x_train_upd_2 = x_train2 / 255.0\n",
        "x_test_upd_2 = x_test2 / 255.0\n",
        "\n",
        "\n",
        "X_train = torch.tensor(x_train_upd_2, dtype=torch.float32).unsqueeze(1)\n",
        "X_test = torch.tensor(x_test_upd_2, dtype=torch.float32).unsqueeze(1)"
      ]
    },
    {
      "cell_type": "code",
      "execution_count": null,
      "metadata": {
        "id": "3xGdem6pthOX",
        "outputId": "dd215729-4bf2-414d-a624-d44fa0f3aac8"
      },
      "outputs": [
        {
          "name": "stdout",
          "output_type": "stream",
          "text": [
            "epoch:     1 loss: 1.8261 accuracy: 0.6531\n",
            "epoch:     2 loss: 1.6814 accuracy: 0.7819\n",
            "epoch:     3 loss: 1.6518 accuracy: 0.8113\n",
            "epoch:     4 loss: 1.6281 accuracy: 0.8350\n",
            "epoch:     5 loss: 1.6134 accuracy: 0.8493\n"
          ]
        }
      ],
      "source": [
        "class NeuralNet(nn.Module):\n",
        "    def __init__(self, num_classes, hidden_size):\n",
        "        super(NeuralNet, self).__init__()\n",
        "        self.conv1 = nn.Conv2d(in_channels=1, out_channels=128, kernel_size=3, stride=1, padding=1)\n",
        "        self.pool1 = nn.MaxPool2d(kernel_size=2, stride=2)\n",
        "        self.conv2 = nn.Conv2d(in_channels=128, out_channels=64, kernel_size=3, stride=1, padding=1)\n",
        "        self.pool2 = nn.MaxPool2d(kernel_size=2, stride=2)\n",
        "        self.fc1 = nn.Linear(64 * 7 * 7, hidden_size)\n",
        "        self.fc2 = nn.Linear(hidden_size, num_classes)\n",
        "\n",
        "    def forward(self, x):\n",
        "        out = F.relu(self.conv1(x))\n",
        "        out = self.pool1(out)\n",
        "        out = F.relu(self.conv2(out))\n",
        "        out = self.pool2(out)\n",
        "        out = torch.flatten(out, start_dim=1)\n",
        "        out = torch.relu(self.fc1(out))\n",
        "        out = torch.softmax(self.fc2(out), dim=1)\n",
        "        return out\n",
        "\n",
        "model = NeuralNet(num_classes=10, hidden_size=64)\n",
        "\n",
        "loss = nn.CrossEntropyLoss()\n",
        "optimizer = optim.SGD(model.parameters(), lr=0.01, momentum=0.8)\n",
        "\n",
        "def fit(model, X, Y, batch_size=32, train=True):\n",
        "    model.train(train)\n",
        "    sumL, sumA, numB = 0, 0, math.ceil(len(X) / batch_size)\n",
        "    list_predict = []\n",
        "    for i in range(0, numB * batch_size, batch_size):\n",
        "        xb = X[i:i + batch_size]\n",
        "        yb = Y[i:i + batch_size]\n",
        "\n",
        "        y = model(xb)\n",
        "        L = loss(y, yb)\n",
        "\n",
        "        if train:\n",
        "            optimizer.zero_grad()\n",
        "            L.backward()\n",
        "            optimizer.step()\n",
        "\n",
        "        sumL += L.item()\n",
        "        _, predicted = torch.max(y, 1)\n",
        "        sumA += (predicted == yb).float().mean()\n",
        "\n",
        "        list_predict.extend(predicted.detach().numpy())\n",
        "\n",
        "    return sumL / numB, sumA / numB, list_predict\n",
        "\n",
        "# print(\"before: loss: %.4f accuracy: %.4f\" % fit(model, X_train, y_train, train=False))\n",
        "\n",
        "epochs = 5\n",
        "for epoch in range(epochs):\n",
        "    L, A, predicted = fit(model, X_train, y_train)\n",
        "\n",
        "    if epoch % 1 == 0 or epoch == epochs - 1:\n",
        "        print(f'epoch: {epoch+1:5d} loss: {L:.4f} accuracy: {A:.4f}')"
      ]
    },
    {
      "cell_type": "code",
      "execution_count": null,
      "metadata": {
        "id": "04YdwVFZthOY",
        "outputId": "397f06ec-1801-4ef8-9969-07aba5dd963c"
      },
      "outputs": [
        {
          "name": "stdout",
          "output_type": "stream",
          "text": [
            "epoch:    15 loss: 1.5960 accuracy: 0.86481631 \n"
          ]
        }
      ],
      "source": [
        "L, A, predicted = fit(model, X_test, y_test, train=False)\n",
        "print(f'epoch: {epoch+1:5d} loss: {L:.4f} accuracy: {A:.8f} ')"
      ]
    },
    {
      "cell_type": "code",
      "execution_count": null,
      "metadata": {
        "id": "-_Q7vW1AthOZ",
        "outputId": "73e51a75-0451-4883-9244-f772b3f25cf6"
      },
      "outputs": [
        {
          "data": {
            "text/plain": [
              "0.8648999929428101"
            ]
          },
          "execution_count": 213,
          "metadata": {},
          "output_type": "execute_result"
        }
      ],
      "source": [
        "f1 = F1Score(task=\"multiclass\", num_classes=10)\n",
        "f1_ = f1(torch.LongTensor(predicted), y_test)\n",
        "f1_.item()"
      ]
    },
    {
      "cell_type": "code",
      "execution_count": null,
      "metadata": {
        "id": "wof4t3WLthOZ"
      },
      "outputs": [],
      "source": [
        "result = {'name':['mnist', 'fashion_mnist'],\n",
        "         'tenserflow f1': [0.972, 0.853],\n",
        "         'tenserflow convolution f1' : [ 0.991, 0.909],\n",
        "         'pytorch f1': [0.969 ,0.834],\n",
        "         'pytorch convolution f1': [0.984, 0.865]}"
      ]
    },
    {
      "cell_type": "code",
      "execution_count": null,
      "metadata": {
        "id": "NUp6jOgLthOa"
      },
      "outputs": [],
      "source": [
        "df = pd.DataFrame(result)"
      ]
    },
    {
      "cell_type": "code",
      "execution_count": null,
      "metadata": {
        "id": "8Tqo1YJhthOa"
      },
      "outputs": [],
      "source": [
        "df = df.set_index('name')"
      ]
    },
    {
      "cell_type": "code",
      "execution_count": null,
      "metadata": {
        "id": "n33TfFJ7thOa",
        "outputId": "bc66b650-4299-42fa-84d8-72649363665b"
      },
      "outputs": [
        {
          "data": {
            "text/html": [
              "<div>\n",
              "<style scoped>\n",
              "    .dataframe tbody tr th:only-of-type {\n",
              "        vertical-align: middle;\n",
              "    }\n",
              "\n",
              "    .dataframe tbody tr th {\n",
              "        vertical-align: top;\n",
              "    }\n",
              "\n",
              "    .dataframe thead th {\n",
              "        text-align: right;\n",
              "    }\n",
              "</style>\n",
              "<table border=\"1\" class=\"dataframe\">\n",
              "  <thead>\n",
              "    <tr style=\"text-align: right;\">\n",
              "      <th></th>\n",
              "      <th>tenserflow f1</th>\n",
              "      <th>tenserflow convolution f1</th>\n",
              "      <th>pytorch f1</th>\n",
              "      <th>pytorch convolution f1</th>\n",
              "    </tr>\n",
              "    <tr>\n",
              "      <th>name</th>\n",
              "      <th></th>\n",
              "      <th></th>\n",
              "      <th></th>\n",
              "      <th></th>\n",
              "    </tr>\n",
              "  </thead>\n",
              "  <tbody>\n",
              "    <tr>\n",
              "      <th>mnist</th>\n",
              "      <td>0.972</td>\n",
              "      <td>0.991</td>\n",
              "      <td>0.969</td>\n",
              "      <td>0.984</td>\n",
              "    </tr>\n",
              "    <tr>\n",
              "      <th>fashion_mnist</th>\n",
              "      <td>0.853</td>\n",
              "      <td>0.909</td>\n",
              "      <td>0.834</td>\n",
              "      <td>0.865</td>\n",
              "    </tr>\n",
              "  </tbody>\n",
              "</table>\n",
              "</div>"
            ],
            "text/plain": [
              "               tenserflow f1  tenserflow convolution f1  pytorch f1  \\\n",
              "name                                                                  \n",
              "mnist                  0.972                      0.991       0.969   \n",
              "fashion_mnist          0.853                      0.909       0.834   \n",
              "\n",
              "               pytorch convolution f1  \n",
              "name                                   \n",
              "mnist                           0.984  \n",
              "fashion_mnist                   0.865  "
            ]
          },
          "execution_count": 285,
          "metadata": {},
          "output_type": "execute_result"
        }
      ],
      "source": [
        "df"
      ]
    },
    {
      "cell_type": "code",
      "execution_count": null,
      "metadata": {
        "id": "9AaRRm8WthOa"
      },
      "outputs": [],
      "source": []
    }
  ],
  "metadata": {
    "accelerator": "GPU",
    "colab": {
      "gpuType": "T4",
      "provenance": []
    },
    "kernelspec": {
      "display_name": "Python 3 (ipykernel)",
      "language": "python",
      "name": "python3"
    },
    "language_info": {
      "codemirror_mode": {
        "name": "ipython",
        "version": 3
      },
      "file_extension": ".py",
      "mimetype": "text/x-python",
      "name": "python",
      "nbconvert_exporter": "python",
      "pygments_lexer": "ipython3",
      "version": "3.11.7"
    }
  },
  "nbformat": 4,
  "nbformat_minor": 0
}