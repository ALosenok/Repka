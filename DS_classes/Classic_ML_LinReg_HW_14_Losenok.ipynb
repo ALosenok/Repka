{
  "nbformat": 4,
  "nbformat_minor": 0,
  "metadata": {
    "colab": {
      "provenance": []
    },
    "kernelspec": {
      "name": "python3",
      "display_name": "Python 3"
    },
    "language_info": {
      "name": "python"
    }
  },
  "cells": [
    {
      "cell_type": "code",
      "execution_count": null,
      "metadata": {
        "id": "wmLw3FxTt4Bg"
      },
      "outputs": [],
      "source": [
        "import numpy as np\n",
        "\n",
        "def f1_score(x: np.array, y: np.array, coef: np.array, b: float, f1_score_obj: bool = 0):\n",
        "    \"\"\"\n",
        "    A function that calculates precision, recall and F1-score for a linear\n",
        "    regression model.\n",
        "\n",
        "    Parameters:\n",
        "    x: Array with values of variables\n",
        "    y: Array with values of dependent value\n",
        "    coef: Array with coefficients for variables\n",
        "    b: Constant intercept for linear regression\n",
        "    f1_score_obj: Boolean value that is objective for the calculation. Equals 0 por default\n",
        "    result: A tuple with precision, recall and F1-score\n",
        "    \"\"\"\n",
        "\n",
        "    conf_matrix = np.array([[0, 0], [0, 0]])\n",
        "    for i in range(len(y)):\n",
        "        y_pred = np.round(np.sum(coef * x[i]) + b)\n",
        "        if y[i] == f1_score_obj and y_pred == f1_score_obj:\n",
        "            conf_matrix[0,0] += 1\n",
        "        elif y[i] == f1_score_obj and y_pred != f1_score_obj:\n",
        "            conf_matrix[1,0] += 1\n",
        "        elif y[i] != f1_score_obj and y_pred == f1_score_obj:\n",
        "            conf_matrix[0,1] += 1\n",
        "        else:\n",
        "            conf_matrix[1,1] += 1\n",
        "\n",
        "    precision = conf_matrix[0,0] / (conf_matrix[0,0] + conf_matrix[0,1])\n",
        "    recall = conf_matrix[0,0] / (conf_matrix[0,0] + conf_matrix[1,0])\n",
        "    f1 = (2 * precision * recall) / (precision + recall)\n",
        "\n",
        "    return (precision, recall, f1, conf_matrix, y_pred)\n",
        "\n",
        "\n",
        "# def linear_regression(x, y, learning_speed = 0.1, echoes = 1000, approach = 'mse', f1 = False, f1_obj = 0):\n",
        "\n",
        "#     n = len(x)\n",
        "#     a = 0.0\n",
        "#     b = 0.0\n",
        "\n",
        "#     for _ in range(echoes):\n",
        "#         y_pred = a * x + b\n",
        "\n",
        "#         if approach == 'mse':\n",
        "#             da = (2 / n) * np.sum((x) * (a * x + b - y))\n",
        "#             db = (2 / n) * np.sum((1) * (a * x + b - y))\n",
        "#         elif approach == 'mae':\n",
        "#             da = (1 / n) * np.sum((x) * (a * x + b - y))\n",
        "#             db = (1 / n) * np.sum((1) * (a * x + b - y))\n",
        "\n",
        "#         a -= learning_speed * da\n",
        "#         b -= learning_speed * db\n",
        "\n",
        "#     print(f'a = {a}')\n",
        "#     print(f'b = {b}')\n",
        "\n",
        "#     if f1 == True:\n",
        "#         temp = f1_score(x, y, a, b, f1_obj)\n",
        "\n",
        "#         print(f'Precision = {temp[0]}')\n",
        "#         print(f'Recall = {temp[1]}')\n",
        "#         print(f'F1-score = {temp[2]}')\n",
        "#         print(f'matrix = {temp[3]}')\n",
        "#         print(f'matrix = {temp[4]}')\n",
        "\n",
        "def linear_regression(x: np.array, y: np.array, learning_speed: float = 0.1, echoes: int = 1000, approach: str = 'mse', f1: bool = False, f1_obj: bool = 0): # limit approach options\n",
        "      \"\"\"\n",
        "      A function that calculates coeficients of linear regression trough optimization\n",
        "      of selected metrics and returs F1 metrics if requested.\n",
        "\n",
        "      Parameters:\n",
        "      x: Array with values of variables\n",
        "      y: Array with values of dependent value\n",
        "      learning_speed: Learning speed for optimization\n",
        "      echoes: Number of iterations for optimization\n",
        "      approach: Selected metrics for optimization. Realized are MSE and MAE\n",
        "      f1: Value that requests F1 metrics. False por default\n",
        "      f1_obj: Boolean value that is objective for the calculation. Equals 0 por default\n",
        "      \"\"\"\n",
        "\n",
        "\n",
        "      n = len(y)\n",
        "      coef = np.zeros(len(x[0]) + 1)\n",
        "      # print(coef)\n",
        "\n",
        "      # for val in range(len(x[0])): # Array with initial coefficients\n",
        "      #     coef = np.append(coef, 0) # np.zeros()\n",
        "\n",
        "      for _ in range(echoes):\n",
        "\n",
        "  # Calculations for MSE\n",
        "          if approach == 'mse':\n",
        "              d = np.array([]) # Array to contain a step for each coef\n",
        "              db = 0\n",
        "\n",
        "              for idx in range(len(coef)):\n",
        "                  d_coef = 0\n",
        "                  for row in range(len(x)):\n",
        "                      if idx == len(coef) - 1:\n",
        "                          d_coef += (1) * (np.sum(coef[:-1] * x[row]) + coef[-1] - y[row])\n",
        "                      else:\n",
        "                          d_coef += (x[row, idx]) * (np.sum(coef[:-1] * x[row]) - y[row] + coef[-1]) # Sum of derivatives of (V1X1 + ... + VnXn + b - y) related to coef idx\n",
        "                  d = np.append(d, (2 / n) * d_coef)\n",
        "\n",
        "              coef -= learning_speed * d\n",
        "            # print(d)\n",
        "            # for row in range(len(x)):\n",
        "            #     db += (1) * (np.sum(coef * x[row]) + b - y[row])\n",
        "            # b -= learning_speed * ((2 / n) * db) #optimization. B is calculated after all the other coef\n",
        "\n",
        "# Calculations for MAE\n",
        "          elif approach == 'mae':\n",
        "            d = np.array([]) # Array to contain a step for each coef\n",
        "            db = 0\n",
        "            for idx in range(len(coef)):\n",
        "                d_coef = 0\n",
        "                for row in range(len(x)):\n",
        "                    if idx == len(coef) - 1:\n",
        "                        d_coef += (1) * (np.sum(coef[:-1] * x[row]) + coef[-1] - y[row])\n",
        "                    else:\n",
        "                        d_coef += (x[row, idx]) * (np.sum(coef[:-1] * x[row]) - y[row] + coef[-1]) # Sum of derivatives of (V1X1 + ... + VnXn + b - y) related to coef idx\n",
        "                d = np.append(d, (1 / n) * d_coef)\n",
        "            coef -= learning_speed * d\n",
        "            # for row in range(len(x)):\n",
        "            #     db += (1) * (np.sum(coef * x[row]) + b - y[row])\n",
        "            # b -= learning_speed * ((1 / n) * db)\n",
        "\n",
        "      print(f'coef = {coef[:-1]}')\n",
        "      print(f'b = {coef[-1]}')\n",
        "\n",
        "# Calculations for F1\n",
        "      if f1 == True:\n",
        "          temp = f1_score(x, y, coef, b, f1_obj)\n",
        "          print(f'Precision = {temp[0]}')\n",
        "          print(f'Recall = {temp[1]}')\n",
        "          print(f'F1-score = {temp[2]}')\n",
        "\n",
        "\n"
      ]
    },
    {
      "cell_type": "code",
      "source": [
        "x = np.array([[3], [5], [7], [8]])\n",
        "y = np.array([7, 11, 15, 17])\n",
        "\n",
        "# x = np.array([3, 5, 7, 8])\n",
        "# y = np.array([15, 25, 35, 40])\n",
        "\n",
        "linear_regression(x, y, learning_speed = 0.025, approach = 'mse')"
      ],
      "metadata": {
        "id": "zw6zTA-cF4sQ"
      },
      "execution_count": null,
      "outputs": []
    },
    {
      "cell_type": "code",
      "source": [
        "x = np.array([[0.75], [0.04], [0.6], [0.1], [0.8]])\n",
        "y = np.array([0, 1, 1, 0, 1])\n",
        "\n",
        "linear_regression(x, y, learning_speed = 0.025, approach = 'mse', f1 = True, f1_obj = 1)"
      ],
      "metadata": {
        "id": "OUDmc_pA623T"
      },
      "execution_count": null,
      "outputs": []
    },
    {
      "cell_type": "code",
      "source": [
        "# x = np.array([[2, 3], [7, 5]]) # coef1 = 4, coef2 = 0.5, b = 2\n",
        "# y = np.array([11.5, 32.5])\n",
        "\n",
        "# x = np.array([[2, 3], [7, 5]]) # coef1 = 1, coef2 = 1, b = 0\n",
        "# y = np.array([5, 12])\n",
        "\n",
        "x1_rnd = np.array([])\n",
        "x2_rnd = np.array([])\n",
        "c1 = 5\n",
        "c2 = 0.75\n",
        "b = 15\n",
        "for _ in range(500):\n",
        "    x1_rnd = np.append(x1_rnd, np.random.randint(1, 100))\n",
        "    x2_rnd = np.append(x2_rnd, np.random.randint(1, 100))\n",
        "\n",
        "combo = zip(x1_rnd, x2_rnd)\n",
        "x = np.array([list(elem) for elem in combo])\n",
        "y_rnd = c1 * x1_rnd + c2 * x2_rnd + b\n",
        "\n",
        "linear_regression(x, y_rnd, learning_speed = 0.0001, echoes = 2000)"
      ],
      "metadata": {
        "id": "rNblHEODlMFV",
        "colab": {
          "base_uri": "https://localhost:8080/"
        },
        "outputId": "a67f7c5c-86ff-49dd-ddc4-12dbee696f7c"
      },
      "execution_count": null,
      "outputs": [
        {
          "output_type": "stream",
          "name": "stdout",
          "text": [
            "coef = [5.11684285 0.8789533 ]\n",
            "b = 0.9677832159795476\n"
          ]
        }
      ]
    },
    {
      "cell_type": "code",
      "source": [
        "from sklearn.linear_model import LinearRegression\n",
        "reg = LinearRegression().fit(x, y_rnd)\n",
        "print(reg.coef_)\n",
        "print(reg.intercept_)"
      ],
      "metadata": {
        "id": "NQA3_rZlT_MT",
        "colab": {
          "base_uri": "https://localhost:8080/"
        },
        "outputId": "9fb02675-5887-4ff8-bfa6-0233925f7442"
      },
      "execution_count": null,
      "outputs": [
        {
          "metadata": {
            "tags": null
          },
          "name": "stdout",
          "output_type": "stream",
          "text": [
            "[5.   0.75]\n",
            "15.0\n"
          ]
        }
      ]
    },
    {
      "cell_type": "code",
      "source": [
        "len(y_rnd)"
      ],
      "metadata": {
        "id": "mEAmYF8LL2aZ",
        "colab": {
          "base_uri": "https://localhost:8080/"
        },
        "outputId": "fccfb89c-f868-4397-edb8-aa1d5cb87a7d"
      },
      "execution_count": null,
      "outputs": [
        {
          "data": {
            "text/plain": [
              "500"
            ]
          },
          "execution_count": 75,
          "metadata": {},
          "output_type": "execute_result"
        }
      ]
    }
  ]
}