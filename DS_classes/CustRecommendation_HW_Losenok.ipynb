{
 "cells": [
  {
   "cell_type": "code",
   "execution_count": 295,
   "metadata": {
    "id": "EAyJqc3m1agV"
   },
   "outputs": [],
   "source": [
    "import pandas as pd\n",
    "import numpy as np\n",
    "import matplotlib.pyplot as plt\n",
    "import seaborn as sns\n",
    "from sklearn.feature_extraction.text import TfidfVectorizer\n",
    "from sklearn.model_selection import train_test_split\n",
    "from sklearn.metrics.pairwise import linear_kernel\n",
    "import re\n",
    "from scipy.sparse.linalg import svds\n",
    "\n",
    "plt.style.use('dark_background')"
   ]
  },
  {
   "cell_type": "code",
   "execution_count": 296,
   "metadata": {
    "colab": {
     "base_uri": "https://localhost:8080/"
    },
    "id": "5QHAa9vV5Bvl",
    "outputId": "cb417124-f43e-429c-aa93-0a17281e392d"
   },
   "outputs": [
    {
     "name": "stdout",
     "output_type": "stream",
     "text": [
      "<class 'pandas.core.frame.DataFrame'>\n",
      "RangeIndex: 45466 entries, 0 to 45465\n",
      "Data columns (total 24 columns):\n",
      " #   Column                 Non-Null Count  Dtype  \n",
      "---  ------                 --------------  -----  \n",
      " 0   adult                  45466 non-null  object \n",
      " 1   belongs_to_collection  4494 non-null   object \n",
      " 2   budget                 45466 non-null  object \n",
      " 3   genres                 45466 non-null  object \n",
      " 4   homepage               7782 non-null   object \n",
      " 5   id                     45466 non-null  object \n",
      " 6   imdb_id                45449 non-null  object \n",
      " 7   original_language      45455 non-null  object \n",
      " 8   original_title         45466 non-null  object \n",
      " 9   overview               44512 non-null  object \n",
      " 10  popularity             45461 non-null  object \n",
      " 11  poster_path            45080 non-null  object \n",
      " 12  production_companies   45463 non-null  object \n",
      " 13  production_countries   45463 non-null  object \n",
      " 14  release_date           45379 non-null  object \n",
      " 15  revenue                45460 non-null  float64\n",
      " 16  runtime                45203 non-null  float64\n",
      " 17  spoken_languages       45460 non-null  object \n",
      " 18  status                 45379 non-null  object \n",
      " 19  tagline                20412 non-null  object \n",
      " 20  title                  45460 non-null  object \n",
      " 21  video                  45460 non-null  object \n",
      " 22  vote_average           45460 non-null  float64\n",
      " 23  vote_count             45460 non-null  float64\n",
      "dtypes: float64(4), object(20)\n",
      "memory usage: 8.3+ MB\n"
     ]
    }
   ],
   "source": [
    "df_total = pd.read_csv('C:\\\\Users\\\\User\\\\Desktop\\\\Data_Science\\\\Projects\\\\HW_23_Great_Rec\\\\movies_metadata.csv', \n",
    "                       low_memory = False)\n",
    "\n",
    "df_total.info()"
   ]
  },
  {
   "cell_type": "code",
   "execution_count": 297,
   "metadata": {
    "colab": {
     "base_uri": "https://localhost:8080/",
     "height": 206
    },
    "id": "Ohkfj8P5-SUZ",
    "outputId": "595464c6-11cd-4cb2-d940-cf0115e15b83"
   },
   "outputs": [
    {
     "name": "stdout",
     "output_type": "stream",
     "text": [
      "<class 'pandas.core.frame.DataFrame'>\n",
      "RangeIndex: 100004 entries, 0 to 100003\n",
      "Data columns (total 4 columns):\n",
      " #   Column     Non-Null Count   Dtype  \n",
      "---  ------     --------------   -----  \n",
      " 0   userId     100004 non-null  int64  \n",
      " 1   movieId    100004 non-null  int64  \n",
      " 2   rating     100004 non-null  float64\n",
      " 3   timestamp  100004 non-null  int64  \n",
      "dtypes: float64(1), int64(3)\n",
      "memory usage: 3.1 MB\n"
     ]
    }
   ],
   "source": [
    "df_rating = pd.read_csv('C:\\\\Users\\\\User\\\\Desktop\\\\Data_Science\\\\Projects\\\\HW_23_Great_Rec\\\\ratings_small.csv',\n",
    "                       low_memory = False)\n",
    "\n",
    "df_rating.info()"
   ]
  },
  {
   "cell_type": "code",
   "execution_count": 298,
   "metadata": {
    "colab": {
     "base_uri": "https://localhost:8080/"
    },
    "id": "_TanKmIQ5Vxu",
    "outputId": "4f8ff688-5acc-4255-84c6-6798ae4daad2"
   },
   "outputs": [
    {
     "name": "stdout",
     "output_type": "stream",
     "text": [
      "Non-numeric IDs found: ['1997-08-20' '2012-09-29' '2014-01-01']\n"
     ]
    }
   ],
   "source": [
    "columns = ['id', 'title', 'overview', 'genres', 'vote_average', 'vote_count', 'popularity', 'release_date']\n",
    "df_movies = df_total.loc[:][columns] # Columns selected for future recomendations\n",
    "\n",
    "non_numeric_ids = df_movies[~df_movies['id'].str.isnumeric()]['id'].unique() # Check for not numeric values in ID column\n",
    "print(f\"Non-numeric IDs found: {non_numeric_ids}\")\n",
    "\n",
    "\n"
   ]
  },
  {
   "cell_type": "markdown",
   "metadata": {
    "id": "pOacvVZlK6t_"
   },
   "source": []
  },
  {
   "cell_type": "code",
   "execution_count": 299,
   "metadata": {
    "id": "VBLHL2GGDAh_"
   },
   "outputs": [],
   "source": [
    "df_movies.drop(df_movies[df_movies['id'].isin(non_numeric_ids)].index, inplace=True) # Drop not numeric values"
   ]
  },
  {
   "cell_type": "code",
   "execution_count": 300,
   "metadata": {
    "id": "ANqPjNJxDEx3"
   },
   "outputs": [],
   "source": [
    "df_movies['id'] = df_movies['id'].astype(int) # Data type trasform"
   ]
  },
  {
   "cell_type": "code",
   "execution_count": 301,
   "metadata": {
    "id": "LsUZ6voDZvT2"
   },
   "outputs": [],
   "source": [
    "df_movies = df_movies.drop_duplicates(subset='id') # Drop id duplicates"
   ]
  },
  {
   "cell_type": "code",
   "execution_count": 302,
   "metadata": {
    "colab": {
     "base_uri": "https://localhost:8080/",
     "height": 206
    },
    "id": "cEwRCpsQDZH4",
    "outputId": "d4fa647a-d48d-4298-883e-18ef36351b9d"
   },
   "outputs": [
    {
     "data": {
      "text/html": [
       "<div>\n",
       "<style scoped>\n",
       "    .dataframe tbody tr th:only-of-type {\n",
       "        vertical-align: middle;\n",
       "    }\n",
       "\n",
       "    .dataframe tbody tr th {\n",
       "        vertical-align: top;\n",
       "    }\n",
       "\n",
       "    .dataframe thead th {\n",
       "        text-align: right;\n",
       "    }\n",
       "</style>\n",
       "<table border=\"1\" class=\"dataframe\">\n",
       "  <thead>\n",
       "    <tr style=\"text-align: right;\">\n",
       "      <th></th>\n",
       "      <th>id</th>\n",
       "      <th>title</th>\n",
       "      <th>overview</th>\n",
       "      <th>genres</th>\n",
       "      <th>vote_average</th>\n",
       "      <th>vote_count</th>\n",
       "      <th>popularity</th>\n",
       "      <th>release_date</th>\n",
       "    </tr>\n",
       "  </thead>\n",
       "  <tbody>\n",
       "    <tr>\n",
       "      <th>0</th>\n",
       "      <td>862</td>\n",
       "      <td>Toy Story</td>\n",
       "      <td>Led by Woody, Andy's toys live happily in his ...</td>\n",
       "      <td>[{'id': 16, 'name': 'Animation'}, {'id': 35, '...</td>\n",
       "      <td>7.7</td>\n",
       "      <td>5415.0</td>\n",
       "      <td>21.946943</td>\n",
       "      <td>1995-10-30</td>\n",
       "    </tr>\n",
       "    <tr>\n",
       "      <th>1</th>\n",
       "      <td>8844</td>\n",
       "      <td>Jumanji</td>\n",
       "      <td>When siblings Judy and Peter discover an encha...</td>\n",
       "      <td>[{'id': 12, 'name': 'Adventure'}, {'id': 14, '...</td>\n",
       "      <td>6.9</td>\n",
       "      <td>2413.0</td>\n",
       "      <td>17.015539</td>\n",
       "      <td>1995-12-15</td>\n",
       "    </tr>\n",
       "    <tr>\n",
       "      <th>2</th>\n",
       "      <td>15602</td>\n",
       "      <td>Grumpier Old Men</td>\n",
       "      <td>A family wedding reignites the ancient feud be...</td>\n",
       "      <td>[{'id': 10749, 'name': 'Romance'}, {'id': 35, ...</td>\n",
       "      <td>6.5</td>\n",
       "      <td>92.0</td>\n",
       "      <td>11.7129</td>\n",
       "      <td>1995-12-22</td>\n",
       "    </tr>\n",
       "    <tr>\n",
       "      <th>3</th>\n",
       "      <td>31357</td>\n",
       "      <td>Waiting to Exhale</td>\n",
       "      <td>Cheated on, mistreated and stepped on, the wom...</td>\n",
       "      <td>[{'id': 35, 'name': 'Comedy'}, {'id': 18, 'nam...</td>\n",
       "      <td>6.1</td>\n",
       "      <td>34.0</td>\n",
       "      <td>3.859495</td>\n",
       "      <td>1995-12-22</td>\n",
       "    </tr>\n",
       "    <tr>\n",
       "      <th>4</th>\n",
       "      <td>11862</td>\n",
       "      <td>Father of the Bride Part II</td>\n",
       "      <td>Just when George Banks has recovered from his ...</td>\n",
       "      <td>[{'id': 35, 'name': 'Comedy'}]</td>\n",
       "      <td>5.7</td>\n",
       "      <td>173.0</td>\n",
       "      <td>8.387519</td>\n",
       "      <td>1995-02-10</td>\n",
       "    </tr>\n",
       "  </tbody>\n",
       "</table>\n",
       "</div>"
      ],
      "text/plain": [
       "      id                        title  \\\n",
       "0    862                    Toy Story   \n",
       "1   8844                      Jumanji   \n",
       "2  15602             Grumpier Old Men   \n",
       "3  31357            Waiting to Exhale   \n",
       "4  11862  Father of the Bride Part II   \n",
       "\n",
       "                                            overview  \\\n",
       "0  Led by Woody, Andy's toys live happily in his ...   \n",
       "1  When siblings Judy and Peter discover an encha...   \n",
       "2  A family wedding reignites the ancient feud be...   \n",
       "3  Cheated on, mistreated and stepped on, the wom...   \n",
       "4  Just when George Banks has recovered from his ...   \n",
       "\n",
       "                                              genres  vote_average  \\\n",
       "0  [{'id': 16, 'name': 'Animation'}, {'id': 35, '...           7.7   \n",
       "1  [{'id': 12, 'name': 'Adventure'}, {'id': 14, '...           6.9   \n",
       "2  [{'id': 10749, 'name': 'Romance'}, {'id': 35, ...           6.5   \n",
       "3  [{'id': 35, 'name': 'Comedy'}, {'id': 18, 'nam...           6.1   \n",
       "4                     [{'id': 35, 'name': 'Comedy'}]           5.7   \n",
       "\n",
       "   vote_count popularity release_date  \n",
       "0      5415.0  21.946943   1995-10-30  \n",
       "1      2413.0  17.015539   1995-12-15  \n",
       "2        92.0    11.7129   1995-12-22  \n",
       "3        34.0   3.859495   1995-12-22  \n",
       "4       173.0   8.387519   1995-02-10  "
      ]
     },
     "execution_count": 302,
     "metadata": {},
     "output_type": "execute_result"
    }
   ],
   "source": [
    "df_movies.head()"
   ]
  },
  {
   "cell_type": "code",
   "execution_count": 444,
   "metadata": {
    "id": "F3B5z7J7J7vN"
   },
   "outputs": [],
   "source": [
    "# Find unique movies id in movies and rating datasets\n",
    "y_cross = np.array(df_rating['movieId'].unique())\n",
    "x_cross = np.array(df_movies['id'].unique())"
   ]
  },
  {
   "cell_type": "code",
   "execution_count": 304,
   "metadata": {
    "colab": {
     "base_uri": "https://localhost:8080/"
    },
    "id": "2q35gCmTKWC7",
    "outputId": "6644173d-40b4-478f-aa2e-f4ede8b6c2da"
   },
   "outputs": [
    {
     "data": {
      "text/plain": [
       "(45433,)"
      ]
     },
     "execution_count": 304,
     "metadata": {},
     "output_type": "execute_result"
    }
   ],
   "source": [
    "# Creates mask that find matches between movie and rating movies IDs\n",
    "mask_movies_id = np.in1d(x_cross, y_cross)\n",
    "mask_movies_id.shape"
   ]
  },
  {
   "cell_type": "code",
   "execution_count": 305,
   "metadata": {
    "colab": {
     "base_uri": "https://localhost:8080/"
    },
    "id": "5xyl-tv0Kj4r",
    "outputId": "97675a03-d591-4410-e44b-28110f1e46dc"
   },
   "outputs": [
    {
     "name": "stdout",
     "output_type": "stream",
     "text": [
      "<class 'pandas.core.frame.DataFrame'>\n",
      "Index: 2830 entries, 5 to 45450\n",
      "Data columns (total 8 columns):\n",
      " #   Column        Non-Null Count  Dtype  \n",
      "---  ------        --------------  -----  \n",
      " 0   id            2830 non-null   int32  \n",
      " 1   title         2830 non-null   object \n",
      " 2   overview      2809 non-null   object \n",
      " 3   genres        2830 non-null   object \n",
      " 4   vote_average  2830 non-null   float64\n",
      " 5   vote_count    2830 non-null   float64\n",
      " 6   popularity    2830 non-null   object \n",
      " 7   release_date  2829 non-null   object \n",
      "dtypes: float64(2), int32(1), object(5)\n",
      "memory usage: 187.9+ KB\n"
     ]
    }
   ],
   "source": [
    "df_movies_final = df_movies[mask_movies_id] # Final movies dataset for recomendations analysis\n",
    "df_movies_final.info()"
   ]
  },
  {
   "cell_type": "code",
   "execution_count": 306,
   "metadata": {
    "colab": {
     "base_uri": "https://localhost:8080/"
    },
    "id": "c-1vuNpFA34M",
    "outputId": "24645a94-33de-45ed-92c0-f738b9a3d2c2"
   },
   "outputs": [
    {
     "name": "stderr",
     "output_type": "stream",
     "text": [
      "C:\\Users\\User\\AppData\\Local\\Temp\\ipykernel_14936\\3349591089.py:1: SettingWithCopyWarning: \n",
      "A value is trying to be set on a copy of a slice from a DataFrame\n",
      "\n",
      "See the caveats in the documentation: https://pandas.pydata.org/pandas-docs/stable/user_guide/indexing.html#returning-a-view-versus-a-copy\n",
      "  df_movies_final.dropna(inplace = True)\n"
     ]
    }
   ],
   "source": [
    "df_movies_final.dropna(inplace = True)"
   ]
  },
  {
   "cell_type": "code",
   "execution_count": 307,
   "metadata": {
    "id": "hbukyOYoGd9S"
   },
   "outputs": [],
   "source": [
    "df_rating_final = df_rating[df_rating['movieId'].isin(df_movies_final['id'])] # Final rating dataset for analysis"
   ]
  },
  {
   "cell_type": "code",
   "execution_count": 308,
   "metadata": {
    "colab": {
     "base_uri": "https://localhost:8080/",
     "height": 206
    },
    "id": "o32O5LCPa882",
    "outputId": "a105d62b-3c53-4c99-f3d3-8e287087c65a"
   },
   "outputs": [
    {
     "data": {
      "text/html": [
       "<div>\n",
       "<style scoped>\n",
       "    .dataframe tbody tr th:only-of-type {\n",
       "        vertical-align: middle;\n",
       "    }\n",
       "\n",
       "    .dataframe tbody tr th {\n",
       "        vertical-align: top;\n",
       "    }\n",
       "\n",
       "    .dataframe thead th {\n",
       "        text-align: right;\n",
       "    }\n",
       "</style>\n",
       "<table border=\"1\" class=\"dataframe\">\n",
       "  <thead>\n",
       "    <tr style=\"text-align: right;\">\n",
       "      <th></th>\n",
       "      <th>id</th>\n",
       "      <th>title</th>\n",
       "      <th>overview</th>\n",
       "      <th>genres</th>\n",
       "      <th>vote_average</th>\n",
       "      <th>vote_count</th>\n",
       "      <th>popularity</th>\n",
       "      <th>release_date</th>\n",
       "    </tr>\n",
       "  </thead>\n",
       "  <tbody>\n",
       "    <tr>\n",
       "      <th>5</th>\n",
       "      <td>949</td>\n",
       "      <td>Heat</td>\n",
       "      <td>Obsessive master thief, Neil McCauley leads a ...</td>\n",
       "      <td>[{'id': 28, 'name': 'Action'}, {'id': 80, 'nam...</td>\n",
       "      <td>7.7</td>\n",
       "      <td>1886.0</td>\n",
       "      <td>17.924927</td>\n",
       "      <td>1995-12-15</td>\n",
       "    </tr>\n",
       "    <tr>\n",
       "      <th>9</th>\n",
       "      <td>710</td>\n",
       "      <td>GoldenEye</td>\n",
       "      <td>James Bond must unmask the mysterious head of ...</td>\n",
       "      <td>[{'id': 12, 'name': 'Adventure'}, {'id': 28, '...</td>\n",
       "      <td>6.6</td>\n",
       "      <td>1194.0</td>\n",
       "      <td>14.686036</td>\n",
       "      <td>1995-11-16</td>\n",
       "    </tr>\n",
       "    <tr>\n",
       "      <th>14</th>\n",
       "      <td>1408</td>\n",
       "      <td>Cutthroat Island</td>\n",
       "      <td>Morgan Adams and her slave, William Shaw, are ...</td>\n",
       "      <td>[{'id': 28, 'name': 'Action'}, {'id': 12, 'nam...</td>\n",
       "      <td>5.7</td>\n",
       "      <td>137.0</td>\n",
       "      <td>7.284477</td>\n",
       "      <td>1995-12-22</td>\n",
       "    </tr>\n",
       "    <tr>\n",
       "      <th>15</th>\n",
       "      <td>524</td>\n",
       "      <td>Casino</td>\n",
       "      <td>The life of the gambling paradise – Las Vegas ...</td>\n",
       "      <td>[{'id': 18, 'name': 'Drama'}, {'id': 80, 'name...</td>\n",
       "      <td>7.8</td>\n",
       "      <td>1343.0</td>\n",
       "      <td>10.137389</td>\n",
       "      <td>1995-11-22</td>\n",
       "    </tr>\n",
       "    <tr>\n",
       "      <th>16</th>\n",
       "      <td>4584</td>\n",
       "      <td>Sense and Sensibility</td>\n",
       "      <td>Rich Mr. Dashwood dies, leaving his second wif...</td>\n",
       "      <td>[{'id': 18, 'name': 'Drama'}, {'id': 10749, 'n...</td>\n",
       "      <td>7.2</td>\n",
       "      <td>364.0</td>\n",
       "      <td>10.673167</td>\n",
       "      <td>1995-12-13</td>\n",
       "    </tr>\n",
       "  </tbody>\n",
       "</table>\n",
       "</div>"
      ],
      "text/plain": [
       "      id                  title  \\\n",
       "5    949                   Heat   \n",
       "9    710              GoldenEye   \n",
       "14  1408       Cutthroat Island   \n",
       "15   524                 Casino   \n",
       "16  4584  Sense and Sensibility   \n",
       "\n",
       "                                             overview  \\\n",
       "5   Obsessive master thief, Neil McCauley leads a ...   \n",
       "9   James Bond must unmask the mysterious head of ...   \n",
       "14  Morgan Adams and her slave, William Shaw, are ...   \n",
       "15  The life of the gambling paradise – Las Vegas ...   \n",
       "16  Rich Mr. Dashwood dies, leaving his second wif...   \n",
       "\n",
       "                                               genres  vote_average  \\\n",
       "5   [{'id': 28, 'name': 'Action'}, {'id': 80, 'nam...           7.7   \n",
       "9   [{'id': 12, 'name': 'Adventure'}, {'id': 28, '...           6.6   \n",
       "14  [{'id': 28, 'name': 'Action'}, {'id': 12, 'nam...           5.7   \n",
       "15  [{'id': 18, 'name': 'Drama'}, {'id': 80, 'name...           7.8   \n",
       "16  [{'id': 18, 'name': 'Drama'}, {'id': 10749, 'n...           7.2   \n",
       "\n",
       "    vote_count popularity release_date  \n",
       "5       1886.0  17.924927   1995-12-15  \n",
       "9       1194.0  14.686036   1995-11-16  \n",
       "14       137.0   7.284477   1995-12-22  \n",
       "15      1343.0  10.137389   1995-11-22  \n",
       "16       364.0  10.673167   1995-12-13  "
      ]
     },
     "execution_count": 308,
     "metadata": {},
     "output_type": "execute_result"
    }
   ],
   "source": [
    "df_movies_final.head()"
   ]
  },
  {
   "cell_type": "code",
   "execution_count": 309,
   "metadata": {
    "colab": {
     "base_uri": "https://localhost:8080/",
     "height": 206
    },
    "id": "EDSbDbwpbsFQ",
    "outputId": "2a6f11cf-0b9c-40d2-85ff-c2af07c7fa32"
   },
   "outputs": [
    {
     "data": {
      "text/html": [
       "<div>\n",
       "<style scoped>\n",
       "    .dataframe tbody tr th:only-of-type {\n",
       "        vertical-align: middle;\n",
       "    }\n",
       "\n",
       "    .dataframe tbody tr th {\n",
       "        vertical-align: top;\n",
       "    }\n",
       "\n",
       "    .dataframe thead th {\n",
       "        text-align: right;\n",
       "    }\n",
       "</style>\n",
       "<table border=\"1\" class=\"dataframe\">\n",
       "  <thead>\n",
       "    <tr style=\"text-align: right;\">\n",
       "      <th></th>\n",
       "      <th>id</th>\n",
       "      <th>keywords</th>\n",
       "    </tr>\n",
       "  </thead>\n",
       "  <tbody>\n",
       "    <tr>\n",
       "      <th>0</th>\n",
       "      <td>862</td>\n",
       "      <td>[{'id': 931, 'name': 'jealousy'}, {'id': 4290,...</td>\n",
       "    </tr>\n",
       "    <tr>\n",
       "      <th>1</th>\n",
       "      <td>8844</td>\n",
       "      <td>[{'id': 10090, 'name': 'board game'}, {'id': 1...</td>\n",
       "    </tr>\n",
       "    <tr>\n",
       "      <th>2</th>\n",
       "      <td>15602</td>\n",
       "      <td>[{'id': 1495, 'name': 'fishing'}, {'id': 12392...</td>\n",
       "    </tr>\n",
       "    <tr>\n",
       "      <th>3</th>\n",
       "      <td>31357</td>\n",
       "      <td>[{'id': 818, 'name': 'based on novel'}, {'id':...</td>\n",
       "    </tr>\n",
       "    <tr>\n",
       "      <th>4</th>\n",
       "      <td>11862</td>\n",
       "      <td>[{'id': 1009, 'name': 'baby'}, {'id': 1599, 'n...</td>\n",
       "    </tr>\n",
       "  </tbody>\n",
       "</table>\n",
       "</div>"
      ],
      "text/plain": [
       "      id                                           keywords\n",
       "0    862  [{'id': 931, 'name': 'jealousy'}, {'id': 4290,...\n",
       "1   8844  [{'id': 10090, 'name': 'board game'}, {'id': 1...\n",
       "2  15602  [{'id': 1495, 'name': 'fishing'}, {'id': 12392...\n",
       "3  31357  [{'id': 818, 'name': 'based on novel'}, {'id':...\n",
       "4  11862  [{'id': 1009, 'name': 'baby'}, {'id': 1599, 'n..."
      ]
     },
     "execution_count": 309,
     "metadata": {},
     "output_type": "execute_result"
    }
   ],
   "source": [
    "df_keys = pd.read_csv('C:\\\\Users\\\\User\\\\Desktop\\\\Data_Science\\\\Projects\\\\HW_23_Great_Rec\\\\keywords.csv',\n",
    "                     low_memory = False)\n",
    "df_keys.head()"
   ]
  },
  {
   "cell_type": "markdown",
   "metadata": {
    "id": "OKRg5mxrGcO9"
   },
   "source": [
    "# Recommend"
   ]
  },
  {
   "cell_type": "markdown",
   "metadata": {
    "id": "3v9ZLfK8GcN7"
   },
   "source": []
  },
  {
   "cell_type": "markdown",
   "metadata": {
    "id": "U8leDY4NTiur"
   },
   "source": [
    "# Title"
   ]
  },
  {
   "cell_type": "markdown",
   "metadata": {
    "id": "yGg2qCNUlVP-"
   },
   "source": [
    "## Overview Similarity"
   ]
  },
  {
   "cell_type": "code",
   "execution_count": 310,
   "metadata": {
    "id": "waw2qI2H71qB"
   },
   "outputs": [],
   "source": [
    "# Create vectorizer\n",
    "vectorizer = TfidfVectorizer(stop_words='english')\n",
    "overview_matrix = vectorizer.fit_transform(df_movies_final['overview'])\n",
    "\n",
    "overview_sim = linear_kernel(overview_matrix, overview_matrix) # Overview similarity matrix"
   ]
  },
  {
   "cell_type": "code",
   "execution_count": 455,
   "metadata": {
    "id": "FTTPRtzQ79nI"
   },
   "outputs": [],
   "source": [
    "def overview_rec(title: str, nrec: int = 10):\n",
    "    \n",
    "      \"\"\"\n",
    "        The funcion that finds recomendations analysing overview similarity\n",
    "\n",
    "        output: List of 'nrec' IDs for top recommended movies\n",
    "      \"\"\"\n",
    "      \n",
    "      title = title.capitalize()  \n",
    "      movie_idx = df_movies_final[df_movies_final['title'] == title].index[0]\n",
    "\n",
    "      title_sim = list(enumerate(overview_sim[movie_idx]))\n",
    "      title_sim = sorted(title_sim, key = lambda x: x[1], reverse = True)\n",
    "\n",
    "      movie_rec = title_sim[1:nrec+1]\n",
    "\n",
    "\n",
    "      movie_rec = [i[0] for i in movie_rec]\n",
    "\n",
    "\n",
    "      return movie_rec\n"
   ]
  },
  {
   "cell_type": "code",
   "execution_count": 439,
   "metadata": {
    "colab": {
     "base_uri": "https://localhost:8080/"
    },
    "id": "6G76hvjZav4W",
    "outputId": "e942b87f-3267-4286-e00d-22ca8d26e2a0"
   },
   "outputs": [
    {
     "name": "stdout",
     "output_type": "stream",
     "text": [
      "[871, 2768, 808, 1457, 746, 1800, 2763, 2409, 788, 980]\n"
     ]
    }
   ],
   "source": [
    "print(overview_rec('Heat')) # Test"
   ]
  },
  {
   "cell_type": "markdown",
   "metadata": {
    "id": "pV8B35A_lPbO"
   },
   "source": [
    "## Genre Similarity"
   ]
  },
  {
   "cell_type": "code",
   "execution_count": 456,
   "metadata": {
    "id": "KGQe7d59b4c0"
   },
   "outputs": [],
   "source": [
    "def str_detect(df, column: str,  substr = ['name', '}'], new_column:str = None):\n",
    "\n",
    "      \"\"\"\n",
    "        The funcion that extracts all substrings from each row of the column in dataframe that are located between the first and \n",
    "        the second substring defined. \n",
    "\n",
    "        output: List of 'nrec' IDs for top recommended movies\n",
    "      \"\"\"\n",
    "    \n",
    "      todos_genres = []\n",
    "      for line in df[column]:\n",
    "\n",
    "        start_search = [m.end() for m in re.finditer(substr[0], line)]\n",
    "        end_search = [m.end() for m in re.finditer(substr[1], line)]\n",
    "\n",
    "\n",
    "        genres_list = []\n",
    "        for i, j in zip(start_search, end_search):\n",
    "            genres_list.append(line[i+4:j-2])\n",
    "        todos_genres.append(genres_list)\n",
    "\n",
    "      df[new_column] = todos_genres\n",
    "      df[new_column] = df['genre'].apply(lambda x: str(x).replace('[', '').replace(']', '').replace(\"'\", '').replace('\"', ''))\n",
    "\n",
    "      return todos_genres"
   ]
  },
  {
   "cell_type": "code",
   "execution_count": 447,
   "metadata": {
    "colab": {
     "base_uri": "https://localhost:8080/"
    },
    "id": "GE3-0C2ERoP3",
    "outputId": "0812c10a-646f-42fd-9558-d2933029a09a"
   },
   "outputs": [
    {
     "name": "stderr",
     "output_type": "stream",
     "text": [
      "C:\\Users\\User\\AppData\\Local\\Temp\\ipykernel_14936\\2413671520.py:22: SettingWithCopyWarning: \n",
      "A value is trying to be set on a copy of a slice from a DataFrame.\n",
      "Try using .loc[row_indexer,col_indexer] = value instead\n",
      "\n",
      "See the caveats in the documentation: https://pandas.pydata.org/pandas-docs/stable/user_guide/indexing.html#returning-a-view-versus-a-copy\n",
      "  df[new_column] = todos_genres\n",
      "C:\\Users\\User\\AppData\\Local\\Temp\\ipykernel_14936\\2413671520.py:23: SettingWithCopyWarning: \n",
      "A value is trying to be set on a copy of a slice from a DataFrame.\n",
      "Try using .loc[row_indexer,col_indexer] = value instead\n",
      "\n",
      "See the caveats in the documentation: https://pandas.pydata.org/pandas-docs/stable/user_guide/indexing.html#returning-a-view-versus-a-copy\n",
      "  df[new_column] = df['genre'].apply(lambda x: str(x).replace('[', '').replace(']', '').replace(\"'\", '').replace('\"', ''))\n"
     ]
    }
   ],
   "source": [
    "todos_generes = str_detect(df_movies_final, 'genres', new_column = 'genre')"
   ]
  },
  {
   "cell_type": "code",
   "execution_count": 448,
   "metadata": {
    "colab": {
     "base_uri": "https://localhost:8080/"
    },
    "id": "Tt8h3zYHS22B",
    "outputId": "da50ad83-3bab-4330-8914-37f5eb5eee72"
   },
   "outputs": [
    {
     "data": {
      "text/html": [
       "<div>\n",
       "<style scoped>\n",
       "    .dataframe tbody tr th:only-of-type {\n",
       "        vertical-align: middle;\n",
       "    }\n",
       "\n",
       "    .dataframe tbody tr th {\n",
       "        vertical-align: top;\n",
       "    }\n",
       "\n",
       "    .dataframe thead th {\n",
       "        text-align: right;\n",
       "    }\n",
       "</style>\n",
       "<table border=\"1\" class=\"dataframe\">\n",
       "  <thead>\n",
       "    <tr style=\"text-align: right;\">\n",
       "      <th></th>\n",
       "      <th>id</th>\n",
       "      <th>title</th>\n",
       "      <th>overview</th>\n",
       "      <th>genres</th>\n",
       "      <th>vote_average</th>\n",
       "      <th>vote_count</th>\n",
       "      <th>popularity</th>\n",
       "      <th>release_date</th>\n",
       "      <th>genre</th>\n",
       "      <th>Adventure</th>\n",
       "      <th>...</th>\n",
       "      <th>History</th>\n",
       "      <th>Science Fiction</th>\n",
       "      <th>Documentary</th>\n",
       "      <th>Animation</th>\n",
       "      <th>Western</th>\n",
       "      <th>War</th>\n",
       "      <th>Crime</th>\n",
       "      <th>Action</th>\n",
       "      <th>Romance</th>\n",
       "      <th>Horror</th>\n",
       "    </tr>\n",
       "  </thead>\n",
       "  <tbody>\n",
       "    <tr>\n",
       "      <th>5</th>\n",
       "      <td>949</td>\n",
       "      <td>Heat</td>\n",
       "      <td>Obsessive master thief, Neil McCauley leads a ...</td>\n",
       "      <td>[{'id': 28, 'name': 'Action'}, {'id': 80, 'nam...</td>\n",
       "      <td>7.7</td>\n",
       "      <td>1886.0</td>\n",
       "      <td>17.924927</td>\n",
       "      <td>1995-12-15</td>\n",
       "      <td>Action, Crime, Drama, Thriller</td>\n",
       "      <td>0</td>\n",
       "      <td>...</td>\n",
       "      <td>0</td>\n",
       "      <td>0</td>\n",
       "      <td>0</td>\n",
       "      <td>0</td>\n",
       "      <td>0</td>\n",
       "      <td>0</td>\n",
       "      <td>1</td>\n",
       "      <td>1</td>\n",
       "      <td>0</td>\n",
       "      <td>0</td>\n",
       "    </tr>\n",
       "    <tr>\n",
       "      <th>9</th>\n",
       "      <td>710</td>\n",
       "      <td>GoldenEye</td>\n",
       "      <td>James Bond must unmask the mysterious head of ...</td>\n",
       "      <td>[{'id': 12, 'name': 'Adventure'}, {'id': 28, '...</td>\n",
       "      <td>6.6</td>\n",
       "      <td>1194.0</td>\n",
       "      <td>14.686036</td>\n",
       "      <td>1995-11-16</td>\n",
       "      <td>Adventure, Action, Thriller</td>\n",
       "      <td>1</td>\n",
       "      <td>...</td>\n",
       "      <td>0</td>\n",
       "      <td>0</td>\n",
       "      <td>0</td>\n",
       "      <td>0</td>\n",
       "      <td>0</td>\n",
       "      <td>0</td>\n",
       "      <td>0</td>\n",
       "      <td>1</td>\n",
       "      <td>0</td>\n",
       "      <td>0</td>\n",
       "    </tr>\n",
       "    <tr>\n",
       "      <th>14</th>\n",
       "      <td>1408</td>\n",
       "      <td>Cutthroat Island</td>\n",
       "      <td>Morgan Adams and her slave, William Shaw, are ...</td>\n",
       "      <td>[{'id': 28, 'name': 'Action'}, {'id': 12, 'nam...</td>\n",
       "      <td>5.7</td>\n",
       "      <td>137.0</td>\n",
       "      <td>7.284477</td>\n",
       "      <td>1995-12-22</td>\n",
       "      <td>Action, Adventure</td>\n",
       "      <td>1</td>\n",
       "      <td>...</td>\n",
       "      <td>0</td>\n",
       "      <td>0</td>\n",
       "      <td>0</td>\n",
       "      <td>0</td>\n",
       "      <td>0</td>\n",
       "      <td>0</td>\n",
       "      <td>0</td>\n",
       "      <td>1</td>\n",
       "      <td>0</td>\n",
       "      <td>0</td>\n",
       "    </tr>\n",
       "    <tr>\n",
       "      <th>15</th>\n",
       "      <td>524</td>\n",
       "      <td>Casino</td>\n",
       "      <td>The life of the gambling paradise – Las Vegas ...</td>\n",
       "      <td>[{'id': 18, 'name': 'Drama'}, {'id': 80, 'name...</td>\n",
       "      <td>7.8</td>\n",
       "      <td>1343.0</td>\n",
       "      <td>10.137389</td>\n",
       "      <td>1995-11-22</td>\n",
       "      <td>Drama, Crime</td>\n",
       "      <td>0</td>\n",
       "      <td>...</td>\n",
       "      <td>0</td>\n",
       "      <td>0</td>\n",
       "      <td>0</td>\n",
       "      <td>0</td>\n",
       "      <td>0</td>\n",
       "      <td>0</td>\n",
       "      <td>1</td>\n",
       "      <td>0</td>\n",
       "      <td>0</td>\n",
       "      <td>0</td>\n",
       "    </tr>\n",
       "    <tr>\n",
       "      <th>16</th>\n",
       "      <td>4584</td>\n",
       "      <td>Sense and Sensibility</td>\n",
       "      <td>Rich Mr. Dashwood dies, leaving his second wif...</td>\n",
       "      <td>[{'id': 18, 'name': 'Drama'}, {'id': 10749, 'n...</td>\n",
       "      <td>7.2</td>\n",
       "      <td>364.0</td>\n",
       "      <td>10.673167</td>\n",
       "      <td>1995-12-13</td>\n",
       "      <td>Drama, Romance</td>\n",
       "      <td>0</td>\n",
       "      <td>...</td>\n",
       "      <td>0</td>\n",
       "      <td>0</td>\n",
       "      <td>0</td>\n",
       "      <td>0</td>\n",
       "      <td>0</td>\n",
       "      <td>0</td>\n",
       "      <td>0</td>\n",
       "      <td>0</td>\n",
       "      <td>1</td>\n",
       "      <td>0</td>\n",
       "    </tr>\n",
       "  </tbody>\n",
       "</table>\n",
       "<p>5 rows × 29 columns</p>\n",
       "</div>"
      ],
      "text/plain": [
       "      id                  title  \\\n",
       "5    949                   Heat   \n",
       "9    710              GoldenEye   \n",
       "14  1408       Cutthroat Island   \n",
       "15   524                 Casino   \n",
       "16  4584  Sense and Sensibility   \n",
       "\n",
       "                                             overview  \\\n",
       "5   Obsessive master thief, Neil McCauley leads a ...   \n",
       "9   James Bond must unmask the mysterious head of ...   \n",
       "14  Morgan Adams and her slave, William Shaw, are ...   \n",
       "15  The life of the gambling paradise – Las Vegas ...   \n",
       "16  Rich Mr. Dashwood dies, leaving his second wif...   \n",
       "\n",
       "                                               genres  vote_average  \\\n",
       "5   [{'id': 28, 'name': 'Action'}, {'id': 80, 'nam...           7.7   \n",
       "9   [{'id': 12, 'name': 'Adventure'}, {'id': 28, '...           6.6   \n",
       "14  [{'id': 28, 'name': 'Action'}, {'id': 12, 'nam...           5.7   \n",
       "15  [{'id': 18, 'name': 'Drama'}, {'id': 80, 'name...           7.8   \n",
       "16  [{'id': 18, 'name': 'Drama'}, {'id': 10749, 'n...           7.2   \n",
       "\n",
       "    vote_count  popularity release_date                           genre  \\\n",
       "5       1886.0   17.924927   1995-12-15  Action, Crime, Drama, Thriller   \n",
       "9       1194.0   14.686036   1995-11-16     Adventure, Action, Thriller   \n",
       "14       137.0    7.284477   1995-12-22               Action, Adventure   \n",
       "15      1343.0   10.137389   1995-11-22                    Drama, Crime   \n",
       "16       364.0   10.673167   1995-12-13                  Drama, Romance   \n",
       "\n",
       "    Adventure  ...  History  Science Fiction  Documentary  Animation  Western  \\\n",
       "5           0  ...        0                0            0          0        0   \n",
       "9           1  ...        0                0            0          0        0   \n",
       "14          1  ...        0                0            0          0        0   \n",
       "15          0  ...        0                0            0          0        0   \n",
       "16          0  ...        0                0            0          0        0   \n",
       "\n",
       "    War  Crime  Action  Romance  Horror  \n",
       "5     0      1       1        0       0  \n",
       "9     0      0       1        0       0  \n",
       "14    0      0       1        0       0  \n",
       "15    0      1       0        0       0  \n",
       "16    0      0       0        1       0  \n",
       "\n",
       "[5 rows x 29 columns]"
      ]
     },
     "execution_count": 448,
     "metadata": {},
     "output_type": "execute_result"
    }
   ],
   "source": [
    "df_movies_final.head()"
   ]
  },
  {
   "cell_type": "code",
   "execution_count": 316,
   "metadata": {
    "id": "yhfHB6gTFlBh"
   },
   "outputs": [],
   "source": [
    "genre_matrix = vectorizer.fit_transform(df_movies_final['genre'], )\n",
    "\n",
    "genre_sim = linear_kernel(genre_matrix, genre_matrix) # Full genres line similarity matrix"
   ]
  },
  {
   "cell_type": "code",
   "execution_count": 457,
   "metadata": {
    "id": "uUS5d1d4E-z4"
   },
   "outputs": [],
   "source": [
    "def genre_rec(title, nrec = 10):\n",
    "    \n",
    "      \"\"\"\n",
    "        The funcion that finds recomendations analysing genre line similarity\n",
    "\n",
    "        output: List of 'nrec' IDs for top recommended movies\n",
    "      \"\"\"\n",
    "      \n",
    "      \n",
    "      title = title.capitalize()  \n",
    "      movie_idx = df_movies_final[df_movies_final['title'] == title].index[0]\n",
    "\n",
    "      title_sim = list(enumerate(genre_sim[movie_idx]))\n",
    "      title_sim = sorted(title_sim, key = lambda x: x[1], reverse = True)\n",
    "\n",
    "      movie_rec = title_sim[1:nrec+1]\n",
    "\n",
    "\n",
    "      movie_rec = [i[0] for i in movie_rec]\n",
    "\n",
    "\n",
    "      return movie_rec"
   ]
  },
  {
   "cell_type": "code",
   "execution_count": 318,
   "metadata": {
    "colab": {
     "base_uri": "https://localhost:8080/"
    },
    "id": "1SbWSeXFGRVi",
    "outputId": "65a3f635-49d8-43d0-9550-677445f26a34"
   },
   "outputs": [
    {
     "name": "stdout",
     "output_type": "stream",
     "text": [
      "[295, 484, 489, 496, 612, 702, 943, 1059, 1130, 1411]\n"
     ]
    }
   ],
   "source": [
    "print(genre_rec('Heat')) Test"
   ]
  },
  {
   "cell_type": "markdown",
   "metadata": {
    "id": "KL6nJgS-lgzQ"
   },
   "source": [
    "## Keywords Similarity"
   ]
  },
  {
   "cell_type": "code",
   "execution_count": 319,
   "metadata": {
    "id": "FIulBMcelrFn"
   },
   "outputs": [],
   "source": [
    "df_keys_final = df_keys[df_keys['id'].isin(df_movies_final['id'])]"
   ]
  },
  {
   "cell_type": "code",
   "execution_count": 450,
   "metadata": {
    "colab": {
     "base_uri": "https://localhost:8080/"
    },
    "id": "zSCaamVgl5IG",
    "outputId": "4240605d-65f0-43e6-8e08-621040041068"
   },
   "outputs": [
    {
     "name": "stderr",
     "output_type": "stream",
     "text": [
      "C:\\Users\\User\\AppData\\Local\\Temp\\ipykernel_14936\\2413671520.py:22: SettingWithCopyWarning: \n",
      "A value is trying to be set on a copy of a slice from a DataFrame.\n",
      "Try using .loc[row_indexer,col_indexer] = value instead\n",
      "\n",
      "See the caveats in the documentation: https://pandas.pydata.org/pandas-docs/stable/user_guide/indexing.html#returning-a-view-versus-a-copy\n",
      "  df[new_column] = todos_genres\n",
      "C:\\Users\\User\\AppData\\Local\\Temp\\ipykernel_14936\\2413671520.py:23: SettingWithCopyWarning: \n",
      "A value is trying to be set on a copy of a slice from a DataFrame.\n",
      "Try using .loc[row_indexer,col_indexer] = value instead\n",
      "\n",
      "See the caveats in the documentation: https://pandas.pydata.org/pandas-docs/stable/user_guide/indexing.html#returning-a-view-versus-a-copy\n",
      "  df[new_column] = df['genre'].apply(lambda x: str(x).replace('[', '').replace(']', '').replace(\"'\", '').replace('\"', ''))\n"
     ]
    }
   ],
   "source": [
    "all_keys = str_detect(df_keys_final, 'keywords', new_column = 'keywords')"
   ]
  },
  {
   "cell_type": "code",
   "execution_count": 451,
   "metadata": {
    "colab": {
     "base_uri": "https://localhost:8080/"
    },
    "id": "aLb-2Bt1mQSn",
    "outputId": "19b5491a-5cad-4143-9455-b14dd8e1157b"
   },
   "outputs": [
    {
     "data": {
      "text/html": [
       "<div>\n",
       "<style scoped>\n",
       "    .dataframe tbody tr th:only-of-type {\n",
       "        vertical-align: middle;\n",
       "    }\n",
       "\n",
       "    .dataframe tbody tr th {\n",
       "        vertical-align: top;\n",
       "    }\n",
       "\n",
       "    .dataframe thead th {\n",
       "        text-align: right;\n",
       "    }\n",
       "</style>\n",
       "<table border=\"1\" class=\"dataframe\">\n",
       "  <thead>\n",
       "    <tr style=\"text-align: right;\">\n",
       "      <th></th>\n",
       "      <th>id</th>\n",
       "      <th>keywords</th>\n",
       "      <th>genre</th>\n",
       "    </tr>\n",
       "  </thead>\n",
       "  <tbody>\n",
       "    <tr>\n",
       "      <th>5</th>\n",
       "      <td>949</td>\n",
       "      <td>robbery, detective, bank, obsession, chase, sh...</td>\n",
       "      <td>robbery, detective, bank, obsession, chase, sh...</td>\n",
       "    </tr>\n",
       "    <tr>\n",
       "      <th>9</th>\n",
       "      <td>710</td>\n",
       "      <td>cuba, falsely accused, secret identity, comput...</td>\n",
       "      <td>cuba, falsely accused, secret identity, comput...</td>\n",
       "    </tr>\n",
       "    <tr>\n",
       "      <th>14</th>\n",
       "      <td>1408</td>\n",
       "      <td>exotic island, treasure, map, ship, scalp, pirate</td>\n",
       "      <td>exotic island, treasure, map, ship, scalp, pirate</td>\n",
       "    </tr>\n",
       "    <tr>\n",
       "      <th>15</th>\n",
       "      <td>524</td>\n",
       "      <td>poker, drug abuse, 1970s, overdose, illegal pr...</td>\n",
       "      <td>poker, drug abuse, 1970s, overdose, illegal pr...</td>\n",
       "    </tr>\n",
       "    <tr>\n",
       "      <th>16</th>\n",
       "      <td>4584</td>\n",
       "      <td>bowling, based on novel, servant, country life...</td>\n",
       "      <td>bowling, based on novel, servant, country life...</td>\n",
       "    </tr>\n",
       "  </tbody>\n",
       "</table>\n",
       "</div>"
      ],
      "text/plain": [
       "      id                                           keywords  \\\n",
       "5    949  robbery, detective, bank, obsession, chase, sh...   \n",
       "9    710  cuba, falsely accused, secret identity, comput...   \n",
       "14  1408  exotic island, treasure, map, ship, scalp, pirate   \n",
       "15   524  poker, drug abuse, 1970s, overdose, illegal pr...   \n",
       "16  4584  bowling, based on novel, servant, country life...   \n",
       "\n",
       "                                                genre  \n",
       "5   robbery, detective, bank, obsession, chase, sh...  \n",
       "9   cuba, falsely accused, secret identity, comput...  \n",
       "14  exotic island, treasure, map, ship, scalp, pirate  \n",
       "15  poker, drug abuse, 1970s, overdose, illegal pr...  \n",
       "16  bowling, based on novel, servant, country life...  "
      ]
     },
     "execution_count": 451,
     "metadata": {},
     "output_type": "execute_result"
    }
   ],
   "source": [
    "df_keys_final.head()"
   ]
  },
  {
   "cell_type": "code",
   "execution_count": 322,
   "metadata": {
    "id": "WPkIoINpm0pw"
   },
   "outputs": [],
   "source": [
    "keys_vector = vectorizer.fit_transform(df_keys_final['keywords'])\n",
    "\n",
    "keys_sim = linear_kernel(keys_vector, keys_vector) # Keywords line similarity matrix"
   ]
  },
  {
   "cell_type": "code",
   "execution_count": 458,
   "metadata": {
    "id": "1jRjUzgKm9_w"
   },
   "outputs": [],
   "source": [
    "def key_recomended(title, nrec = 10):\n",
    "   \n",
    "      \"\"\"\n",
    "        The funcion that finds recomendations analysing keywords line similarity\n",
    "\n",
    "        output: List of 'nrec' IDs for top recommended movies\n",
    "      \"\"\"\n",
    "      \n",
    "      title = title.capitalize()  \n",
    "      movie_idx = df_movies_final[df_movies_final['title'] == title]['id'].values[0]\n",
    "      keys_idx = df_keys_final[df_keys_final['id'] == movie_idx].index[0]\n",
    "\n",
    "      key_sim = list(enumerate(keys_sim[keys_idx]))\n",
    "      key_sim = sorted(key_sim, key = lambda x: x[1], reverse = True)\n",
    "\n",
    "      key_sim = key_sim[1:nrec+1]\n",
    "      key_sim = [i[0] for i in key_sim]\n",
    "\n",
    "      movies_id = [i for i in df_keys_final.iloc[key_sim]['id'].values]\n",
    "\n",
    "      return movies_id\n"
   ]
  },
  {
   "cell_type": "code",
   "execution_count": 377,
   "metadata": {
    "colab": {
     "base_uri": "https://localhost:8080/"
    },
    "id": "0hjE9z3vo-nx",
    "outputId": "01277b3b-cb18-4afc-87fc-d60389fc9bad"
   },
   "outputs": [
    {
     "name": "stdout",
     "output_type": "stream",
     "text": [
      "[26686, 6166, 31035, 54272, 1266, 3021, 318, 299, 86059, 37736]\n"
     ]
    }
   ],
   "source": [
    "print(key_recomended('Heat')) #Test"
   ]
  },
  {
   "cell_type": "markdown",
   "metadata": {
    "id": "EUBYfLprTdQj"
   },
   "source": [
    "# BLANK"
   ]
  },
  {
   "cell_type": "markdown",
   "metadata": {
    "id": "SIfzPtIllHUG"
   },
   "source": [
    "## Blank Start Genre"
   ]
  },
  {
   "cell_type": "code",
   "execution_count": 452,
   "metadata": {
    "colab": {
     "base_uri": "https://localhost:8080/"
    },
    "id": "508WWd_2VGVk",
    "outputId": "fc1163b4-f3a9-4968-d743-87f99152e9c4"
   },
   "outputs": [
    {
     "data": {
      "text/plain": [
       "['Adventure',\n",
       " 'Thriller',\n",
       " 'Fantasy',\n",
       " 'Family',\n",
       " 'Mystery',\n",
       " 'Music',\n",
       " 'Foreign',\n",
       " 'Drama',\n",
       " 'Comedy',\n",
       " 'TV Movie',\n",
       " 'History',\n",
       " 'Science Fiction',\n",
       " 'Documentary',\n",
       " 'Animation',\n",
       " 'Western',\n",
       " 'War',\n",
       " 'Crime',\n",
       " 'Action',\n",
       " 'Romance',\n",
       " 'Horror']"
      ]
     },
     "execution_count": 452,
     "metadata": {},
     "output_type": "execute_result"
    }
   ],
   "source": [
    "# Find all unique genres in dataset\n",
    "flatten_genres = [item for sublist in todos_generes for item in sublist]\n",
    "unique_genres = list(set(flatten_genres))\n",
    "unique_genres"
   ]
  },
  {
   "cell_type": "code",
   "execution_count": 326,
   "metadata": {
    "colab": {
     "base_uri": "https://localhost:8080/"
    },
    "id": "V6YFege1hM95",
    "outputId": "4db81c01-1688-45f0-86d0-c742a01977b9"
   },
   "outputs": [
    {
     "name": "stderr",
     "output_type": "stream",
     "text": [
      "C:\\Users\\User\\AppData\\Local\\Temp\\ipykernel_14936\\2657053431.py:3: SettingWithCopyWarning: \n",
      "A value is trying to be set on a copy of a slice from a DataFrame.\n",
      "Try using .loc[row_indexer,col_indexer] = value instead\n",
      "\n",
      "See the caveats in the documentation: https://pandas.pydata.org/pandas-docs/stable/user_guide/indexing.html#returning-a-view-versus-a-copy\n",
      "  df_movies_final[genre] = df_movies_final['genre'].apply(lambda x: 1 if genre in x else 0)\n",
      "C:\\Users\\User\\AppData\\Local\\Temp\\ipykernel_14936\\2657053431.py:3: SettingWithCopyWarning: \n",
      "A value is trying to be set on a copy of a slice from a DataFrame.\n",
      "Try using .loc[row_indexer,col_indexer] = value instead\n",
      "\n",
      "See the caveats in the documentation: https://pandas.pydata.org/pandas-docs/stable/user_guide/indexing.html#returning-a-view-versus-a-copy\n",
      "  df_movies_final[genre] = df_movies_final['genre'].apply(lambda x: 1 if genre in x else 0)\n",
      "C:\\Users\\User\\AppData\\Local\\Temp\\ipykernel_14936\\2657053431.py:3: SettingWithCopyWarning: \n",
      "A value is trying to be set on a copy of a slice from a DataFrame.\n",
      "Try using .loc[row_indexer,col_indexer] = value instead\n",
      "\n",
      "See the caveats in the documentation: https://pandas.pydata.org/pandas-docs/stable/user_guide/indexing.html#returning-a-view-versus-a-copy\n",
      "  df_movies_final[genre] = df_movies_final['genre'].apply(lambda x: 1 if genre in x else 0)\n",
      "C:\\Users\\User\\AppData\\Local\\Temp\\ipykernel_14936\\2657053431.py:3: SettingWithCopyWarning: \n",
      "A value is trying to be set on a copy of a slice from a DataFrame.\n",
      "Try using .loc[row_indexer,col_indexer] = value instead\n",
      "\n",
      "See the caveats in the documentation: https://pandas.pydata.org/pandas-docs/stable/user_guide/indexing.html#returning-a-view-versus-a-copy\n",
      "  df_movies_final[genre] = df_movies_final['genre'].apply(lambda x: 1 if genre in x else 0)\n",
      "C:\\Users\\User\\AppData\\Local\\Temp\\ipykernel_14936\\2657053431.py:3: SettingWithCopyWarning: \n",
      "A value is trying to be set on a copy of a slice from a DataFrame.\n",
      "Try using .loc[row_indexer,col_indexer] = value instead\n",
      "\n",
      "See the caveats in the documentation: https://pandas.pydata.org/pandas-docs/stable/user_guide/indexing.html#returning-a-view-versus-a-copy\n",
      "  df_movies_final[genre] = df_movies_final['genre'].apply(lambda x: 1 if genre in x else 0)\n",
      "C:\\Users\\User\\AppData\\Local\\Temp\\ipykernel_14936\\2657053431.py:3: SettingWithCopyWarning: \n",
      "A value is trying to be set on a copy of a slice from a DataFrame.\n",
      "Try using .loc[row_indexer,col_indexer] = value instead\n",
      "\n",
      "See the caveats in the documentation: https://pandas.pydata.org/pandas-docs/stable/user_guide/indexing.html#returning-a-view-versus-a-copy\n",
      "  df_movies_final[genre] = df_movies_final['genre'].apply(lambda x: 1 if genre in x else 0)\n",
      "C:\\Users\\User\\AppData\\Local\\Temp\\ipykernel_14936\\2657053431.py:3: SettingWithCopyWarning: \n",
      "A value is trying to be set on a copy of a slice from a DataFrame.\n",
      "Try using .loc[row_indexer,col_indexer] = value instead\n",
      "\n",
      "See the caveats in the documentation: https://pandas.pydata.org/pandas-docs/stable/user_guide/indexing.html#returning-a-view-versus-a-copy\n",
      "  df_movies_final[genre] = df_movies_final['genre'].apply(lambda x: 1 if genre in x else 0)\n",
      "C:\\Users\\User\\AppData\\Local\\Temp\\ipykernel_14936\\2657053431.py:3: SettingWithCopyWarning: \n",
      "A value is trying to be set on a copy of a slice from a DataFrame.\n",
      "Try using .loc[row_indexer,col_indexer] = value instead\n",
      "\n",
      "See the caveats in the documentation: https://pandas.pydata.org/pandas-docs/stable/user_guide/indexing.html#returning-a-view-versus-a-copy\n",
      "  df_movies_final[genre] = df_movies_final['genre'].apply(lambda x: 1 if genre in x else 0)\n",
      "C:\\Users\\User\\AppData\\Local\\Temp\\ipykernel_14936\\2657053431.py:3: SettingWithCopyWarning: \n",
      "A value is trying to be set on a copy of a slice from a DataFrame.\n",
      "Try using .loc[row_indexer,col_indexer] = value instead\n",
      "\n",
      "See the caveats in the documentation: https://pandas.pydata.org/pandas-docs/stable/user_guide/indexing.html#returning-a-view-versus-a-copy\n",
      "  df_movies_final[genre] = df_movies_final['genre'].apply(lambda x: 1 if genre in x else 0)\n",
      "C:\\Users\\User\\AppData\\Local\\Temp\\ipykernel_14936\\2657053431.py:3: SettingWithCopyWarning: \n",
      "A value is trying to be set on a copy of a slice from a DataFrame.\n",
      "Try using .loc[row_indexer,col_indexer] = value instead\n",
      "\n",
      "See the caveats in the documentation: https://pandas.pydata.org/pandas-docs/stable/user_guide/indexing.html#returning-a-view-versus-a-copy\n",
      "  df_movies_final[genre] = df_movies_final['genre'].apply(lambda x: 1 if genre in x else 0)\n",
      "C:\\Users\\User\\AppData\\Local\\Temp\\ipykernel_14936\\2657053431.py:3: SettingWithCopyWarning: \n",
      "A value is trying to be set on a copy of a slice from a DataFrame.\n",
      "Try using .loc[row_indexer,col_indexer] = value instead\n",
      "\n",
      "See the caveats in the documentation: https://pandas.pydata.org/pandas-docs/stable/user_guide/indexing.html#returning-a-view-versus-a-copy\n",
      "  df_movies_final[genre] = df_movies_final['genre'].apply(lambda x: 1 if genre in x else 0)\n",
      "C:\\Users\\User\\AppData\\Local\\Temp\\ipykernel_14936\\2657053431.py:3: SettingWithCopyWarning: \n",
      "A value is trying to be set on a copy of a slice from a DataFrame.\n",
      "Try using .loc[row_indexer,col_indexer] = value instead\n",
      "\n",
      "See the caveats in the documentation: https://pandas.pydata.org/pandas-docs/stable/user_guide/indexing.html#returning-a-view-versus-a-copy\n",
      "  df_movies_final[genre] = df_movies_final['genre'].apply(lambda x: 1 if genre in x else 0)\n",
      "C:\\Users\\User\\AppData\\Local\\Temp\\ipykernel_14936\\2657053431.py:3: SettingWithCopyWarning: \n",
      "A value is trying to be set on a copy of a slice from a DataFrame.\n",
      "Try using .loc[row_indexer,col_indexer] = value instead\n",
      "\n",
      "See the caveats in the documentation: https://pandas.pydata.org/pandas-docs/stable/user_guide/indexing.html#returning-a-view-versus-a-copy\n",
      "  df_movies_final[genre] = df_movies_final['genre'].apply(lambda x: 1 if genre in x else 0)\n",
      "C:\\Users\\User\\AppData\\Local\\Temp\\ipykernel_14936\\2657053431.py:3: SettingWithCopyWarning: \n",
      "A value is trying to be set on a copy of a slice from a DataFrame.\n",
      "Try using .loc[row_indexer,col_indexer] = value instead\n",
      "\n",
      "See the caveats in the documentation: https://pandas.pydata.org/pandas-docs/stable/user_guide/indexing.html#returning-a-view-versus-a-copy\n",
      "  df_movies_final[genre] = df_movies_final['genre'].apply(lambda x: 1 if genre in x else 0)\n",
      "C:\\Users\\User\\AppData\\Local\\Temp\\ipykernel_14936\\2657053431.py:3: SettingWithCopyWarning: \n",
      "A value is trying to be set on a copy of a slice from a DataFrame.\n",
      "Try using .loc[row_indexer,col_indexer] = value instead\n",
      "\n",
      "See the caveats in the documentation: https://pandas.pydata.org/pandas-docs/stable/user_guide/indexing.html#returning-a-view-versus-a-copy\n",
      "  df_movies_final[genre] = df_movies_final['genre'].apply(lambda x: 1 if genre in x else 0)\n",
      "C:\\Users\\User\\AppData\\Local\\Temp\\ipykernel_14936\\2657053431.py:3: SettingWithCopyWarning: \n",
      "A value is trying to be set on a copy of a slice from a DataFrame.\n",
      "Try using .loc[row_indexer,col_indexer] = value instead\n",
      "\n",
      "See the caveats in the documentation: https://pandas.pydata.org/pandas-docs/stable/user_guide/indexing.html#returning-a-view-versus-a-copy\n",
      "  df_movies_final[genre] = df_movies_final['genre'].apply(lambda x: 1 if genre in x else 0)\n",
      "C:\\Users\\User\\AppData\\Local\\Temp\\ipykernel_14936\\2657053431.py:3: SettingWithCopyWarning: \n",
      "A value is trying to be set on a copy of a slice from a DataFrame.\n",
      "Try using .loc[row_indexer,col_indexer] = value instead\n",
      "\n",
      "See the caveats in the documentation: https://pandas.pydata.org/pandas-docs/stable/user_guide/indexing.html#returning-a-view-versus-a-copy\n",
      "  df_movies_final[genre] = df_movies_final['genre'].apply(lambda x: 1 if genre in x else 0)\n",
      "C:\\Users\\User\\AppData\\Local\\Temp\\ipykernel_14936\\2657053431.py:3: SettingWithCopyWarning: \n",
      "A value is trying to be set on a copy of a slice from a DataFrame.\n",
      "Try using .loc[row_indexer,col_indexer] = value instead\n",
      "\n",
      "See the caveats in the documentation: https://pandas.pydata.org/pandas-docs/stable/user_guide/indexing.html#returning-a-view-versus-a-copy\n",
      "  df_movies_final[genre] = df_movies_final['genre'].apply(lambda x: 1 if genre in x else 0)\n",
      "C:\\Users\\User\\AppData\\Local\\Temp\\ipykernel_14936\\2657053431.py:3: SettingWithCopyWarning: \n",
      "A value is trying to be set on a copy of a slice from a DataFrame.\n",
      "Try using .loc[row_indexer,col_indexer] = value instead\n",
      "\n",
      "See the caveats in the documentation: https://pandas.pydata.org/pandas-docs/stable/user_guide/indexing.html#returning-a-view-versus-a-copy\n",
      "  df_movies_final[genre] = df_movies_final['genre'].apply(lambda x: 1 if genre in x else 0)\n",
      "C:\\Users\\User\\AppData\\Local\\Temp\\ipykernel_14936\\2657053431.py:3: SettingWithCopyWarning: \n",
      "A value is trying to be set on a copy of a slice from a DataFrame.\n",
      "Try using .loc[row_indexer,col_indexer] = value instead\n",
      "\n",
      "See the caveats in the documentation: https://pandas.pydata.org/pandas-docs/stable/user_guide/indexing.html#returning-a-view-versus-a-copy\n",
      "  df_movies_final[genre] = df_movies_final['genre'].apply(lambda x: 1 if genre in x else 0)\n"
     ]
    }
   ],
   "source": [
    "# Create binary columns for each genre in movies dataset\n",
    "for genre in unique_genres:\n",
    "\n",
    "    df_movies_final[genre] = df_movies_final['genre'].apply(lambda x: 1 if genre in x else 0)"
   ]
  },
  {
   "cell_type": "code",
   "execution_count": 327,
   "metadata": {
    "colab": {
     "base_uri": "https://localhost:8080/"
    },
    "id": "l4DZlnW3hlcr",
    "outputId": "810e5389-cc93-4e7a-974c-4d71cfa5b65c"
   },
   "outputs": [
    {
     "data": {
      "text/html": [
       "<div>\n",
       "<style scoped>\n",
       "    .dataframe tbody tr th:only-of-type {\n",
       "        vertical-align: middle;\n",
       "    }\n",
       "\n",
       "    .dataframe tbody tr th {\n",
       "        vertical-align: top;\n",
       "    }\n",
       "\n",
       "    .dataframe thead th {\n",
       "        text-align: right;\n",
       "    }\n",
       "</style>\n",
       "<table border=\"1\" class=\"dataframe\">\n",
       "  <thead>\n",
       "    <tr style=\"text-align: right;\">\n",
       "      <th></th>\n",
       "      <th>id</th>\n",
       "      <th>title</th>\n",
       "      <th>overview</th>\n",
       "      <th>genres</th>\n",
       "      <th>vote_average</th>\n",
       "      <th>vote_count</th>\n",
       "      <th>popularity</th>\n",
       "      <th>release_date</th>\n",
       "      <th>genre</th>\n",
       "      <th>Adventure</th>\n",
       "      <th>...</th>\n",
       "      <th>History</th>\n",
       "      <th>Science Fiction</th>\n",
       "      <th>Documentary</th>\n",
       "      <th>Animation</th>\n",
       "      <th>Western</th>\n",
       "      <th>War</th>\n",
       "      <th>Crime</th>\n",
       "      <th>Action</th>\n",
       "      <th>Romance</th>\n",
       "      <th>Horror</th>\n",
       "    </tr>\n",
       "  </thead>\n",
       "  <tbody>\n",
       "    <tr>\n",
       "      <th>5</th>\n",
       "      <td>949</td>\n",
       "      <td>Heat</td>\n",
       "      <td>Obsessive master thief, Neil McCauley leads a ...</td>\n",
       "      <td>[{'id': 28, 'name': 'Action'}, {'id': 80, 'nam...</td>\n",
       "      <td>7.7</td>\n",
       "      <td>1886.0</td>\n",
       "      <td>17.924927</td>\n",
       "      <td>1995-12-15</td>\n",
       "      <td>Action, Crime, Drama, Thriller</td>\n",
       "      <td>0</td>\n",
       "      <td>...</td>\n",
       "      <td>0</td>\n",
       "      <td>0</td>\n",
       "      <td>0</td>\n",
       "      <td>0</td>\n",
       "      <td>0</td>\n",
       "      <td>0</td>\n",
       "      <td>1</td>\n",
       "      <td>1</td>\n",
       "      <td>0</td>\n",
       "      <td>0</td>\n",
       "    </tr>\n",
       "    <tr>\n",
       "      <th>9</th>\n",
       "      <td>710</td>\n",
       "      <td>GoldenEye</td>\n",
       "      <td>James Bond must unmask the mysterious head of ...</td>\n",
       "      <td>[{'id': 12, 'name': 'Adventure'}, {'id': 28, '...</td>\n",
       "      <td>6.6</td>\n",
       "      <td>1194.0</td>\n",
       "      <td>14.686036</td>\n",
       "      <td>1995-11-16</td>\n",
       "      <td>Adventure, Action, Thriller</td>\n",
       "      <td>1</td>\n",
       "      <td>...</td>\n",
       "      <td>0</td>\n",
       "      <td>0</td>\n",
       "      <td>0</td>\n",
       "      <td>0</td>\n",
       "      <td>0</td>\n",
       "      <td>0</td>\n",
       "      <td>0</td>\n",
       "      <td>1</td>\n",
       "      <td>0</td>\n",
       "      <td>0</td>\n",
       "    </tr>\n",
       "    <tr>\n",
       "      <th>14</th>\n",
       "      <td>1408</td>\n",
       "      <td>Cutthroat Island</td>\n",
       "      <td>Morgan Adams and her slave, William Shaw, are ...</td>\n",
       "      <td>[{'id': 28, 'name': 'Action'}, {'id': 12, 'nam...</td>\n",
       "      <td>5.7</td>\n",
       "      <td>137.0</td>\n",
       "      <td>7.284477</td>\n",
       "      <td>1995-12-22</td>\n",
       "      <td>Action, Adventure</td>\n",
       "      <td>1</td>\n",
       "      <td>...</td>\n",
       "      <td>0</td>\n",
       "      <td>0</td>\n",
       "      <td>0</td>\n",
       "      <td>0</td>\n",
       "      <td>0</td>\n",
       "      <td>0</td>\n",
       "      <td>0</td>\n",
       "      <td>1</td>\n",
       "      <td>0</td>\n",
       "      <td>0</td>\n",
       "    </tr>\n",
       "    <tr>\n",
       "      <th>15</th>\n",
       "      <td>524</td>\n",
       "      <td>Casino</td>\n",
       "      <td>The life of the gambling paradise – Las Vegas ...</td>\n",
       "      <td>[{'id': 18, 'name': 'Drama'}, {'id': 80, 'name...</td>\n",
       "      <td>7.8</td>\n",
       "      <td>1343.0</td>\n",
       "      <td>10.137389</td>\n",
       "      <td>1995-11-22</td>\n",
       "      <td>Drama, Crime</td>\n",
       "      <td>0</td>\n",
       "      <td>...</td>\n",
       "      <td>0</td>\n",
       "      <td>0</td>\n",
       "      <td>0</td>\n",
       "      <td>0</td>\n",
       "      <td>0</td>\n",
       "      <td>0</td>\n",
       "      <td>1</td>\n",
       "      <td>0</td>\n",
       "      <td>0</td>\n",
       "      <td>0</td>\n",
       "    </tr>\n",
       "    <tr>\n",
       "      <th>16</th>\n",
       "      <td>4584</td>\n",
       "      <td>Sense and Sensibility</td>\n",
       "      <td>Rich Mr. Dashwood dies, leaving his second wif...</td>\n",
       "      <td>[{'id': 18, 'name': 'Drama'}, {'id': 10749, 'n...</td>\n",
       "      <td>7.2</td>\n",
       "      <td>364.0</td>\n",
       "      <td>10.673167</td>\n",
       "      <td>1995-12-13</td>\n",
       "      <td>Drama, Romance</td>\n",
       "      <td>0</td>\n",
       "      <td>...</td>\n",
       "      <td>0</td>\n",
       "      <td>0</td>\n",
       "      <td>0</td>\n",
       "      <td>0</td>\n",
       "      <td>0</td>\n",
       "      <td>0</td>\n",
       "      <td>0</td>\n",
       "      <td>0</td>\n",
       "      <td>1</td>\n",
       "      <td>0</td>\n",
       "    </tr>\n",
       "  </tbody>\n",
       "</table>\n",
       "<p>5 rows × 29 columns</p>\n",
       "</div>"
      ],
      "text/plain": [
       "      id                  title  \\\n",
       "5    949                   Heat   \n",
       "9    710              GoldenEye   \n",
       "14  1408       Cutthroat Island   \n",
       "15   524                 Casino   \n",
       "16  4584  Sense and Sensibility   \n",
       "\n",
       "                                             overview  \\\n",
       "5   Obsessive master thief, Neil McCauley leads a ...   \n",
       "9   James Bond must unmask the mysterious head of ...   \n",
       "14  Morgan Adams and her slave, William Shaw, are ...   \n",
       "15  The life of the gambling paradise – Las Vegas ...   \n",
       "16  Rich Mr. Dashwood dies, leaving his second wif...   \n",
       "\n",
       "                                               genres  vote_average  \\\n",
       "5   [{'id': 28, 'name': 'Action'}, {'id': 80, 'nam...           7.7   \n",
       "9   [{'id': 12, 'name': 'Adventure'}, {'id': 28, '...           6.6   \n",
       "14  [{'id': 28, 'name': 'Action'}, {'id': 12, 'nam...           5.7   \n",
       "15  [{'id': 18, 'name': 'Drama'}, {'id': 80, 'name...           7.8   \n",
       "16  [{'id': 18, 'name': 'Drama'}, {'id': 10749, 'n...           7.2   \n",
       "\n",
       "    vote_count popularity release_date                           genre  \\\n",
       "5       1886.0  17.924927   1995-12-15  Action, Crime, Drama, Thriller   \n",
       "9       1194.0  14.686036   1995-11-16     Adventure, Action, Thriller   \n",
       "14       137.0   7.284477   1995-12-22               Action, Adventure   \n",
       "15      1343.0  10.137389   1995-11-22                    Drama, Crime   \n",
       "16       364.0  10.673167   1995-12-13                  Drama, Romance   \n",
       "\n",
       "    Adventure  ...  History  Science Fiction  Documentary  Animation  Western  \\\n",
       "5           0  ...        0                0            0          0        0   \n",
       "9           1  ...        0                0            0          0        0   \n",
       "14          1  ...        0                0            0          0        0   \n",
       "15          0  ...        0                0            0          0        0   \n",
       "16          0  ...        0                0            0          0        0   \n",
       "\n",
       "    War  Crime  Action  Romance  Horror  \n",
       "5     0      1       1        0       0  \n",
       "9     0      0       1        0       0  \n",
       "14    0      0       1        0       0  \n",
       "15    0      1       0        0       0  \n",
       "16    0      0       0        1       0  \n",
       "\n",
       "[5 rows x 29 columns]"
      ]
     },
     "execution_count": 327,
     "metadata": {},
     "output_type": "execute_result"
    }
   ],
   "source": [
    "df_movies_final.head()"
   ]
  },
  {
   "cell_type": "code",
   "execution_count": 372,
   "metadata": {},
   "outputs": [
    {
     "name": "stderr",
     "output_type": "stream",
     "text": [
      "C:\\Users\\User\\AppData\\Local\\Temp\\ipykernel_14936\\869291538.py:1: SettingWithCopyWarning: \n",
      "A value is trying to be set on a copy of a slice from a DataFrame.\n",
      "Try using .loc[row_indexer,col_indexer] = value instead\n",
      "\n",
      "See the caveats in the documentation: https://pandas.pydata.org/pandas-docs/stable/user_guide/indexing.html#returning-a-view-versus-a-copy\n",
      "  df_movies_final['popularity'] = df_movies_final['popularity'].apply(lambda x: float(x))\n"
     ]
    }
   ],
   "source": [
    "df_movies_final['popularity'] = df_movies_final['popularity'].apply(lambda x: float(x)) # Transform datatype"
   ]
  },
  {
   "cell_type": "code",
   "execution_count": 387,
   "metadata": {
    "colab": {
     "base_uri": "https://localhost:8080/"
    },
    "id": "ny4Nd1xmkoCn",
    "outputId": "2abe0c3e-02e1-408c-8de9-40a803e45b9f"
   },
   "outputs": [
    {
     "name": "stdout",
     "output_type": "stream",
     "text": [
      "<class 'pandas.core.frame.DataFrame'>\n",
      "Index: 2808 entries, 5 to 45450\n",
      "Data columns (total 29 columns):\n",
      " #   Column           Non-Null Count  Dtype  \n",
      "---  ------           --------------  -----  \n",
      " 0   id               2808 non-null   int32  \n",
      " 1   title            2808 non-null   object \n",
      " 2   overview         2808 non-null   object \n",
      " 3   genres           2808 non-null   object \n",
      " 4   vote_average     2808 non-null   float64\n",
      " 5   vote_count       2808 non-null   float64\n",
      " 6   popularity       2808 non-null   float64\n",
      " 7   release_date     2808 non-null   object \n",
      " 8   genre            2808 non-null   object \n",
      " 9   Adventure        2808 non-null   int64  \n",
      " 10  Thriller         2808 non-null   int64  \n",
      " 11  Fantasy          2808 non-null   int64  \n",
      " 12  Family           2808 non-null   int64  \n",
      " 13  Mystery          2808 non-null   int64  \n",
      " 14  Music            2808 non-null   int64  \n",
      " 15  Foreign          2808 non-null   int64  \n",
      " 16  Drama            2808 non-null   int64  \n",
      " 17  Comedy           2808 non-null   int64  \n",
      " 18  TV Movie         2808 non-null   int64  \n",
      " 19  History          2808 non-null   int64  \n",
      " 20  Science Fiction  2808 non-null   int64  \n",
      " 21  Documentary      2808 non-null   int64  \n",
      " 22  Animation        2808 non-null   int64  \n",
      " 23  Western          2808 non-null   int64  \n",
      " 24  War              2808 non-null   int64  \n",
      " 25  Crime            2808 non-null   int64  \n",
      " 26  Action           2808 non-null   int64  \n",
      " 27  Romance          2808 non-null   int64  \n",
      " 28  Horror           2808 non-null   int64  \n",
      "dtypes: float64(3), int32(1), int64(20), object(5)\n",
      "memory usage: 647.2+ KB\n"
     ]
    }
   ],
   "source": [
    "df_movies_final.info()"
   ]
  },
  {
   "cell_type": "code",
   "execution_count": 459,
   "metadata": {
    "id": "vG4zgiw7iOc0"
   },
   "outputs": [],
   "source": [
    "def genre_wo_title_rec(genres: list[str], nrec= 10):\n",
    "   \n",
    "      \"\"\"\n",
    "        The funcion that finds recomendations analysing each genre from a list of genres indicated for the function\n",
    "\n",
    "        output: List of 'nrec' IDs for top recommended movies\n",
    "      \"\"\"\n",
    "    \n",
    "      temp_movies = df_movies_final.copy()\n",
    "\n",
    "      for genre in genres:\n",
    "          genre = genre.capitalize()  \n",
    "          temp_movies = temp_movies[temp_movies[genre] == 1]\n",
    "\n",
    "      temp_movies = temp_movies.sort_values(by = ['release_date', 'popularity', 'vote_count','vote_average'], ascending = False)\n",
    "      temp_movies = temp_movies.head(nrec)\n",
    "      temp_movies = temp_movies.loc[:,['id']]  \n",
    "        \n",
    "\n",
    "      return [y for i in temp_movies.values for y in i]"
   ]
  },
  {
   "cell_type": "code",
   "execution_count": 433,
   "metadata": {
    "colab": {
     "base_uri": "https://localhost:8080/"
    },
    "id": "E85EFv_djnps",
    "outputId": "300a22d9-b77e-4b23-c3d1-33ca84692494"
   },
   "outputs": [
    {
     "name": "stdout",
     "output_type": "stream",
     "text": [
      "[84187, 98369, 62764, 91690, 91628, 74458, 100272, 64501, 27022, 31035]\n"
     ]
    }
   ],
   "source": [
    "print(genre_wo_title_rec(['drama', 'comedy'])) #Test"
   ]
  },
  {
   "cell_type": "markdown",
   "metadata": {
    "id": "uChUwSRrNQ9w"
   },
   "source": [
    "## Blank Start Keywords"
   ]
  },
  {
   "cell_type": "code",
   "execution_count": 460,
   "metadata": {
    "id": "L5CZPkC5NVQW"
   },
   "outputs": [],
   "source": [
    "def key_recomended_blank(keys: list[str], nrec = 10):\n",
    "    \n",
    "      \"\"\"\n",
    "        The funcion that finds recomendations analysing each keywords from a list of keywords indicated for the function\n",
    "\n",
    "        output: List of 'nrec' IDs for top recommended movies\n",
    "      \"\"\"\n",
    "        \n",
    "      temp_movies = df_keys_final.copy()\n",
    "\n",
    "      for key in keys:\n",
    "          temp_movies = temp_movies[temp_movies['genre'].str.contains(key, case = False, na = False)]\n",
    "\n",
    "      temp_movies = temp_movies['id']\n",
    "      movies_rec = df_movies_final[df_movies_final['id'].isin(temp_movies)]\n",
    "      movies_rec = movies_rec.sort_values(by = ['release_date', 'popularity', 'vote_count','vote_average'], ascending = False)\n",
    "      movies_rec = movies_rec.head(nrec)\n",
    "\n",
    "      return [i for i in temp_movies.values]"
   ]
  },
  {
   "cell_type": "code",
   "execution_count": 435,
   "metadata": {
    "colab": {
     "base_uri": "https://localhost:8080/"
    },
    "id": "KroQzJxqNwIz",
    "outputId": "1606f552-9685-44c7-ec56-be458cfc18e1"
   },
   "outputs": [
    {
     "name": "stdout",
     "output_type": "stream",
     "text": [
      "[568, 11, 2164, 62, 1891, 679, 1892, 348, 828, 830, 8851, 199, 152, 174, 172, 154, 168, 18, 782, 563, 8656, 846, 95, 841, 1091, 4437, 200, 1687, 8974, 2900, 861, 957, 926, 2067, 2102, 593, 698, 7450, 3980, 2210, 869, 6974, 1894, 608, 2103, 201, 667, 2789, 831, 25952, 7348, 1884, 8765, 2191, 7453, 1895, 25874, 5172, 1272, 1979, 2397, 33380, 27441, 3007, 8464, 26947, 78088, 30, 3786, 6436, 2791, 2154]\n"
     ]
    }
   ],
   "source": [
    "print(key_recomended_blank(['Space'])) # Test"
   ]
  },
  {
   "cell_type": "markdown",
   "metadata": {
    "id": "2499-MjxTnZj"
   },
   "source": [
    "# USER"
   ]
  },
  {
   "cell_type": "markdown",
   "metadata": {},
   "source": [
    "## User Similarity"
   ]
  },
  {
   "cell_type": "code",
   "execution_count": 333,
   "metadata": {
    "id": "H-nOUsI8Trf9"
   },
   "outputs": [
    {
     "name": "stdout",
     "output_type": "stream",
     "text": [
      "<class 'pandas.core.frame.DataFrame'>\n",
      "Index: 44823 entries, 10 to 99997\n",
      "Data columns (total 4 columns):\n",
      " #   Column     Non-Null Count  Dtype  \n",
      "---  ------     --------------  -----  \n",
      " 0   userId     44823 non-null  int64  \n",
      " 1   movieId    44823 non-null  int64  \n",
      " 2   rating     44823 non-null  float64\n",
      " 3   timestamp  44823 non-null  int64  \n",
      "dtypes: float64(1), int64(3)\n",
      "memory usage: 1.7 MB\n"
     ]
    }
   ],
   "source": [
    "df_rating_final.info()"
   ]
  },
  {
   "cell_type": "code",
   "execution_count": 334,
   "metadata": {},
   "outputs": [],
   "source": [
    "# Split rating dataset because of calculation complexity limitations\n",
    "df_rating_final_train, df_rating_final_test = train_test_split(df_rating_final, test_size = 0.9, \n",
    "                                                               shuffle = True, random_state = 42)"
   ]
  },
  {
   "cell_type": "code",
   "execution_count": 335,
   "metadata": {},
   "outputs": [
    {
     "name": "stdout",
     "output_type": "stream",
     "text": [
      "<class 'pandas.core.frame.DataFrame'>\n",
      "Index: 4482 entries, 84983 to 34865\n",
      "Data columns (total 4 columns):\n",
      " #   Column     Non-Null Count  Dtype  \n",
      "---  ------     --------------  -----  \n",
      " 0   userId     4482 non-null   int64  \n",
      " 1   movieId    4482 non-null   int64  \n",
      " 2   rating     4482 non-null   float64\n",
      " 3   timestamp  4482 non-null   int64  \n",
      "dtypes: float64(1), int64(3)\n",
      "memory usage: 175.1 KB\n"
     ]
    }
   ],
   "source": [
    "df_rating_final_train.info()"
   ]
  },
  {
   "cell_type": "code",
   "execution_count": 336,
   "metadata": {},
   "outputs": [
    {
     "data": {
      "text/html": [
       "<div>\n",
       "<style scoped>\n",
       "    .dataframe tbody tr th:only-of-type {\n",
       "        vertical-align: middle;\n",
       "    }\n",
       "\n",
       "    .dataframe tbody tr th {\n",
       "        vertical-align: top;\n",
       "    }\n",
       "\n",
       "    .dataframe thead th {\n",
       "        text-align: right;\n",
       "    }\n",
       "</style>\n",
       "<table border=\"1\" class=\"dataframe\">\n",
       "  <thead>\n",
       "    <tr style=\"text-align: right;\">\n",
       "      <th></th>\n",
       "      <th>userId</th>\n",
       "      <th>movieId</th>\n",
       "      <th>rating</th>\n",
       "      <th>timestamp</th>\n",
       "    </tr>\n",
       "  </thead>\n",
       "  <tbody>\n",
       "    <tr>\n",
       "      <th>84983</th>\n",
       "      <td>570</td>\n",
       "      <td>37727</td>\n",
       "      <td>2.5</td>\n",
       "      <td>1475784380</td>\n",
       "    </tr>\n",
       "    <tr>\n",
       "      <th>88829</th>\n",
       "      <td>590</td>\n",
       "      <td>380</td>\n",
       "      <td>4.0</td>\n",
       "      <td>848677295</td>\n",
       "    </tr>\n",
       "    <tr>\n",
       "      <th>93695</th>\n",
       "      <td>624</td>\n",
       "      <td>1125</td>\n",
       "      <td>4.0</td>\n",
       "      <td>1019127479</td>\n",
       "    </tr>\n",
       "    <tr>\n",
       "      <th>80999</th>\n",
       "      <td>550</td>\n",
       "      <td>338</td>\n",
       "      <td>4.0</td>\n",
       "      <td>942669183</td>\n",
       "    </tr>\n",
       "    <tr>\n",
       "      <th>24081</th>\n",
       "      <td>173</td>\n",
       "      <td>260</td>\n",
       "      <td>5.0</td>\n",
       "      <td>875356589</td>\n",
       "    </tr>\n",
       "  </tbody>\n",
       "</table>\n",
       "</div>"
      ],
      "text/plain": [
       "       userId  movieId  rating   timestamp\n",
       "84983     570    37727     2.5  1475784380\n",
       "88829     590      380     4.0   848677295\n",
       "93695     624     1125     4.0  1019127479\n",
       "80999     550      338     4.0   942669183\n",
       "24081     173      260     5.0   875356589"
      ]
     },
     "execution_count": 336,
     "metadata": {},
     "output_type": "execute_result"
    }
   ],
   "source": [
    "df_rating_final_train.head()"
   ]
  },
  {
   "cell_type": "code",
   "execution_count": 337,
   "metadata": {},
   "outputs": [],
   "source": [
    "user_matrix = df_rating_final_train.pivot(index = 'movieId', columns = 'userId', values = 'rating')\n",
    "user_corr = user_matrix.corr(method = 'pearson') # Users' similarity matrix"
   ]
  },
  {
   "cell_type": "code",
   "execution_count": 461,
   "metadata": {},
   "outputs": [],
   "source": [
    "def user_recommend(user, nrec = 10):\n",
    "       \n",
    "        \"\"\"\n",
    "        The funcion that finds recomendations analysing users similarities based on ratings for movies\n",
    "\n",
    "        output: List of 'nrec' IDs for top recommended movies\n",
    "        \"\"\"\n",
    "        \n",
    "        user_vector = list(enumerate(user_corr[user]))\n",
    "        user_vector = sorted(user_vector, key = lambda x: x[1], reverse = True)\n",
    "        \n",
    "        user_movies = df_rating_final[df_rating_final['userId'] == user]['movieId']\n",
    "        \n",
    "        sim_users = [i[0] for i in user_vector]\n",
    "        \n",
    "        movies_rec= []\n",
    "        \n",
    "        for sim in sim_users:\n",
    "            if len(movies_rec) == nrec:\n",
    "                    break\n",
    "            else:\n",
    "                    mask_1 = df_rating_final['userId'] == sim\n",
    "                    mask_2 = df_rating_final['rating'] >= 4.0\n",
    "                    \n",
    "                    sim_movies = df_rating_final[mask_1 & mask_2]['movieId']\n",
    "                    \n",
    "                    for movie in sim_movies:\n",
    "                            if len(movies_rec) == nrec:\n",
    "                                    break\n",
    "                            else:\n",
    "                                    movies_rec.append(movie)\n",
    "                                    \n",
    "        movies_fin = df_movies_final[df_movies_final['id'].isin(movies_rec)]\n",
    "        \n",
    "        return movies_rec"
   ]
  },
  {
   "cell_type": "code",
   "execution_count": 339,
   "metadata": {},
   "outputs": [
    {
     "name": "stdout",
     "output_type": "stream",
     "text": [
      "[2105, 17, 110, 150, 153, 222, 253, 261, 265, 266]\n"
     ]
    }
   ],
   "source": [
    "print(user_recommend(user = 570)) # Test"
   ]
  },
  {
   "cell_type": "markdown",
   "metadata": {},
   "source": [
    "## SVD"
   ]
  },
  {
   "cell_type": "code",
   "execution_count": 340,
   "metadata": {},
   "outputs": [
    {
     "name": "stdout",
     "output_type": "stream",
     "text": [
      "[(2, 3), (3, 2), (4, 21), (5, 5), (6, 4), (7, 2), (8, 4), (9, 2), (10, 4), (14, 1), (15, 53), (17, 21), (18, 3), (19, 22), (20, 7), (21, 8), (22, 13), (23, 32), (24, 1), (25, 4), (26, 9), (27, 1), (28, 3), (30, 48), (31, 2), (32, 3), (33, 6), (34, 7), (36, 8), (37, 1), (38, 2), (39, 5), (41, 7), (42, 1), (43, 3), (44, 1), (47, 2), (48, 21), (49, 4), (50, 2), (52, 1), (54, 1), (55, 2), (56, 21), (57, 17), (58, 1), (59, 2), (60, 1), (61, 9), (63, 3), (64, 2), (65, 3), (66, 2), (67, 5), (68, 3), (69, 2), (70, 4), (72, 8), (73, 57), (74, 1), (75, 10), (76, 2), (77, 7), (78, 13), (80, 3), (81, 10), (82, 3), (83, 7), (84, 3), (85, 11), (86, 22), (87, 1), (88, 10), (89, 2), (90, 2), (91, 3), (92, 12), (93, 5), (94, 8), (95, 18), (97, 7), (98, 3), (99, 11), (100, 2), (101, 5), (102, 33), (103, 7), (104, 1), (105, 20), (106, 2), (107, 1), (108, 2), (109, 3), (110, 10), (111, 11), (113, 2), (114, 2), (115, 1), (117, 2), (118, 10), (119, 35), (120, 7), (121, 8), (122, 5), (123, 1), (124, 2), (125, 9), (126, 7), (127, 2), (128, 19), (130, 13), (131, 2), (132, 2), (133, 4), (134, 18), (135, 2), (136, 3), (137, 1), (138, 4), (139, 2), (140, 1), (141, 1), (142, 4), (143, 2), (144, 3), (145, 1), (146, 2), (147, 5), (148, 5), (149, 2), (150, 18), (151, 8), (152, 5), (153, 3), (154, 1), (155, 1), (157, 12), (158, 2), (159, 11), (160, 2), (161, 8), (162, 2), (163, 5), (164, 6), (165, 28), (166, 5), (167, 2), (168, 16), (169, 4), (171, 2), (172, 2), (173, 1), (174, 1), (175, 10), (176, 10), (177, 20), (178, 7), (179, 1), (180, 2), (181, 1), (182, 14), (184, 1), (185, 13), (186, 1), (187, 18), (188, 5), (189, 4), (190, 3), (191, 6), (192, 1), (193, 3), (194, 3), (195, 27), (196, 7), (197, 3), (198, 1), (199, 11), (200, 6), (201, 3), (202, 5), (203, 1), (204, 2), (205, 4), (207, 5), (208, 1), (209, 1), (210, 6), (211, 2), (212, 37), (213, 34), (214, 9), (215, 3), (216, 4), (217, 3), (218, 2), (219, 4), (220, 12), (222, 5), (223, 3), (224, 7), (225, 2), (226, 1), (228, 1), (229, 3), (230, 2), (231, 1), (232, 30), (233, 2), (234, 1), (235, 6), (236, 3), (237, 3), (238, 1), (239, 8), (240, 12), (241, 1), (242, 27), (243, 15), (244, 5), (245, 4), (246, 3), (247, 8), (248, 2), (249, 2), (250, 2), (251, 5), (252, 3), (253, 15), (254, 5), (255, 8), (256, 2), (257, 3), (259, 2), (260, 2), (261, 2), (262, 27), (263, 2), (264, 1), (265, 9), (266, 3), (267, 2), (268, 18), (270, 9), (271, 6), (273, 3), (274, 4), (275, 6), (276, 1), (277, 1), (278, 3), (279, 3), (280, 1), (281, 7), (282, 8), (283, 8), (284, 4), (285, 20), (286, 2), (287, 11), (288, 4), (290, 4), (291, 1), (292, 18), (293, 4), (294, 38), (295, 7), (296, 1), (297, 7), (298, 2), (299, 12), (300, 1), (301, 1), (302, 3), (303, 11), (304, 7), (305, 2), (306, 36), (307, 4), (308, 5), (309, 7), (310, 1), (311, 50), (312, 23), (313, 10), (314, 1), (315, 2), (316, 4), (317, 1), (318, 4), (319, 4), (321, 2), (322, 2), (323, 2), (324, 9), (326, 2), (327, 5), (328, 4), (329, 1), (330, 5), (333, 3), (335, 1), (337, 2), (338, 7), (339, 2), (342, 9), (343, 1), (344, 14), (345, 9), (346, 10), (347, 3), (348, 4), (349, 2), (350, 7), (351, 4), (352, 2), (353, 23), (354, 2), (355, 20), (356, 3), (357, 1), (358, 25), (359, 6), (360, 6), (361, 4), (362, 2), (363, 11), (364, 3), (365, 5), (366, 1), (367, 6), (368, 2), (370, 4), (371, 5), (373, 6), (374, 2), (375, 3), (376, 3), (378, 4), (379, 6), (380, 49), (381, 12), (382, 11), (383, 4), (384, 22), (385, 11), (386, 9), (387, 11), (388, 42), (389, 7), (390, 3), (391, 5), (392, 1), (393, 3), (394, 10), (395, 1), (396, 9), (397, 3), (399, 2), (400, 4), (401, 2), (402, 7), (403, 1), (404, 3), (405, 13), (406, 3), (407, 18), (408, 15), (409, 3), (410, 1), (412, 7), (413, 2), (414, 3), (415, 1), (416, 8), (417, 6), (418, 10), (419, 6), (420, 6), (421, 4), (422, 6), (423, 13), (424, 2), (426, 10), (427, 9), (428, 12), (429, 2), (430, 16), (431, 17), (432, 4), (433, 8), (434, 12), (435, 1), (436, 6), (437, 2), (438, 2), (439, 8), (440, 4), (441, 5), (442, 12), (443, 2), (445, 1), (447, 7), (449, 1), (450, 6), (451, 4), (452, 66), (453, 6), (455, 1), (456, 2), (457, 21), (458, 3), (459, 3), (460, 16), (461, 34), (462, 5), (463, 32), (464, 3), (465, 2), (466, 11), (467, 1), (468, 52), (469, 2), (470, 2), (471, 2), (472, 31), (473, 1), (474, 2), (475, 12), (476, 2), (477, 2), (478, 3), (479, 4), (480, 16), (481, 9), (482, 3), (483, 3), (485, 1), (486, 4), (487, 9), (488, 1), (489, 1), (490, 2), (491, 3), (492, 1), (493, 7), (494, 1), (495, 3), (496, 6), (497, 3), (499, 3), (500, 14), (501, 6), (502, 6), (504, 3), (505, 21), (506, 1), (507, 4), (508, 3), (509, 34), (510, 8), (513, 2), (514, 22), (515, 1), (516, 10), (517, 3), (518, 42), (519, 7), (520, 7), (521, 2), (522, 7), (523, 3), (524, 5), (525, 7), (526, 2), (527, 3), (528, 4), (529, 18), (530, 4), (531, 5), (532, 5), (533, 12), (534, 23), (535, 5), (536, 11), (537, 11), (538, 2), (540, 1), (541, 4), (542, 3), (543, 4), (544, 6), (545, 3), (546, 1), (547, 73), (548, 13), (549, 1), (550, 9), (551, 3), (552, 4), (553, 7), (554, 2), (555, 1), (556, 2), (557, 4), (558, 9), (559, 5), (560, 5), (561, 6), (562, 13), (563, 4), (564, 106), (565, 3), (566, 1), (568, 3), (569, 7), (570, 5), (572, 6), (573, 2), (574, 10), (575, 28), (576, 3), (577, 12), (578, 2), (579, 1), (580, 39), (581, 2), (582, 4), (583, 1), (584, 6), (585, 10), (586, 1), (587, 11), (588, 7), (589, 3), (590, 9), (591, 2), (592, 11), (593, 8), (594, 1), (595, 7), (596, 14), (597, 15), (598, 7), (599, 8), (602, 6), (603, 12), (604, 1), (605, 15), (606, 1), (607, 19), (608, 13), (609, 2), (610, 2), (612, 4), (613, 1), (614, 5), (615, 8), (616, 5), (617, 7), (618, 1), (619, 6), (620, 7), (621, 3), (622, 4), (623, 3), (624, 44), (625, 3), (626, 6), (627, 13), (628, 1), (629, 2), (630, 1), (631, 3), (632, 2), (633, 2), (634, 1), (635, 1), (637, 1), (638, 4), (639, 3), (640, 8), (641, 9), (642, 3), (645, 2), (646, 11), (647, 7), (648, 7), (649, 5), (650, 1), (651, 2), (652, 6), (653, 4), (654, 33), (655, 2), (656, 5), (657, 4), (658, 5), (659, 13), (660, 3), (662, 4), (664, 12), (665, 21), (666, 4), (667, 2), (668, 1), (669, 2), (670, 3), (671, 4)]\n"
     ]
    }
   ],
   "source": [
    "# Test to check how many rating has each user in rating dataset\n",
    "us, cnts = np.unique(df_rating_final_train['userId'], return_counts= True)\n",
    "print(list(zip(us, cnts)))"
   ]
  },
  {
   "cell_type": "code",
   "execution_count": 453,
   "metadata": {},
   "outputs": [],
   "source": [
    "# Data preparation for SVD\n",
    "user_movie_matrix = df_rating_final_train.pivot(index = 'userId', columns = 'movieId', values = 'rating')\n",
    "col_mean = user_movie_matrix.mean(axis = 1)\n",
    "user_movie_matrix.fillna(0, inplace = True)\n",
    "\n",
    "user_movie_demean = user_movie_matrix - col_mean.values.reshape(-1, 1)"
   ]
  },
  {
   "cell_type": "code",
   "execution_count": 342,
   "metadata": {},
   "outputs": [],
   "source": [
    "U, sigma, Vt = svds(user_movie_demean.values, k = 50) # SVD"
   ]
  },
  {
   "cell_type": "code",
   "execution_count": 343,
   "metadata": {},
   "outputs": [],
   "source": [
    "# SVD predictions\n",
    "sigma = np.diag(sigma)\n",
    "user_movie_pred = np.dot(np.dot(U, sigma), Vt) + col_mean.values.reshape(-1, 1)\n",
    "user_movie_pred_df = pd.DataFrame(user_movie_pred, columns = user_movie_matrix.columns, index = user_movie_matrix.index)"
   ]
  },
  {
   "cell_type": "code",
   "execution_count": 344,
   "metadata": {},
   "outputs": [
    {
     "data": {
      "text/plain": [
       "movieId\n",
       "253    0.309333\n",
       "Name: 641, dtype: float64"
      ]
     },
     "execution_count": 344,
     "metadata": {},
     "output_type": "execute_result"
    }
   ],
   "source": [
    "user_movie_pred_df.loc[641,[253]].sort_values(ascending = False) # Prediction test for a user and a movie"
   ]
  },
  {
   "cell_type": "code",
   "execution_count": 462,
   "metadata": {},
   "outputs": [],
   "source": [
    "def svd_user_recommend(user: int, nrec = 10):\n",
    "       \n",
    "        \"\"\"\n",
    "        The funcion that finds recomendations based on SVD rating predictions\n",
    "\n",
    "        output: List of 'nrec' IDs for top recommended movies\n",
    "        \"\"\"\n",
    "                \n",
    "        user_vector = user_movie_pred_df.loc[user]\n",
    "        user_vector = user_vector.sort_values(ascending = False).index\n",
    "#         print(user_vector)\n",
    "        \n",
    "        movies_id = user_vector\n",
    "#         print(movies_id)\n",
    "        user_movies = df_rating_final_train[df_rating_final_train['userId'] == user]['movieId']\n",
    "        \n",
    "        rec_movies = []\n",
    "        \n",
    "        for movie in movies_id:\n",
    "                if len(rec_movies) == nrec:\n",
    "                        break\n",
    "                else:\n",
    "                        if movie not in user_movies:\n",
    "                                if len(rec_movies) < nrec:\n",
    "                                        rec_movies.append(movie)\n",
    "                                else:\n",
    "                                        break\n",
    "                                        \n",
    "        return rec_movies"
   ]
  },
  {
   "cell_type": "code",
   "execution_count": 346,
   "metadata": {},
   "outputs": [
    {
     "name": "stdout",
     "output_type": "stream",
     "text": [
      "[364, 1073, 500, 587, 1732, 586, 262, 4993, 953, 588]\n"
     ]
    }
   ],
   "source": [
    "print(svd_user_recommend(user = 641)) # Test"
   ]
  },
  {
   "cell_type": "code",
   "execution_count": 347,
   "metadata": {},
   "outputs": [
    {
     "name": "stdout",
     "output_type": "stream",
     "text": [
      "       userId  movieId  rating  timestamp\n",
      "96245     641      587     4.0  841551394\n",
      "96285     641     1381     3.0  850023798\n",
      "96238     641      500     5.0  836533738\n",
      "96281     641     1073     4.0  850021177\n",
      "96265     641      802     4.0  855980932\n",
      "96286     641     1391     3.0  856748022\n",
      "96219     641      364     4.0  834636704\n",
      "96199     641      262     5.0  834984658\n",
      "96228     641      434     3.0  834636305\n"
     ]
    }
   ],
   "source": [
    "user_movies = df_rating_final_train[df_rating_final_train['userId'] == 641] # Test\n",
    "print(user_movies)"
   ]
  },
  {
   "cell_type": "markdown",
   "metadata": {},
   "source": [
    "# FINAL RECOMMENDATION SYSTEM"
   ]
  },
  {
   "cell_type": "code",
   "execution_count": 464,
   "metadata": {},
   "outputs": [],
   "source": [
    "class Complex_Recommendation:\n",
    "        def __init__(self, title: str = None, user_id:int = None, genres: list[str] = None, keywords: list[str] = None, \n",
    "                     nrec:int = 10):\n",
    "                self.title = title\n",
    "                self.user_id = user_id\n",
    "                self.genres = genres\n",
    "                self.keywords = keywords\n",
    "                self.nrec = nrec\n",
    "                self.rec_list = None\n",
    "                \n",
    "        \n",
    "        # Title approach \n",
    "        def title_process(self, title, nrec):\n",
    "            \n",
    "                \"\"\"\n",
    "                Complex function that finds recomendations by title with 3 different methods, join results and select \n",
    "                the top by popularity, vote count and vote average \n",
    "\n",
    "                output: Dataframe with 'nrec' recommended movies \n",
    "                \"\"\"\n",
    "            \n",
    "            \n",
    "                movies_overview = overview_rec(title, nrec)\n",
    "                movies_genres = genre_rec(title, nrec)\n",
    "                movies_keys = key_recomended(title, nrec)\n",
    "                \n",
    "                total_movies = movies_overview + movies_genres + movies_keys\n",
    "                total_movies = set(total_movies)\n",
    "                total_movies = list(total_movies)\n",
    "                \n",
    "                movies_rec = df_movies_final[df_movies_final['id'].isin(total_movies)]\n",
    "                movies_rec = movies_rec.sort_values(by = ['popularity', 'vote_count', 'vote_average'], ascending = False)\n",
    "                movies_rec = movies_rec[:self.nrec]\n",
    "\n",
    "                return movies_rec\n",
    "            \n",
    "        # User approach\n",
    "        def user_process(self, user_id, nrec):\n",
    "            \n",
    "                \"\"\"\n",
    "                Complex function that finds recomendations by user with 2 different methods, join results and select the \n",
    "                top by popularity, vote count and vote average \n",
    "\n",
    "                output: Dataframe with 'nrec' recommended movies \n",
    "                \"\"\"\n",
    "                \n",
    "                movies_user = user_recommend(user_id, nrec)\n",
    "                movies_svd = svd_user_recommend(user_id, nrec)\n",
    "                \n",
    "                \n",
    "                total_movies = movies_user + movies_svd\n",
    "                total_movies = set(total_movies)\n",
    "                total_movies = list(total_movies)\n",
    "                \n",
    "                movies_rec = df_movies_final[df_movies_final['id'].isin(total_movies)]\n",
    "                movies_rec = movies_rec.sort_values(by = ['popularity', 'vote_count', 'vote_average'], \n",
    "                                                    ascending = [False,False,False])\n",
    "                movies_rec = movies_rec[:self.nrec]\n",
    "            \n",
    "            \n",
    "                return movies_rec\n",
    "            \n",
    "        # Cold start approach with genres/keywords query   \n",
    "        def blank_process(self, genres, keywords, nrec):\n",
    "            \n",
    "                \"\"\"\n",
    "                Complex function that finds recomendations by genres, keys or both methods, join results and select the \n",
    "                top by popularity, vote count and vote average \n",
    "\n",
    "                output: Dataframe with 'nrec' recommended movies \n",
    "                \"\"\"\n",
    "                \n",
    "                if self.genres != None and self.keywords != None:\n",
    "                        movies_genre_blank = genre_wo_title_rec(genres, nrec)\n",
    "                        movies_key_blank = key_recomended_blank(keywords, nrec)\n",
    "\n",
    "                        total_movies = [x for x in movies_key_blank if x in movies_genre_blank]\n",
    "                        \n",
    "                if self.keywords == None:\n",
    "                        total_movies = genre_wo_title_rec(genres, nrec)\n",
    "                    \n",
    "                if self.genres == None:\n",
    "                        total_movies = key_recomended_blank(keywords, nrec)\n",
    "\n",
    "                        \n",
    "                return df_movies_final[df_movies_final['id'].isin(total_movies[:nrec])]\n",
    "            \n",
    "        # Cold start with no data   \n",
    "        def full_blank(self, nrec):\n",
    "            \n",
    "                \"\"\"\n",
    "                Function that finds recomendations with mo data selecting the top by release date, popularity, \n",
    "                vote count and vote average \n",
    "\n",
    "                output: Dataframe with 'nrec' recommended movies \n",
    "                \"\"\"       \n",
    "            \n",
    "                movies_rec = df_movies_final.sort_values(by = ['release_date','popularity', 'vote_count', 'vote_average'], \n",
    "                                                    ascending = [False,False,False,False])\n",
    "                movies_rec = movies_rec[:nrec]\n",
    "                \n",
    "                return movies_rec\n",
    "                \n",
    "                \n",
    "        # Processing function        \n",
    "        def fit(self):\n",
    "                if self.title != None:\n",
    "                    rec_movies = self.title_process(self.title, self.nrec)\n",
    "                    \n",
    "                elif self.user_id != None:\n",
    "                    rec_movies = self.user_process(self.user_id, self.nrec)\n",
    "                   \n",
    "                \n",
    "                elif self.genres != None or self.keywords != None:\n",
    "                    rec_movies = self.blank_process(self.genres, self.keywords, self.nrec)\n",
    "                    \n",
    "                else:\n",
    "                    rec_movies = self.full_blank(self.nrec)\n",
    "                    \n",
    "                \n",
    "                self.rec_list = rec_movies\n",
    "\n",
    "                \n",
    "        # Function to return only title and overview for final result       \n",
    "        def pred(self):\n",
    "                return self.rec_list[['title', 'overview']]\n",
    "                "
   ]
  },
  {
   "cell_type": "code",
   "execution_count": 443,
   "metadata": {},
   "outputs": [
    {
     "data": {
      "text/html": [
       "<div>\n",
       "<style scoped>\n",
       "    .dataframe tbody tr th:only-of-type {\n",
       "        vertical-align: middle;\n",
       "    }\n",
       "\n",
       "    .dataframe tbody tr th {\n",
       "        vertical-align: top;\n",
       "    }\n",
       "\n",
       "    .dataframe thead th {\n",
       "        text-align: right;\n",
       "    }\n",
       "</style>\n",
       "<table border=\"1\" class=\"dataframe\">\n",
       "  <thead>\n",
       "    <tr style=\"text-align: right;\">\n",
       "      <th></th>\n",
       "      <th>title</th>\n",
       "      <th>overview</th>\n",
       "    </tr>\n",
       "  </thead>\n",
       "  <tbody>\n",
       "    <tr>\n",
       "      <th>28213</th>\n",
       "      <td>Knight of Cups</td>\n",
       "      <td>Rick is a screenwriter living in Los Angeles. ...</td>\n",
       "    </tr>\n",
       "    <tr>\n",
       "      <th>23957</th>\n",
       "      <td>Sin City: A Dame to Kill For</td>\n",
       "      <td>Some of Sin City's most hard-boiled citizens c...</td>\n",
       "    </tr>\n",
       "    <tr>\n",
       "      <th>14765</th>\n",
       "      <td>Dante's Hell Animated</td>\n",
       "      <td>Dante's Hell Animated is a real and truthful e...</td>\n",
       "    </tr>\n",
       "    <tr>\n",
       "      <th>31927</th>\n",
       "      <td>Heart of the Country</td>\n",
       "      <td>With her husband jailed for Wall Street-based ...</td>\n",
       "    </tr>\n",
       "    <tr>\n",
       "      <th>22176</th>\n",
       "      <td>The Cosmonaut</td>\n",
       "      <td>What if you got back home... and there was nob...</td>\n",
       "    </tr>\n",
       "    <tr>\n",
       "      <th>20850</th>\n",
       "      <td>Mud</td>\n",
       "      <td>Two teenage boys encounter a fugitive and make...</td>\n",
       "    </tr>\n",
       "    <tr>\n",
       "      <th>20612</th>\n",
       "      <td>Stolen Seas</td>\n",
       "      <td>Stolen Seas presents a chilling exploration of...</td>\n",
       "    </tr>\n",
       "    <tr>\n",
       "      <th>20052</th>\n",
       "      <td>This Is 40</td>\n",
       "      <td>Pete and Debbie are both about to turn 40, the...</td>\n",
       "    </tr>\n",
       "    <tr>\n",
       "      <th>41171</th>\n",
       "      <td>Tchoupitoulas</td>\n",
       "      <td>A  lyrical documentary that follows three adol...</td>\n",
       "    </tr>\n",
       "    <tr>\n",
       "      <th>26119</th>\n",
       "      <td>The End</td>\n",
       "      <td>A group of old friends gets together for a wee...</td>\n",
       "    </tr>\n",
       "  </tbody>\n",
       "</table>\n",
       "</div>"
      ],
      "text/plain": [
       "                              title  \\\n",
       "28213                Knight of Cups   \n",
       "23957  Sin City: A Dame to Kill For   \n",
       "14765         Dante's Hell Animated   \n",
       "31927          Heart of the Country   \n",
       "22176                 The Cosmonaut   \n",
       "20850                           Mud   \n",
       "20612                   Stolen Seas   \n",
       "20052                    This Is 40   \n",
       "41171                 Tchoupitoulas   \n",
       "26119                       The End   \n",
       "\n",
       "                                                overview  \n",
       "28213  Rick is a screenwriter living in Los Angeles. ...  \n",
       "23957  Some of Sin City's most hard-boiled citizens c...  \n",
       "14765  Dante's Hell Animated is a real and truthful e...  \n",
       "31927  With her husband jailed for Wall Street-based ...  \n",
       "22176  What if you got back home... and there was nob...  \n",
       "20850  Two teenage boys encounter a fugitive and make...  \n",
       "20612  Stolen Seas presents a chilling exploration of...  \n",
       "20052  Pete and Debbie are both about to turn 40, the...  \n",
       "41171  A  lyrical documentary that follows three adol...  \n",
       "26119  A group of old friends gets together for a wee...  "
      ]
     },
     "execution_count": 443,
     "metadata": {},
     "output_type": "execute_result"
    }
   ],
   "source": [
    "# Test Cell\n",
    "rec = Complex_Recommendation()\n",
    "rec.fit()\n",
    "rec.pred()\n"
   ]
  },
  {
   "cell_type": "code",
   "execution_count": null,
   "metadata": {},
   "outputs": [],
   "source": []
  }
 ],
 "metadata": {
  "colab": {
   "collapsed_sections": [
    "yGg2qCNUlVP-",
    "pV8B35A_lPbO",
    "KL6nJgS-lgzQ",
    "SIfzPtIllHUG"
   ],
   "provenance": []
  },
  "kernelspec": {
   "display_name": "Python 3 (ipykernel)",
   "language": "python",
   "name": "python3"
  },
  "language_info": {
   "codemirror_mode": {
    "name": "ipython",
    "version": 3
   },
   "file_extension": ".py",
   "mimetype": "text/x-python",
   "name": "python",
   "nbconvert_exporter": "python",
   "pygments_lexer": "ipython3",
   "version": "3.11.7"
  }
 },
 "nbformat": 4,
 "nbformat_minor": 1
}
