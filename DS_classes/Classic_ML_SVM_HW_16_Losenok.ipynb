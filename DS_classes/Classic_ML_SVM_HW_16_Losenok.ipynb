{
  "nbformat": 4,
  "nbformat_minor": 0,
  "metadata": {
    "colab": {
      "provenance": []
    },
    "kernelspec": {
      "name": "python3",
      "display_name": "Python 3"
    },
    "language_info": {
      "name": "python"
    }
  },
  "cells": [
    {
      "cell_type": "code",
      "execution_count": null,
      "metadata": {
        "id": "cXh72_-mMhFQ"
      },
      "outputs": [],
      "source": [
        "import numpy as np\n",
        "import math\n",
        "import pandas as pd\n",
        "from sklearn.model_selection import train_test_split\n",
        "from sklearn.datasets import load_iris\n",
        "from sklearn.metrics import accuracy_score\n",
        "from sklearn.metrics import mean_squared_error"
      ]
    },
    {
      "cell_type": "code",
      "source": [
        "class SVM:\n",
        "    def __init__(self, learning_rate: float = 0.0001, epochs: int = 2000, error: float = 0.01, kernel: str = 'linear'):\n",
        "        self.learning_rate = learning_rate\n",
        "        self.epochs = epochs\n",
        "        self.error = error\n",
        "        self.coef = 0\n",
        "        self.b = 0\n",
        "        self.kernel = kernel\n",
        "        self.cats = 0\n",
        "\n",
        "    def fit(self, x, y):\n",
        "        self.coef = np.zeros((len(x[0]), 1))\n",
        "        # y_pred = np.dot(x, self.coef) + self.b\n",
        "        # cost = 1/2 * (self.coef) ** 2 + np.sum(1 - y * y_pred)\n",
        "\n",
        "        if self.kernel == 'linear':\n",
        "            for _ in range(self.epochs):\n",
        "                y_pred = np.dot(x, self.coef) + self.b\n",
        "                dw = 0\n",
        "                db = 0\n",
        "                self.cats = len(np.unique(y))\n",
        "\n",
        "                for i in range(len(y)):\n",
        "                    if self.cats == 2: # SVM for binary classification w/o kernel\n",
        "                        if y_pred[i] * y[i] < 1 - self.error:\n",
        "                            dw +=  -y[i] * (np.transpose(x))[:, i]\n",
        "                            db += -y[i]\n",
        "\n",
        "                    else: # SVRegression\n",
        "                        if y[i] - y_pred[i] > self.error:\n",
        "                            dw +=  -(np.transpose(x))[:, i]\n",
        "                            db += -1\n",
        "                        elif y[i] - y_pred[i] < -self.error:\n",
        "                            dw +=  (np.transpose(x))[:, i]\n",
        "                            db += 1\n",
        "\n",
        "                dw /= len(y)\n",
        "                db /= len(y)\n",
        "                dw = np.reshape(dw, (len(x[0]), 1)) + self.coef\n",
        "\n",
        "                self.coef -= self.learning_rate * dw\n",
        "                self.b -= self.learning_rate * db\n",
        "\n",
        "        return self.coef, self.b\n",
        "\n",
        "    def predict(self, x):\n",
        "        y_pred = np.dot(x, self.coef) + self.b\n",
        "        if self.cats == 2:\n",
        "            for i in range(len(y_pred)):\n",
        "                if y_pred[i] > 0:\n",
        "                    y_pred[i] = 1\n",
        "                else:\n",
        "                    y_pred[i] = -1\n",
        "        return y_pred\n"
      ],
      "metadata": {
        "id": "UaTrLIOLM9Yl"
      },
      "execution_count": null,
      "outputs": []
    },
    {
      "cell_type": "code",
      "source": [
        "df = load_iris(as_frame = True)\n",
        "df.target\n",
        "fm = df.data\n",
        "fm['target'] = df.target\n",
        "fm['target'] = fm['target'].map({0: 1, 1: -1, 2: 1})\n",
        "X = fm.drop('target', axis=1)\n",
        "X = X.values\n",
        "y = fm['target'].values\n",
        "X_train, X_test, y_train, y_test = train_test_split(X, y, test_size=0.2, random_state=42)"
      ],
      "metadata": {
        "id": "S2qGSjhtfphE"
      },
      "execution_count": null,
      "outputs": []
    },
    {
      "cell_type": "code",
      "source": [
        "model = SVM_2(epochs=10000, learning_rate= 0.001)\n",
        "model.fit(X_train, y_train)\n",
        "y_pred = model.predict(X_test)\n",
        "\n",
        "accuracy = accuracy_score(y_test, y_pred)\n",
        "print(\"Accuracy:\", accuracy)\n",
        "\n"
      ],
      "metadata": {
        "colab": {
          "base_uri": "https://localhost:8080/"
        },
        "id": "T5G5LEBzobun",
        "outputId": "3fd99a9e-33f7-4d39-b667-24f628cebb5d"
      },
      "execution_count": null,
      "outputs": [
        {
          "output_type": "stream",
          "name": "stdout",
          "text": [
            "Accuracy: 0.7\n"
          ]
        }
      ]
    }
  ]
}