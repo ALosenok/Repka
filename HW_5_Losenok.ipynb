{
  "nbformat": 4,
  "nbformat_minor": 0,
  "metadata": {
    "colab": {
      "provenance": []
    },
    "kernelspec": {
      "name": "python3",
      "display_name": "Python 3"
    },
    "language_info": {
      "name": "python"
    }
  },
  "cells": [
    {
      "cell_type": "code",
      "execution_count": 22,
      "metadata": {
        "colab": {
          "base_uri": "https://localhost:8080/"
        },
        "id": "R--rUK45VZWT",
        "outputId": "70b34b65-7e24-4ecc-c0a6-2c1d95c3dd9f"
      },
      "outputs": [
        {
          "output_type": "stream",
          "name": "stdout",
          "text": [
            "['Мама', 'мыла', 'раму']\n"
          ]
        }
      ],
      "source": [
        "# Problem 1. String Split\n",
        "\n",
        "# 1 approach\n",
        "def spl(st):\n",
        "  st_n = st.split(\" \")\n",
        "\n",
        "\n",
        "  return  st_n\n",
        "\n",
        "\n",
        "x1 = \"Мама мыла раму\"\n",
        "print(spl(x1))\n"
      ]
    },
    {
      "cell_type": "code",
      "source": [
        "# Problem 2. Water\n",
        "import math as mt\n",
        "\n",
        "# 1 approach\n",
        "def water1(x):\n",
        "  ltr = x * 0.5\n",
        "\n",
        "\n",
        "  return mt.floor(ltr)\n",
        "\n",
        "\n",
        "# 2 approach\n",
        "def water2(x):\n",
        "  ltr = x * 0.5\n",
        "\n",
        "\n",
        "  return  ltr // 1\n",
        "\n",
        "x1 = 3\n",
        "\n",
        "print(f\"Time = {x1} ---> litres_1 = {water1(x1)} or litres_2 = {water2(x1)} \")\n",
        ""
      ],
      "metadata": {
        "colab": {
          "base_uri": "https://localhost:8080/"
        },
        "id": "8ZslY13gcxTq",
        "outputId": "95a572cd-f65f-4b23-8818-01ca02f048ec"
      },
      "execution_count": 28,
      "outputs": [
        {
          "output_type": "stream",
          "name": "stdout",
          "text": [
            "Time = 3 ---> litres_1 = 1 or litres_2 = 1.0 \n"
          ]
        }
      ]
    },
    {
      "cell_type": "code",
      "source": [
        "# Problem 3. Countdown\n",
        "\n",
        "def countdown(x):\n",
        "  lst = list()\n",
        "  for i in range(x, 0, -1):\n",
        "    lst.append(i)\n",
        "\n",
        "\n",
        "  return lst\n",
        "\n",
        "\n",
        "x1 = 5\n",
        "\n",
        "print(countdown(x1))"
      ],
      "metadata": {
        "colab": {
          "base_uri": "https://localhost:8080/"
        },
        "id": "QF1VGuVwWDpU",
        "outputId": "dfe3c703-ff81-4037-80e2-3c871338421d"
      },
      "execution_count": 29,
      "outputs": [
        {
          "output_type": "stream",
          "name": "stdout",
          "text": [
            "[5, 4, 3, 2, 1]\n"
          ]
        }
      ]
    },
    {
      "cell_type": "code",
      "source": [
        "# Problem 4. Century\n",
        "import math as m\n",
        "\n",
        "\n",
        "def century(x):\n",
        "  cnt = m.ceil(x / 100)\n",
        "\n",
        "\n",
        "  return cnt\n",
        "\n",
        "\n",
        "x1 = 1901\n",
        "\n",
        "print(century(x1))"
      ],
      "metadata": {
        "colab": {
          "base_uri": "https://localhost:8080/"
        },
        "id": "yMOjpZ6dgI8n",
        "outputId": "cf47babb-0f9e-41b5-bffa-a56fed1de5bb"
      },
      "execution_count": 34,
      "outputs": [
        {
          "output_type": "stream",
          "name": "stdout",
          "text": [
            "20\n"
          ]
        }
      ]
    },
    {
      "cell_type": "code",
      "source": [
        "# Problem 5. Int2List\n",
        "\n",
        "\n",
        "def i2l(x):\n",
        "  lst = list()\n",
        "  x = str(x)\n",
        "  for i in x:\n",
        "    i = int(i)\n",
        "    lst.append(i)\n",
        "  lst.reverse()\n",
        "\n",
        "\n",
        "  return lst\n",
        "\n",
        "\n",
        "x1 = 35421\n",
        "\n",
        "print(i2l(x1))\n"
      ],
      "metadata": {
        "colab": {
          "base_uri": "https://localhost:8080/"
        },
        "id": "MVVl0SQgg7Ae",
        "outputId": "2232691e-0442-4264-ac29-1dc17b493be9"
      },
      "execution_count": 49,
      "outputs": [
        {
          "output_type": "stream",
          "name": "stdout",
          "text": [
            "[1, 2, 4, 5, 3]\n"
          ]
        }
      ]
    },
    {
      "cell_type": "code",
      "source": [
        "# Problem 6. Matrices 2.1\n",
        "\n",
        "n = 3\n",
        "lst_1 = list()\n",
        "for i in range(n):\n",
        "  lst_2 = list()\n",
        "  for j in range(n):\n",
        "    if j % 2 == 0:\n",
        "      lst_2.append(j * n + i + 1)\n",
        "    else:\n",
        "      lst_2.append((j + 1) * n - i)\n",
        "  lst_1.append(lst_2)\n",
        "\n",
        "\n",
        "for i in lst_1:\n",
        "  print(i)\n"
      ],
      "metadata": {
        "colab": {
          "base_uri": "https://localhost:8080/"
        },
        "id": "_EjGR5n3jyWB",
        "outputId": "78005723-47a1-4097-a828-f20c9be63a78"
      },
      "execution_count": 13,
      "outputs": [
        {
          "output_type": "stream",
          "name": "stdout",
          "text": [
            "[1, 6, 7]\n",
            "[2, 5, 8]\n",
            "[3, 4, 9]\n"
          ]
        }
      ]
    },
    {
      "cell_type": "code",
      "source": [
        "# Problem 6. Matrices 2.2\n",
        "\n",
        "m = 3\n",
        "lst_3 = list()\n",
        "for x in range(m):\n",
        "  lst_4 = list()\n",
        "  for y in range(m):\n",
        "    if x % 2 == 0:\n",
        "      lst_4.append(x * m + y + 1)\n",
        "    else:\n",
        "      lst_4.append((x + 1) * m - y)\n",
        "  lst_3.append(lst_4)\n",
        "\n",
        "for i in lst_3:\n",
        "  print(i)"
      ],
      "metadata": {
        "colab": {
          "base_uri": "https://localhost:8080/"
        },
        "id": "LitqXz6urfq-",
        "outputId": "05eddc33-e6c9-4939-8e96-4b56bc08f868"
      },
      "execution_count": 17,
      "outputs": [
        {
          "output_type": "stream",
          "name": "stdout",
          "text": [
            "[1, 2, 3]\n",
            "[6, 5, 4]\n",
            "[7, 8, 9]\n"
          ]
        }
      ]
    }
  ]
}