{
 "cells": [
  {
   "cell_type": "code",
   "execution_count": 58,
   "id": "051438fc-c35e-4a4b-809e-09375902b06f",
   "metadata": {},
   "outputs": [],
   "source": [
    "import pandas as pd\n",
    "import numpy as np\n",
    "import tensorflow as tf\n",
    "from tensorflow.data import Dataset\n",
    "import tensorflow.keras as keras\n",
    "from tensorflow.keras.preprocessing.image import ImageDataGenerator\n",
    "from sklearn.metrics import confusion_matrix, f1_score, accuracy_score\n",
    "from tensorflow.keras.applications import VGG16\n",
    "from tensorflow.keras.models import Model\n",
    "import seaborn as sns\n",
    "import matplotlib.pyplot as plt"
   ]
  },
  {
   "cell_type": "code",
   "execution_count": 7,
   "id": "84316142-0f69-49c9-abf7-f981139c2112",
   "metadata": {},
   "outputs": [],
   "source": [
    "dataset_path = 'C:\\\\Users\\\\User\\\\Desktop\\\\Data_Science\\\\Projects\\\\HW_27_Image_Generators\\\\data_set_cat_dogs'"
   ]
  },
  {
   "cell_type": "code",
   "execution_count": 9,
   "id": "05e00a24-b253-4df0-a7e9-3f1331f4e253",
   "metadata": {},
   "outputs": [],
   "source": [
    "_aug_generator = ImageDataGenerator(\n",
    "                               rotation_range = 40,\n",
    "                                width_shift_range = 0.2,\n",
    "                                height_shift_range = 0.2,\n",
    "                                zoom_range = 0.2,\n",
    "                                shear_range = 0.2,\n",
    "                                horizontal_flip = True,\n",
    "                                fill_mode = 'nearest',\n",
    "                                validation_split = 0.2\n",
    "                                    )"
   ]
  },
  {
   "cell_type": "code",
   "execution_count": 11,
   "id": "0679a131-0be8-4025-8f3b-bdfb056f78ff",
   "metadata": {},
   "outputs": [
    {
     "name": "stdout",
     "output_type": "stream",
     "text": [
      "Found 814 images belonging to 2 classes.\n",
      "Found 202 images belonging to 2 classes.\n"
     ]
    }
   ],
   "source": [
    "_train_aug_generator = _aug_generator.flow_from_directory(\n",
    "    dataset_path,\n",
    "    class_mode = 'categorical',\n",
    "    seed = 123,\n",
    "    subset = 'training'\n",
    ")\n",
    "\n",
    "_test_aug_generator = _aug_generator.flow_from_directory(\n",
    "    dataset_path,\n",
    "    class_mode = 'categorical',\n",
    "    seed = 123,\n",
    "    subset = 'validation'\n",
    ")"
   ]
  },
  {
   "cell_type": "code",
   "execution_count": 13,
   "id": "9a8f51d0-b8ef-4564-92a1-140bf04f32b2",
   "metadata": {},
   "outputs": [],
   "source": [
    "train_aug_img_list = []\n",
    "train_aug_lbl_list = []\n",
    "for i in range(len(_train_aug_generator)):\n",
    "        x_batch, y_batch = _train_aug_generator[i]\n",
    "        train_aug_img_list.extend(x_batch)\n",
    "        train_aug_lbl_list.extend(y_batch)\n",
    "\n",
    "test_aug_img_list = []\n",
    "test_aug_lbl_list = []\n",
    "for i in range(len(_test_aug_generator)):\n",
    "        x_batch, y_batch = _test_aug_generator[i]\n",
    "        test_aug_img_list.extend(x_batch)\n",
    "        test_aug_lbl_list.extend(y_batch)"
   ]
  },
  {
   "cell_type": "code",
   "execution_count": 15,
   "id": "04b250d5-31c7-4b27-b29f-54c9f0d8d26c",
   "metadata": {},
   "outputs": [],
   "source": [
    "train_aug_img = np.array(train_aug_img_list)\n",
    "train_aug_lbl = np.array(train_aug_lbl_list)\n",
    "test_aug_img = np.array(test_aug_img_list)\n",
    "test_aug_lbl = np.array(test_aug_lbl_list)"
   ]
  },
  {
   "cell_type": "code",
   "execution_count": 17,
   "id": "4ffa40f1-0804-4e06-b28d-648effd52311",
   "metadata": {},
   "outputs": [],
   "source": [
    "train_aug_img_tensor = tf.convert_to_tensor(train_aug_img, dtype = np.int32)\n",
    "train_aug_lbl_tensor = tf.convert_to_tensor(train_aug_lbl, dtype = np.int32)\n",
    "test_aug_img_tensor = tf.convert_to_tensor(test_aug_img, dtype = np.int32)\n",
    "test_aug_lbl_tensor = tf.convert_to_tensor(test_aug_lbl, dtype = np.int32)"
   ]
  },
  {
   "cell_type": "code",
   "execution_count": 19,
   "id": "32173607-0f7d-4cbf-8b27-cc0e75ccef7f",
   "metadata": {},
   "outputs": [],
   "source": [
    "train_aug_ds = Dataset.from_tensor_slices((train_aug_img_tensor, train_aug_lbl_tensor))\n",
    "test_aug_ds = Dataset.from_tensor_slices((test_aug_img_tensor, test_aug_lbl_tensor))"
   ]
  },
  {
   "cell_type": "code",
   "execution_count": 21,
   "id": "51716daa-6691-45ef-888f-df2e6b739422",
   "metadata": {},
   "outputs": [],
   "source": [
    "AUTOTUNE = tf.data.AUTOTUNE\n",
    "\n",
    "_train_aug_ds = train_aug_ds.cache().batch(64).shuffle(1000).prefetch(buffer_size=AUTOTUNE)\n",
    "_test_aug_ds = test_aug_ds.cache().batch(64).prefetch(buffer_size=AUTOTUNE)"
   ]
  },
  {
   "cell_type": "code",
   "execution_count": 23,
   "id": "347b9bee-a52f-4355-adfa-1df98ff477b4",
   "metadata": {},
   "outputs": [],
   "source": [
    "normalize_layer = keras.layers.Rescaling(1./255)"
   ]
  },
  {
   "cell_type": "code",
   "execution_count": 25,
   "id": "74f9a02e-7a83-4c16-b71d-4a6753941dc0",
   "metadata": {},
   "outputs": [
    {
     "name": "stdout",
     "output_type": "stream",
     "text": [
      "0.007843138 1.0\n"
     ]
    }
   ],
   "source": [
    "_train_aug_ds_norm = _train_aug_ds.map(lambda x, y: (normalize_layer(x), y))\n",
    "x_batch, y_batch = next(iter(_train_aug_ds_norm))\n",
    "img_0 = x_batch[0]\n",
    "print(np.min(img_0), np.max(img_0))\n",
    "\n",
    "_test_aug_ds_norm = _test_aug_ds.map(lambda x, y: (normalize_layer(x), y))"
   ]
  },
  {
   "cell_type": "code",
   "execution_count": 51,
   "id": "5a745684-fedc-4603-a48b-7944d14db70f",
   "metadata": {},
   "outputs": [],
   "source": [
    "_base_model = VGG16(weights='imagenet', include_top=False, input_shape=(256, 256, 3))"
   ]
  },
  {
   "cell_type": "code",
   "execution_count": 52,
   "id": "5302c260-1470-40e2-9ebc-0fe4b7a98970",
   "metadata": {},
   "outputs": [],
   "source": [
    "for layer in _base_model.layers:\n",
    "    layer.trainable = False\n",
    "\n",
    "x = _base_model.output\n",
    "x = keras.layers.Flatten()(x)\n",
    "x = keras.layers.Dense(256, activation = 'relu')(x)\n",
    "x = keras.layers.Dropout(0.3)(x)\n",
    "x = keras.layers.Dense(128, activation = 'relu')(x)\n",
    "predictions = keras.layers.Dense(2, activation='softmax')(x)"
   ]
  },
  {
   "cell_type": "code",
   "execution_count": 55,
   "id": "1c469052-1cea-4106-b34e-9ed823c2c472",
   "metadata": {},
   "outputs": [],
   "source": [
    "_model = Model(inputs=_base_model.input, outputs=predictions)\n",
    "_model.compile(optimizer='adam', loss='categorical_crossentropy', metrics=['accuracy'])"
   ]
  },
  {
   "cell_type": "code",
   "execution_count": 57,
   "id": "bbbdd7ef-00d0-409a-bd67-f3667616524c",
   "metadata": {},
   "outputs": [
    {
     "name": "stdout",
     "output_type": "stream",
     "text": [
      "Epoch 1/5\n",
      "\u001b[1m13/13\u001b[0m \u001b[32m━━━━━━━━━━━━━━━━━━━━\u001b[0m\u001b[37m\u001b[0m \u001b[1m357s\u001b[0m 28s/step - accuracy: 0.4864 - loss: 2.5984 - val_accuracy: 0.6931 - val_loss: 0.5705\n",
      "Epoch 2/5\n",
      "\u001b[1m13/13\u001b[0m \u001b[32m━━━━━━━━━━━━━━━━━━━━\u001b[0m\u001b[37m\u001b[0m \u001b[1m350s\u001b[0m 27s/step - accuracy: 0.5379 - loss: 1.3115 - val_accuracy: 0.6980 - val_loss: 0.5866\n",
      "Epoch 3/5\n",
      "\u001b[1m13/13\u001b[0m \u001b[32m━━━━━━━━━━━━━━━━━━━━\u001b[0m\u001b[37m\u001b[0m \u001b[1m355s\u001b[0m 28s/step - accuracy: 0.6512 - loss: 0.6897 - val_accuracy: 0.7822 - val_loss: 0.4737\n",
      "Epoch 4/5\n",
      "\u001b[1m13/13\u001b[0m \u001b[32m━━━━━━━━━━━━━━━━━━━━\u001b[0m\u001b[37m\u001b[0m \u001b[1m355s\u001b[0m 28s/step - accuracy: 0.7551 - loss: 0.5257 - val_accuracy: 0.6436 - val_loss: 0.6332\n",
      "Epoch 5/5\n",
      "\u001b[1m13/13\u001b[0m \u001b[32m━━━━━━━━━━━━━━━━━━━━\u001b[0m\u001b[37m\u001b[0m \u001b[1m349s\u001b[0m 27s/step - accuracy: 0.7722 - loss: 0.4828 - val_accuracy: 0.8069 - val_loss: 0.3938\n"
     ]
    }
   ],
   "source": [
    "history = _model.fit(_train_aug_ds_norm, epochs = 5, validation_data = _test_aug_ds_norm)"
   ]
  },
  {
   "cell_type": "code",
   "execution_count": 61,
   "id": "e6e3ae5d-4da7-4484-aa7e-9dbca2186adc",
   "metadata": {},
   "outputs": [
    {
     "name": "stdout",
     "output_type": "stream",
     "text": [
      "\u001b[1m4/4\u001b[0m \u001b[32m━━━━━━━━━━━━━━━━━━━━\u001b[0m\u001b[37m\u001b[0m \u001b[1m68s\u001b[0m 16s/step\n"
     ]
    }
   ],
   "source": [
    "_pred_base = np.argmax(_model.predict(_test_aug_ds_norm), axis = 1)"
   ]
  },
  {
   "cell_type": "code",
   "execution_count": 62,
   "id": "bcc3e23b-0337-4559-9252-0d52a65e163e",
   "metadata": {},
   "outputs": [],
   "source": [
    "_true_labels = []\n",
    "for x_batch, y_batch in _test_aug_ds_norm:\n",
    "        _true_labels.extend(np.argmax(y_batch, axis = 1))"
   ]
  },
  {
   "cell_type": "code",
   "execution_count": 63,
   "id": "e5f011c2-d531-4c04-8e02-07fbcf59339b",
   "metadata": {},
   "outputs": [
    {
     "data": {
      "text/plain": [
       "0.8050259220714742"
      ]
     },
     "execution_count": 63,
     "metadata": {},
     "output_type": "execute_result"
    }
   ],
   "source": [
    "_f1 = f1_score(_true_labels, _pred_base, average = 'weighted')\n",
    "_f1"
   ]
  },
  {
   "cell_type": "code",
   "execution_count": 71,
   "id": "914ecccf-128c-49b9-b0e2-f6dd7c97037f",
   "metadata": {},
   "outputs": [
    {
     "data": {
      "text/plain": [
       "0.806930693069307"
      ]
     },
     "execution_count": 71,
     "metadata": {},
     "output_type": "execute_result"
    }
   ],
   "source": [
    "acc = accuracy_score(_true_labels, _pred_base)\n",
    "acc"
   ]
  },
  {
   "cell_type": "code",
   "execution_count": 65,
   "id": "100b748d-9911-4d95-a86a-85a553ed780c",
   "metadata": {},
   "outputs": [
    {
     "name": "stdout",
     "output_type": "stream",
     "text": [
      "[[91  9]\n",
      " [30 72]]\n"
     ]
    },
    {
     "data": {
      "image/png": "[encoded data removed]",
      "text/plain": [
       "<Figure size 640x480 with 2 Axes>"
      ]
     },
     "metadata": {},
     "output_type": "display_data"
    }
   ],
   "source": [
    "cf = confusion_matrix(_true_labels, _pred_base)\n",
    "print(cf)\n",
    "sns.heatmap(cf, annot = True, cmap = 'Blues')\n",
    "plt.xlabel('Predicted Labels')\n",
    "plt.ylabel('True Labels')\n",
    "plt.title('Confusion Matrix')\n",
    "plt.show()"
   ]
  },
  {
   "cell_type": "code",
   "execution_count": null,
   "id": "181cbfc3-68c6-4a72-b2c8-fbbe1a5079c3",
   "metadata": {},
   "outputs": [],
   "source": []
  }
 ],
 "metadata": {
  "kernelspec": {
   "display_name": "Python 3 (ipykernel)",
   "language": "python",
   "name": "python3"
  },
  "language_info": {
   "codemirror_mode": {
    "name": "ipython",
    "version": 3
   },
   "file_extension": ".py",
   "mimetype": "text/x-python",
   "name": "python",
   "nbconvert_exporter": "python",
   "pygments_lexer": "ipython3",
   "version": "3.11.7"
  }
 },
 "nbformat": 4,
 "nbformat_minor": 5
}
