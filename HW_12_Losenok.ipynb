{
  "nbformat": 4,
  "nbformat_minor": 0,
  "metadata": {
    "colab": {
      "provenance": []
    },
    "kernelspec": {
      "name": "python3",
      "display_name": "Python 3"
    },
    "language_info": {
      "name": "python"
    }
  },
  "cells": [
    {
      "cell_type": "markdown",
      "source": [
        "## 1. Combinatorics"
      ],
      "metadata": {
        "id": "nZbB4T7E1YfX"
      }
    },
    {
      "cell_type": "code",
      "execution_count": 3,
      "metadata": {
        "colab": {
          "base_uri": "https://localhost:8080/"
        },
        "id": "xaCuHABt0zao",
        "outputId": "39d9141c-61f1-422e-bad0-b27ca9bc7eca"
      },
      "outputs": [
        {
          "output_type": "stream",
          "name": "stdout",
          "text": [
            "24360\n"
          ]
        }
      ],
      "source": [
        "import math\n",
        "# Task 1. 3 different duties for 30 students\n",
        "\n",
        "print(30 * 29 * 28)"
      ]
    },
    {
      "cell_type": "code",
      "source": [
        "# Task 2. 2 Postmen, 10 letters and 10 addresses\n",
        "\n",
        "# 1 letter normally is addresss to one specific address so letters-addresses have just 1 combination\n",
        "\n",
        "print(2 * 10)"
      ],
      "metadata": {
        "colab": {
          "base_uri": "https://localhost:8080/"
        },
        "id": "KuYjvWpJ2Q6W",
        "outputId": "fd0929e9-eb8f-4dd5-d1e2-5cfb124e2437"
      },
      "execution_count": 3,
      "outputs": [
        {
          "output_type": "stream",
          "name": "stdout",
          "text": [
            "20\n"
          ]
        }
      ]
    },
    {
      "cell_type": "code",
      "source": [
        "# Task 3. Sparepart\n",
        "# There are 100 total. 30 - 1st qty, 50 - 2nd qty. Combintions ot withdraw 1st or 2nd\n",
        "\n",
        "n = 30 + 50 # 1st and 2nd quality together\n",
        "\n",
        "print(f'{n} combinations exists or {n/100} probability')"
      ],
      "metadata": {
        "colab": {
          "base_uri": "https://localhost:8080/"
        },
        "id": "Wa9UQZdU3eiv",
        "outputId": "ce076e02-b7da-4796-c32b-9219506a3644"
      },
      "execution_count": 2,
      "outputs": [
        {
          "output_type": "stream",
          "name": "stdout",
          "text": [
            "80 combinations exists or 0.8 probability\n"
          ]
        }
      ]
    },
    {
      "cell_type": "code",
      "source": [
        "# Task 5. Talent show.\n",
        "# 7 contestant with random ordering. How many combinations?\n",
        "\n",
        "# all the contestants must be ordered so we can use factorial to find number of combinations\n",
        "\n",
        "print(f'{math.factorial(7)} combinations')"
      ],
      "metadata": {
        "colab": {
          "base_uri": "https://localhost:8080/"
        },
        "id": "-rNbBbAi4WTf",
        "outputId": "64bb4de0-20a1-40e9-e8a7-4d596c2fb615"
      },
      "execution_count": 5,
      "outputs": [
        {
          "output_type": "stream",
          "name": "stdout",
          "text": [
            "5040 combinations\n"
          ]
        }
      ]
    },
    {
      "cell_type": "code",
      "source": [
        "# Task 6. Movie festival\n",
        "#5 nomitanions, 10 movies. taking in account that 1 movie - 1 nomination. How many combinations?\n",
        "\n",
        "print(10 * 9 * 8 * 7 * 6)"
      ],
      "metadata": {
        "colab": {
          "base_uri": "https://localhost:8080/"
        },
        "id": "w8WKpK_75CSx",
        "outputId": "ad550391-303b-4033-fd3b-02fdcf3d76d2"
      },
      "execution_count": 6,
      "outputs": [
        {
          "output_type": "stream",
          "name": "stdout",
          "text": [
            "30240\n"
          ]
        }
      ]
    },
    {
      "cell_type": "code",
      "source": [
        "# Task 7. Chess tournament.\n",
        "# 16 contestants. Each must to play with all the others. How many games?\n",
        "\n",
        "#Each from 16 must play with 15. Total is 16 * 15\n",
        "\n",
        "print(16 * 15 / 2)"
      ],
      "metadata": {
        "colab": {
          "base_uri": "https://localhost:8080/"
        },
        "id": "eW0mtRYe6YVG",
        "outputId": "c3841156-ae3f-4a52-f817-77b64654f879"
      },
      "execution_count": 9,
      "outputs": [
        {
          "output_type": "stream",
          "name": "stdout",
          "text": [
            "120.0\n"
          ]
        }
      ]
    },
    {
      "cell_type": "code",
      "source": [
        "# Task 8. Movie festival 2.\n",
        "# Task 6 but each movie can have few prizes.\n",
        "\n",
        "# Now for each prize we have the sme number of nominations - 10. Total of combinations is 10 ** 5\n",
        "\n",
        "print(10 ** 5)"
      ],
      "metadata": {
        "colab": {
          "base_uri": "https://localhost:8080/"
        },
        "id": "veL6El_Y6rfv",
        "outputId": "9e901010-5bb3-40f8-8c2d-ce2c0470e183"
      },
      "execution_count": 8,
      "outputs": [
        {
          "output_type": "stream",
          "name": "stdout",
          "text": [
            "100000\n"
          ]
        }
      ]
    },
    {
      "cell_type": "code",
      "source": [
        "# Task 9. Garden.\n",
        "# 3 days. 6 trees. No less than 1 tree per day. How many combinations?\n",
        "\n",
        "# We have 5 spaces between trees. And have to choose 2 of them to define days\n",
        "\n",
        "n = math.factorial(5) / (math.factorial(5 - 2) * math.factorial(2))\n",
        "\n",
        "print(n)\n",
        "\n",
        "'''\n",
        "Difficult to imagine. Need more explanation\n",
        "'''"
      ],
      "metadata": {
        "colab": {
          "base_uri": "https://localhost:8080/"
        },
        "id": "HPhkmuM57W9t",
        "outputId": "1e262c90-fb65-4aee-afe8-eae120e53bcf"
      },
      "execution_count": 12,
      "outputs": [
        {
          "output_type": "stream",
          "name": "stdout",
          "text": [
            "10.0\n"
          ]
        }
      ]
    },
    {
      "cell_type": "code",
      "source": [
        "# Task 5. 4 digit number\n",
        "# How many combinations of 4 digits exists sum of wich is equal to 5\n",
        "\n",
        "#Let´s select all possible digits and find combinations which they can construct\n",
        "\n",
        "c_0005 = math.factorial(4) / (math.factorial(3) * math.factorial(1))\n",
        "c_1112 = math.factorial(4) / (math.factorial(3) * math.factorial(1))\n",
        "c_1004 = math.factorial(4) / (math.factorial(2) * math.factorial(1) * math.factorial(1))\n",
        "c_1103 = math.factorial(4) / (math.factorial(2) * math.factorial(1) * math.factorial(1))\n",
        "c_2003 = math.factorial(4) / (math.factorial(2) * math.factorial(1) * math.factorial(1))\n",
        "c_2102 = math.factorial(4) / (math.factorial(2) * math.factorial(1) * math.factorial(1))\n",
        "\n",
        "tot_numbers = c_0005 + c_1112 + c_1004 + c_1103 + c_2003 + c_2102\n",
        "\n",
        "print(f'{tot_numbers} combinatios of 4 digits with sum 5 exists' )\n",
        "\n",
        "\n",
        "'''\n",
        "If can´t start with 0?\n",
        "'''"
      ],
      "metadata": {
        "colab": {
          "base_uri": "https://localhost:8080/"
        },
        "id": "rYD4SY7NTxDe",
        "outputId": "e60dd055-3ecd-45d1-fcae-fbcaa5747646"
      },
      "execution_count": 18,
      "outputs": [
        {
          "output_type": "stream",
          "name": "stdout",
          "text": [
            "56.0 combinatios of 4 digits with sum 5 exists\n"
          ]
        }
      ]
    },
    {
      "cell_type": "code",
      "source": [
        "# Task 11. A, B and C student groups\n",
        "# How many ways to split 25 students into tree groups 6 ,9 ,10\n",
        "\n",
        "group_6 = math.factorial(25) / (math.factorial(25 - 6) * math.factorial(6)) # Combinations to select 6 students\n",
        "\n",
        "# after that step we have 19 students and must to select a group of nine, a group of 10 is a residual\n",
        "\n",
        "group_9 = math.factorial(19) / (math.factorial(19 - 9) * math.factorial(9)) # Combinations to select 9 students\n",
        "\n",
        "tot_comb = group_6 * group_9 # Combination of 3 groups in order 6 -> 9 -> 10\n",
        "\n",
        "print(group_6 * group_9)\n",
        "\n",
        "\n",
        "# 2nd Approach\n",
        "n_group = math.factorial(25) / (math.factorial(6) * math.factorial(9) * math.factorial(10))\n",
        "\n",
        "\n",
        "print(n_group)"
      ],
      "metadata": {
        "colab": {
          "base_uri": "https://localhost:8080/"
        },
        "id": "2DmOETWRUODb",
        "outputId": "50549162-9370-4ee7-fc55-64082983e160"
      },
      "execution_count": 20,
      "outputs": [
        {
          "output_type": "stream",
          "name": "stdout",
          "text": [
            "16360143800.0\n",
            "16360143800.0\n"
          ]
        }
      ]
    },
    {
      "cell_type": "code",
      "source": [
        "# Task 12. three - 4, two - 5 and two - 6\n",
        "\n",
        "#combination of any specific 7 number will have 7! variations but here we have some numbers repeated\n",
        "\n",
        "print(math.factorial(7) / (math.factorial(3) * math.factorial(2) * math.factorial(2)))"
      ],
      "metadata": {
        "colab": {
          "base_uri": "https://localhost:8080/"
        },
        "id": "eZP5eGGtTx0n",
        "outputId": "f77dcd3d-b141-413d-c525-e8df93dc6c85"
      },
      "execution_count": 17,
      "outputs": [
        {
          "output_type": "stream",
          "name": "stdout",
          "text": [
            "210.0\n"
          ]
        }
      ]
    },
    {
      "cell_type": "markdown",
      "source": [
        "# 2. Classic theory of probabilities"
      ],
      "metadata": {
        "id": "FJIGFn0rnFpk"
      }
    },
    {
      "cell_type": "code",
      "source": [
        "# Task 1. Fruits\n",
        "# 5 oranges and 4 apples. What is a probability to withdraw 3 oranges?\n",
        "\n",
        "n = (5 / 9) * (4 / 8) * (3 / 7) # Each trial we have success options divide by total options chance\n",
        "\n",
        "print(n)"
      ],
      "metadata": {
        "colab": {
          "base_uri": "https://localhost:8080/"
        },
        "id": "_KbSDEClZ6F9",
        "outputId": "431c2129-9ec5-4227-f2af-292cc7d58d60"
      },
      "execution_count": 18,
      "outputs": [
        {
          "output_type": "stream",
          "name": "stdout",
          "text": [
            "0.11904761904761904\n"
          ]
        }
      ]
    },
    {
      "cell_type": "code",
      "source": [
        "#Task 2. Imaginary numbers.\n",
        "# 3 students must select a number 1 - 10. What is the probability that any students select the same number\n",
        "\n",
        "# Chance between the 1st and the 2nd, the 2nd and the 3rd, the 1st and the 3rd is 1/10.\n",
        "# Chance between any of the and two another at the same time 1 / 100\n",
        "\n",
        "tot_prob = (1 / 10) + (1 / 10) + (1 / 10) + (1 / 100)\n",
        "\n",
        "print(tot_prob)"
      ],
      "metadata": {
        "colab": {
          "base_uri": "https://localhost:8080/"
        },
        "id": "zX29sDpaauCj",
        "outputId": "c4203045-5e22-4ea1-ca3b-9a94c5776935"
      },
      "execution_count": 1,
      "outputs": [
        {
          "output_type": "stream",
          "name": "stdout",
          "text": [
            "0.31000000000000005\n"
          ]
        }
      ]
    },
    {
      "cell_type": "code",
      "source": [
        "# Task 3. Eight digit number\n",
        "# Prob that in 8-digit number 4 digits are equal and the others differ\n",
        "\n",
        "'''\n",
        "Imagine a number like this ** *** ***\n",
        "Lets suppose the the 1st digit cant be a zero. It means that a probability to select any number\n",
        "for the 1st position is 1/9 and for the positions 2nd to the last is 1 / 10.\n",
        "Lets suppose that we want the 1st digit to be repeated more 3 times.\n",
        "The selection of a first digit has 100% probability because it does not matter\n",
        "The probability of that will be:\n",
        "'''\n",
        "p_1st_4times = 1 * (1/10) * (1/10) * (1/10)\n",
        "\n",
        "'''\n",
        "The other digits must be different so for each next digit we have less options to select from:\n",
        "5th digit - 9 / 10 (because we can't choose the digit chosen before anymore)\n",
        "6th digit - 8 / 10 (we can´t choose the 1st and the 5th digit)\n",
        "etc\n",
        "'''\n",
        "p_5 = 9 / 10\n",
        "p_6 = 8 / 10\n",
        "p_7 = 7 / 10\n",
        "p_8 = 6 / 10\n",
        "\n",
        "prob_of_digit = p_1st_4times * p_5 * p_6 * p_7 * p_8\n",
        "\n",
        "print(f'Chance equal to {prob_of_digit} or {int(prob_of_digit * 10000000)} numbers')"
      ],
      "metadata": {
        "colab": {
          "base_uri": "https://localhost:8080/"
        },
        "id": "1a2CTRTmbab7",
        "outputId": "ae309044-7ffd-48e7-ea59-bea038fde22e"
      },
      "execution_count": 16,
      "outputs": [
        {
          "output_type": "stream",
          "name": "stdout",
          "text": [
            "Chance equal to 0.00030240000000000003 or 3024 numbers\n"
          ]
        }
      ]
    },
    {
      "cell_type": "code",
      "source": [
        "# Task 4. Tourists.\n",
        "# 6 clients and 5 travel companies. What is the chance that at least one company receive no clients\n",
        "\n",
        "# Regardless the number of clients he chance that client will visit a company is 1 / 5\n",
        "# which means, the chance that nobody visit at least one company is:\n",
        "\n",
        "no_visit_chance = 1 - (1 / 5)\n",
        "\n",
        "print(no_visit_chance)"
      ],
      "metadata": {
        "colab": {
          "base_uri": "https://localhost:8080/"
        },
        "id": "BpZJUPIdo5iD",
        "outputId": "739298c7-9a13-4725-83e9-eeb62a870bc5"
      },
      "execution_count": 6,
      "outputs": [
        {
          "output_type": "stream",
          "name": "stdout",
          "text": [
            "0.8\n"
          ]
        }
      ]
    },
    {
      "cell_type": "markdown",
      "source": [
        "# 3. Main formulas of the theory of probabilities"
      ],
      "metadata": {
        "id": "OLEPWSBqqyDV"
      }
    },
    {
      "cell_type": "code",
      "source": [
        "# Task 1. Buttons.\n",
        "# 10 red and 5 blue. 2 trials. What is the probability that the buttons are of the same color?\n",
        "\n",
        "red_same = (10 / 15) * (9 / 14) # The chance that the both buttons are red\n",
        "blue_same = (5 / 15) * (4 / 14) # The chance that the both buttons are blue\n",
        "\n",
        "same_chance = red_same + blue_same # Chance that one of the cases happens\n",
        "\n",
        "print(same_chance)"
      ],
      "metadata": {
        "colab": {
          "base_uri": "https://localhost:8080/"
        },
        "id": "MEypu7K_q34J",
        "outputId": "afc047b6-8288-4688-8a2b-04a455019740"
      },
      "execution_count": 7,
      "outputs": [
        {
          "output_type": "stream",
          "name": "stdout",
          "text": [
            "0.5238095238095238\n"
          ]
        }
      ]
    },
    {
      "cell_type": "code",
      "source": [
        "# Task 2. Multilinguists.\n",
        "# eng -28%, deutch - 30%, french - 42%, eng + dtch - 8%, eng - fr - 10%,\n",
        "# dtch + fr - 5%, eng + dtch + fr = 3%\n",
        "\n",
        "eng_dtch_fr = 0.03\n",
        "eng_dtch_wo_fr = 0.08 - eng_dtch_fr # Share of people who speaks eng or deutch but not french\n",
        "eng_fr_wo_dtch = 0.1 - eng_dtch_fr  # Share of people who speaks eng or french but not deutch\n",
        "dtch_fr_wo_eng = 0.05 - eng_dtch_fr # Share of people who speaks deutch or french but not eng\n",
        "\n",
        "only_english = 0.28 - eng_dtch_wo_fr - eng_fr_wo_dtch - eng_dtch_fr # Share of people who speaks only eng\n",
        "only_deutch = 0.3 - eng_dtch_wo_fr - dtch_fr_wo_eng - eng_dtch_fr # Share of people who speaks only deutch\n",
        "only_french = 0.42 - eng_fr_wo_dtch - dtch_fr_wo_eng - eng_dtch_fr  # Share of people who speaks only fr\n",
        "\n",
        "prob_eng_or_dtch = only_english + only_deutch + eng_dtch_wo_fr + eng_fr_wo_dtch + dtch_fr_wo_eng + eng_dtch_fr # Probability of select someone speaking english or german or both\n",
        "prob_eng_or_dtch_or_french = only_english + only_deutch + only_french + eng_dtch_wo_fr + eng_fr_wo_dtch + dtch_fr_wo_eng + eng_dtch_fr # Probability of select someone speaking english or german or french or three\n",
        "prob_no_language = 1 - prob_eng_or_dtch_or_french # Probability of select anyone who knows none of foreign languages\n",
        "\n",
        "print(f'Probability of eng/ger is {prob_eng_or_dtch}, eng/ger/fr is {prob_eng_or_dtch_or_french}, no language is {prob_no_language}')"
      ],
      "metadata": {
        "colab": {
          "base_uri": "https://localhost:8080/"
        },
        "id": "iq6x7H5YrnnG",
        "outputId": "e1ea76d5-ef26-4ea4-8e14-c3c6178e526a"
      },
      "execution_count": 11,
      "outputs": [
        {
          "output_type": "stream",
          "name": "stdout",
          "text": [
            "Probability of eng/ger is 0.5, eng/ger/fr is 0.8, no language is 0.19999999999999996\n"
          ]
        }
      ]
    },
    {
      "cell_type": "code",
      "source": [
        "# Task 3. Family.\n",
        "# Two children of diff gender. What is prob of that the older is a boy?\n",
        "\n",
        "# We have two possible results for older/yonger pairs: boy/girl and girl/boy, so chance is:\n",
        "\n",
        "prob_boy = 1 / 2\n",
        "\n",
        "print(prob_boy)"
      ],
      "metadata": {
        "colab": {
          "base_uri": "https://localhost:8080/"
        },
        "id": "607KtSLa8hLJ",
        "outputId": "b0680cc9-09a7-44ee-be56-f57fa0df7959"
      },
      "execution_count": 12,
      "outputs": [
        {
          "output_type": "stream",
          "name": "stdout",
          "text": [
            "0.5\n"
          ]
        }
      ]
    }
  ]
}