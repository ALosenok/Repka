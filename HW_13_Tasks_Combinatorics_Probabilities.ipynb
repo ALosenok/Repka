{
  "nbformat": 4,
  "nbformat_minor": 0,
  "metadata": {
    "colab": {
      "provenance": []
    },
    "kernelspec": {
      "name": "python3",
      "display_name": "Python 3"
    },
    "language_info": {
      "name": "python"
    }
  },
  "cells": [
    {
      "cell_type": "code",
      "execution_count": 6,
      "metadata": {
        "colab": {
          "base_uri": "https://localhost:8080/"
        },
        "id": "kU8o2jDFxq8B",
        "outputId": "926398f5-1eda-4c57-e56f-c587cdca501b"
      },
      "outputs": [
        {
          "output_type": "stream",
          "name": "stdout",
          "text": [
            "0.005\n"
          ]
        }
      ],
      "source": [
        "import math\n",
        "# Task 1. Talevisions.\n",
        "# 1000 tv. 5 are broken. 1 trial. What is the prob to select a broken?\n",
        "print(5 / 1000)"
      ]
    },
    {
      "cell_type": "code",
      "source": [
        "#Task 2. Balls.\n",
        "# 9 red, 6 yellow, 5 green. 1 trial. What is the prob of yellow\n",
        "print(6/20)"
      ],
      "metadata": {
        "colab": {
          "base_uri": "https://localhost:8080/"
        },
        "id": "Gg2PF-dLyGHR",
        "outputId": "84b427db-af5b-4551-e511-3ed05ddbaf1e"
      },
      "execution_count": 2,
      "outputs": [
        {
          "output_type": "stream",
          "name": "stdout",
          "text": [
            "0.3\n"
          ]
        }
      ]
    },
    {
      "cell_type": "code",
      "source": [
        "#Task 3. Football\n",
        "# 16 teams. 4 teams in each group. What the prob to be in a group?\n",
        "print(4/16)"
      ],
      "metadata": {
        "colab": {
          "base_uri": "https://localhost:8080/"
        },
        "id": "i4DPqYKPyWff",
        "outputId": "406563b6-c08b-488c-ed72-2ea1b01aed4a"
      },
      "execution_count": 3,
      "outputs": [
        {
          "output_type": "stream",
          "name": "stdout",
          "text": [
            "0.25\n"
          ]
        }
      ]
    },
    {
      "cell_type": "code",
      "source": [
        "#Task 4. Camping\n",
        "# 8 tourists. 6 to be selected. What the prob to be in a group?\n",
        "print(6/8)"
      ],
      "metadata": {
        "colab": {
          "base_uri": "https://localhost:8080/"
        },
        "id": "1t7N5NHEy49H",
        "outputId": "c6088a1a-fbe4-4aa0-df82-31c499273648"
      },
      "execution_count": 4,
      "outputs": [
        {
          "output_type": "stream",
          "name": "stdout",
          "text": [
            "0.75\n"
          ]
        }
      ]
    },
    {
      "cell_type": "code",
      "source": [
        "#Task 5. Football\n",
        "# 16 teams. 4 teams in each group. What the prob to not be in a group?\n",
        "print(12/16)"
      ],
      "metadata": {
        "colab": {
          "base_uri": "https://localhost:8080/"
        },
        "id": "RQbAnVcIzJ3X",
        "outputId": "8bf7c5fb-499d-438c-f1b0-68de9c979052"
      },
      "execution_count": 5,
      "outputs": [
        {
          "output_type": "stream",
          "name": "stdout",
          "text": [
            "0.75\n"
          ]
        }
      ]
    },
    {
      "cell_type": "code",
      "source": [
        "# Task 6. Friends.\n",
        "# 21 students. Splited into 7 gorups of 3. A and N are friends. Prob they are together?\n",
        "\n",
        "comb_groups_AN_smn = 1 * 1 * 19\n",
        "other_groups_of_AN_smn = math.factorial(21 - 3) / (math.factorial(3) ** 6)\n",
        "comb_tot_AN_together = comb_groups_AN_smn * other_groups_of_AN_smn\n",
        "\n",
        "comb_groups = math.factorial(21) / (math.factorial(3) ** 7)\n",
        "\n",
        "print(comb_tot_AN_together / comb_groups)"
      ],
      "metadata": {
        "colab": {
          "base_uri": "https://localhost:8080/"
        },
        "id": "9DXIPFKZzWm_",
        "outputId": "e6c49f32-7999-4fd7-e45d-3723b11ec833"
      },
      "execution_count": 12,
      "outputs": [
        {
          "output_type": "stream",
          "name": "stdout",
          "text": [
            "0.014285714285714285\n"
          ]
        }
      ]
    },
    {
      "cell_type": "code",
      "source": [
        "# Task 7. Watch.\n",
        "# The watch is broken. Prob that hour hand stopped >= 7 and < 1\n",
        "\n",
        "# 12 intervals total. 6 success intervals.\n",
        "print(6/12)"
      ],
      "metadata": {
        "colab": {
          "base_uri": "https://localhost:8080/"
        },
        "id": "Ym58KwcS5MEA",
        "outputId": "8474dd41-8254-4a70-d508-59b067f1730e"
      },
      "execution_count": 13,
      "outputs": [
        {
          "output_type": "stream",
          "name": "stdout",
          "text": [
            "0.5\n"
          ]
        }
      ]
    },
    {
      "cell_type": "code",
      "source": [
        "# Task 8. Watch 2.\n",
        "# The watch is broken. Prob that hour hand stopped >= 6 and < 9\n",
        "\n",
        "# 12 intervals total. 3 success intervals.\n",
        "print(3/12)"
      ],
      "metadata": {
        "colab": {
          "base_uri": "https://localhost:8080/"
        },
        "id": "3xQLq4Y66Kzt",
        "outputId": "c2b376f0-6acf-40ee-95a9-e02a27603b2b"
      },
      "execution_count": 14,
      "outputs": [
        {
          "output_type": "stream",
          "name": "stdout",
          "text": [
            "0.25\n"
          ]
        }
      ]
    },
    {
      "cell_type": "code",
      "source": [
        "# Task 9. Coin.\n",
        "# 2 trials. That is the prob head just once\n",
        "prob_head = 0.5 # any trial head prob\n",
        "prob_tail = 0.5 # any trial tail prob\n",
        "\n",
        "common_prob = prob_head * prob_tail\n",
        "print(common_prob)"
      ],
      "metadata": {
        "colab": {
          "base_uri": "https://localhost:8080/"
        },
        "id": "iOFTWAYk65Qt",
        "outputId": "09fc4b5f-0055-4286-8ec6-2f2157033918"
      },
      "execution_count": 16,
      "outputs": [
        {
          "output_type": "stream",
          "name": "stdout",
          "text": [
            "0.25\n"
          ]
        }
      ]
    },
    {
      "cell_type": "code",
      "source": [
        "# Task 10. Coin 2.\n",
        "# 2 trials. That is the prob of no head\n",
        "prob_head = 0.5 # any trial head prob\n",
        "prob_tail = 0.5 # any trial tail prob\n",
        "\n",
        "common_prob = prob_tail * prob_tail\n",
        "print(common_prob)"
      ],
      "metadata": {
        "colab": {
          "base_uri": "https://localhost:8080/"
        },
        "id": "7HNfn3EQ7u2k",
        "outputId": "45ad8534-c268-4e66-f477-277cbaf2f21a"
      },
      "execution_count": 17,
      "outputs": [
        {
          "output_type": "stream",
          "name": "stdout",
          "text": [
            "0.25\n"
          ]
        }
      ]
    },
    {
      "cell_type": "code",
      "source": [
        "# Task 11. Ballpen.\n",
        "# 0.19 prob of a pen does not work. What is the prob of it is working?\n",
        "\n",
        "print(1 - 0.19)"
      ],
      "metadata": {
        "colab": {
          "base_uri": "https://localhost:8080/"
        },
        "id": "nWdeSEwi8APO",
        "outputId": "40a1611a-440e-4c41-8d46-8f4d583f65ea"
      },
      "execution_count": 18,
      "outputs": [
        {
          "output_type": "stream",
          "name": "stdout",
          "text": [
            "0.81\n"
          ]
        }
      ]
    },
    {
      "cell_type": "code",
      "source": [
        "# Task 12. Bearings.\n",
        "# Prob that diam differs not more than 0.01 is 0.965. What the prob it differs more?\n",
        "\n",
        "print(1 - 0.965)"
      ],
      "metadata": {
        "colab": {
          "base_uri": "https://localhost:8080/"
        },
        "id": "SCbf2J1D8zKs",
        "outputId": "fc4a6b87-dffb-441f-ed82-0c13c7af0595"
      },
      "execution_count": 19,
      "outputs": [
        {
          "output_type": "stream",
          "name": "stdout",
          "text": [
            "0.03500000000000003\n"
          ]
        }
      ]
    },
    {
      "cell_type": "code",
      "source": [
        "# Task 13. Examen.\n",
        "# Prob of Angles topic is 0.1. Prob of Parall topic is 0.6. What is the common prob?\n",
        "# if there is no problems with common topic\n",
        "\n",
        "print(0.6 + 0.1)"
      ],
      "metadata": {
        "id": "NGRWlkrj9Cm9"
      },
      "execution_count": null,
      "outputs": []
    }
  ]
}